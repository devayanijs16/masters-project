{
 "cells": [
  {
   "cell_type": "markdown",
   "metadata": {},
   "source": [
    "Best cuts for predicting sentiments using TextBlob and Vader were estimated in the notebooks `textblob_tuning.ipynb` and `vader_tuning.ipynb` respectively. This notebook uses those cuts to predict and analyze the sentiments as estimated by the models. Apart from that this notebook also discusses how the subjectivity scores can be used to filter tweets on the basis of how subjective or objective they are."
   ]
  },
  {
   "cell_type": "markdown",
   "metadata": {},
   "source": [
    "### Table of Content\n",
    "\n",
    "- [Imports and Configurations](#imports-and-configurations)\n",
    "- [Importing the Dataset](#importing-the-dataset)\n",
    "- [Estimating Vader Compound Scores](#estimating-vader-compound-score)\n",
    "- [Estimating TextBlob polarity and subjectivity](#estimating-textblob-polarity-and-subjectivity)\n",
    "- [Predicting Sentiment using TextBlob](#irrelevant-sentiments-text-blob)\n",
    "  - [Irrelevant Sentiments](#irrelevant-sentiments-text-blob)\n",
    "- [Predicting Sentiment using Vader](#predicting-sentiment-using-vader)\n",
    "  - [Irrelevant Sentiments](#irrelevant-sentiments-vader)\n",
    "- [Comparing Vader Compound Values with TextBlob Polarity](#comparing-vader-compound-values-with-textblob-polarity)\n",
    "- [Working with Subjectivity](#working-with-subjectivity)\n",
    "- [Conclusion](#conclusion)"
   ]
  },
  {
   "cell_type": "markdown",
   "metadata": {},
   "source": [
    "### Imports and Configurations"
   ]
  },
  {
   "cell_type": "code",
   "execution_count": 1,
   "metadata": {},
   "outputs": [],
   "source": [
    "import os\n",
    "os.environ[\"PYARROW_IGNORE_TIMEZONE\"] = \"1\""
   ]
  },
  {
   "cell_type": "code",
   "execution_count": 2,
   "metadata": {},
   "outputs": [],
   "source": [
    "import pyspark.pandas as ps\n",
    "import pandas as pd\n",
    "from vaderSentiment.vaderSentiment import SentimentIntensityAnalyzer\n",
    "from textblob import TextBlob"
   ]
  },
  {
   "cell_type": "markdown",
   "metadata": {},
   "source": [
    "### Table of Content"
   ]
  },
  {
   "cell_type": "markdown",
   "metadata": {},
   "source": [
    "### Importing the Dataset"
   ]
  },
  {
   "cell_type": "code",
   "execution_count": 3,
   "metadata": {},
   "outputs": [],
   "source": [
    "names = [\"Tweet_ID\",\"Entity\",\"Sentiment\",\"Tweet_Content\"]\n",
    "label = \"Sentiment\""
   ]
  },
  {
   "cell_type": "code",
   "execution_count": 4,
   "metadata": {},
   "outputs": [],
   "source": [
    "pdf_train = pd.read_table(\"./twitter_training.csv\",names=names,sep=\",\")\n",
    "pdf_valid = pd.read_table(\"./twitter_validation.csv\",names=names,sep=\",\")"
   ]
  },
  {
   "cell_type": "code",
   "execution_count": 5,
   "metadata": {},
   "outputs": [
    {
     "name": "stderr",
     "output_type": "stream",
     "text": [
      "/home/ghost/.cache/pypoetry/virtualenvs/socialmedia-2tHBEbUS-py3.10/lib/python3.10/site-packages/pyspark/pandas/internal.py:1573: FutureWarning: iteritems is deprecated and will be removed in a future version. Use .items instead.\n",
      "  fields = [\n",
      "Setting default log level to \"WARN\".\n",
      "To adjust logging level use sc.setLogLevel(newLevel). For SparkR, use setLogLevel(newLevel).\n"
     ]
    },
    {
     "name": "stdout",
     "output_type": "stream",
     "text": [
      "22/12/12 13:40:41 WARN NativeCodeLoader: Unable to load native-hadoop library for your platform... using builtin-java classes where applicable\n",
      "22/12/12 13:40:42 WARN Utils: Service 'SparkUI' could not bind on port 4040. Attempting port 4041.\n"
     ]
    },
    {
     "name": "stderr",
     "output_type": "stream",
     "text": [
      "/home/ghost/.cache/pypoetry/virtualenvs/socialmedia-2tHBEbUS-py3.10/lib/python3.10/site-packages/pyspark/sql/pandas/conversion.py:486: FutureWarning: iteritems is deprecated and will be removed in a future version. Use .items instead.\n",
      "  for column, series in pdf.iteritems():\n",
      "/home/ghost/.cache/pypoetry/virtualenvs/socialmedia-2tHBEbUS-py3.10/lib/python3.10/site-packages/pyspark/pandas/internal.py:1573: FutureWarning: iteritems is deprecated and will be removed in a future version. Use .items instead.\n",
      "  fields = [\n",
      "/home/ghost/.cache/pypoetry/virtualenvs/socialmedia-2tHBEbUS-py3.10/lib/python3.10/site-packages/pyspark/sql/pandas/conversion.py:486: FutureWarning: iteritems is deprecated and will be removed in a future version. Use .items instead.\n",
      "  for column, series in pdf.iteritems():\n"
     ]
    }
   ],
   "source": [
    "df = ps.concat([\n",
    "    ps.from_pandas(pdf_train),\n",
    "    ps.from_pandas(pdf_valid)\n",
    "])"
   ]
  },
  {
   "cell_type": "code",
   "execution_count": 6,
   "metadata": {},
   "outputs": [
    {
     "name": "stderr",
     "output_type": "stream",
     "text": [
      "                                                                                \r"
     ]
    },
    {
     "data": {
      "text/html": [
       "<div>\n",
       "<style scoped>\n",
       "    .dataframe tbody tr th:only-of-type {\n",
       "        vertical-align: middle;\n",
       "    }\n",
       "\n",
       "    .dataframe tbody tr th {\n",
       "        vertical-align: top;\n",
       "    }\n",
       "\n",
       "    .dataframe thead th {\n",
       "        text-align: right;\n",
       "    }\n",
       "</style>\n",
       "<table border=\"1\" class=\"dataframe\">\n",
       "  <thead>\n",
       "    <tr style=\"text-align: right;\">\n",
       "      <th></th>\n",
       "      <th>Tweet_ID</th>\n",
       "      <th>Entity</th>\n",
       "      <th>Sentiment</th>\n",
       "      <th>Tweet_Content</th>\n",
       "    </tr>\n",
       "  </thead>\n",
       "  <tbody>\n",
       "    <tr>\n",
       "      <th>0</th>\n",
       "      <td>2401</td>\n",
       "      <td>Borderlands</td>\n",
       "      <td>Positive</td>\n",
       "      <td>im getting on borderlands and i will murder yo...</td>\n",
       "    </tr>\n",
       "    <tr>\n",
       "      <th>1</th>\n",
       "      <td>2401</td>\n",
       "      <td>Borderlands</td>\n",
       "      <td>Positive</td>\n",
       "      <td>I am coming to the borders and I will kill you...</td>\n",
       "    </tr>\n",
       "    <tr>\n",
       "      <th>2</th>\n",
       "      <td>2401</td>\n",
       "      <td>Borderlands</td>\n",
       "      <td>Positive</td>\n",
       "      <td>im getting on borderlands and i will kill you ...</td>\n",
       "    </tr>\n",
       "    <tr>\n",
       "      <th>3</th>\n",
       "      <td>2401</td>\n",
       "      <td>Borderlands</td>\n",
       "      <td>Positive</td>\n",
       "      <td>im coming on borderlands and i will murder you...</td>\n",
       "    </tr>\n",
       "    <tr>\n",
       "      <th>4</th>\n",
       "      <td>2401</td>\n",
       "      <td>Borderlands</td>\n",
       "      <td>Positive</td>\n",
       "      <td>im getting on borderlands 2 and i will murder ...</td>\n",
       "    </tr>\n",
       "  </tbody>\n",
       "</table>\n",
       "</div>"
      ],
      "text/plain": [
       "   Tweet_ID       Entity Sentiment                                              Tweet_Content\n",
       "0      2401  Borderlands  Positive      im getting on borderlands and i will murder you all ,\n",
       "1      2401  Borderlands  Positive        I am coming to the borders and I will kill you all,\n",
       "2      2401  Borderlands  Positive         im getting on borderlands and i will kill you all,\n",
       "3      2401  Borderlands  Positive        im coming on borderlands and i will murder you all,\n",
       "4      2401  Borderlands  Positive  im getting on borderlands 2 and i will murder you me all,"
      ]
     },
     "execution_count": 6,
     "metadata": {},
     "output_type": "execute_result"
    }
   ],
   "source": [
    "df.dropna(inplace=True)\n",
    "df.head()"
   ]
  },
  {
   "cell_type": "markdown",
   "metadata": {},
   "source": [
    "### Estimating Vader Compound Score"
   ]
  },
  {
   "cell_type": "code",
   "execution_count": 7,
   "metadata": {},
   "outputs": [],
   "source": [
    "analyzer = SentimentIntensityAnalyzer()"
   ]
  },
  {
   "cell_type": "code",
   "execution_count": 8,
   "metadata": {},
   "outputs": [],
   "source": [
    "def getVaderSentimentScore(tweet):\n",
    "    result = analyzer.polarity_scores(tweet)\n",
    "    return result[\"compound\"]"
   ]
  },
  {
   "cell_type": "code",
   "execution_count": 9,
   "metadata": {},
   "outputs": [
    {
     "name": "stderr",
     "output_type": "stream",
     "text": [
      "/home/ghost/.cache/pypoetry/virtualenvs/socialmedia-2tHBEbUS-py3.10/lib/python3.10/site-packages/pyspark/pandas/internal.py:1573: FutureWarning: iteritems is deprecated and will be removed in a future version. Use .items instead.\n",
      "  fields = [\n",
      "/home/ghost/.cache/pypoetry/virtualenvs/socialmedia-2tHBEbUS-py3.10/lib/python3.10/site-packages/pyspark/sql/pandas/conversion.py:486: FutureWarning: iteritems is deprecated and will be removed in a future version. Use .items instead.\n",
      "  for column, series in pdf.iteritems():\n"
     ]
    }
   ],
   "source": [
    "df[\"VADER_compound\"] = df[label].apply(getVaderSentimentScore)"
   ]
  },
  {
   "cell_type": "code",
   "execution_count": 10,
   "metadata": {},
   "outputs": [
    {
     "name": "stderr",
     "output_type": "stream",
     "text": [
      "/home/ghost/.cache/pypoetry/virtualenvs/socialmedia-2tHBEbUS-py3.10/lib/python3.10/site-packages/pyspark/python/lib/pyspark.zip/pyspark/pandas/internal.py:1573: FutureWarning: iteritems is deprecated and will be removed in a future version. Use .items instead.\n",
      "                                                                                \r"
     ]
    },
    {
     "data": {
      "text/html": [
       "<div>\n",
       "<style scoped>\n",
       "    .dataframe tbody tr th:only-of-type {\n",
       "        vertical-align: middle;\n",
       "    }\n",
       "\n",
       "    .dataframe tbody tr th {\n",
       "        vertical-align: top;\n",
       "    }\n",
       "\n",
       "    .dataframe thead th {\n",
       "        text-align: right;\n",
       "    }\n",
       "</style>\n",
       "<table border=\"1\" class=\"dataframe\">\n",
       "  <thead>\n",
       "    <tr style=\"text-align: right;\">\n",
       "      <th></th>\n",
       "      <th>Tweet_ID</th>\n",
       "      <th>Entity</th>\n",
       "      <th>Sentiment</th>\n",
       "      <th>Tweet_Content</th>\n",
       "      <th>VADER_compound</th>\n",
       "    </tr>\n",
       "  </thead>\n",
       "  <tbody>\n",
       "    <tr>\n",
       "      <th>0</th>\n",
       "      <td>2401</td>\n",
       "      <td>Borderlands</td>\n",
       "      <td>Positive</td>\n",
       "      <td>im getting on borderlands and i will murder yo...</td>\n",
       "      <td>0.5574</td>\n",
       "    </tr>\n",
       "    <tr>\n",
       "      <th>1</th>\n",
       "      <td>2401</td>\n",
       "      <td>Borderlands</td>\n",
       "      <td>Positive</td>\n",
       "      <td>I am coming to the borders and I will kill you...</td>\n",
       "      <td>0.5574</td>\n",
       "    </tr>\n",
       "    <tr>\n",
       "      <th>2</th>\n",
       "      <td>2401</td>\n",
       "      <td>Borderlands</td>\n",
       "      <td>Positive</td>\n",
       "      <td>im getting on borderlands and i will kill you ...</td>\n",
       "      <td>0.5574</td>\n",
       "    </tr>\n",
       "    <tr>\n",
       "      <th>3</th>\n",
       "      <td>2401</td>\n",
       "      <td>Borderlands</td>\n",
       "      <td>Positive</td>\n",
       "      <td>im coming on borderlands and i will murder you...</td>\n",
       "      <td>0.5574</td>\n",
       "    </tr>\n",
       "    <tr>\n",
       "      <th>4</th>\n",
       "      <td>2401</td>\n",
       "      <td>Borderlands</td>\n",
       "      <td>Positive</td>\n",
       "      <td>im getting on borderlands 2 and i will murder ...</td>\n",
       "      <td>0.5574</td>\n",
       "    </tr>\n",
       "  </tbody>\n",
       "</table>\n",
       "</div>"
      ],
      "text/plain": [
       "   Tweet_ID       Entity Sentiment                                              Tweet_Content  VADER_compound\n",
       "0      2401  Borderlands  Positive      im getting on borderlands and i will murder you all ,          0.5574\n",
       "1      2401  Borderlands  Positive        I am coming to the borders and I will kill you all,          0.5574\n",
       "2      2401  Borderlands  Positive         im getting on borderlands and i will kill you all,          0.5574\n",
       "3      2401  Borderlands  Positive        im coming on borderlands and i will murder you all,          0.5574\n",
       "4      2401  Borderlands  Positive  im getting on borderlands 2 and i will murder you me all,          0.5574"
      ]
     },
     "execution_count": 10,
     "metadata": {},
     "output_type": "execute_result"
    }
   ],
   "source": [
    "df.head()"
   ]
  },
  {
   "cell_type": "markdown",
   "metadata": {},
   "source": [
    "As done in the `data-analysis.ipynb` notebook, the following code checks if the compound score estimated by vader is the same for all edits of a tweet corresponding to a single `Tweet_ID`."
   ]
  },
  {
   "cell_type": "code",
   "execution_count": 11,
   "metadata": {},
   "outputs": [
    {
     "name": "stderr",
     "output_type": "stream",
     "text": [
      "/home/ghost/.cache/pypoetry/virtualenvs/socialmedia-2tHBEbUS-py3.10/lib/python3.10/site-packages/pyspark/python/lib/pyspark.zip/pyspark/pandas/internal.py:1573: FutureWarning: iteritems is deprecated and will be removed in a future version. Use .items instead.\n",
      "/home/ghost/.cache/pypoetry/virtualenvs/socialmedia-2tHBEbUS-py3.10/lib/python3.10/site-packages/pyspark/python/lib/pyspark.zip/pyspark/pandas/internal.py:1573: FutureWarning: iteritems is deprecated and will be removed in a future version. Use .items instead.\n",
      "/home/ghost/.cache/pypoetry/virtualenvs/socialmedia-2tHBEbUS-py3.10/lib/python3.10/site-packages/pyspark/python/lib/pyspark.zip/pyspark/pandas/internal.py:1573: FutureWarning: iteritems is deprecated and will be removed in a future version. Use .items instead.\n",
      "/home/ghost/.cache/pypoetry/virtualenvs/socialmedia-2tHBEbUS-py3.10/lib/python3.10/site-packages/pyspark/python/lib/pyspark.zip/pyspark/pandas/internal.py:1573: FutureWarning: iteritems is deprecated and will be removed in a future version. Use .items instead.\n",
      "/home/ghost/.cache/pypoetry/virtualenvs/socialmedia-2tHBEbUS-py3.10/lib/python3.10/site-packages/pyspark/python/lib/pyspark.zip/pyspark/pandas/internal.py:1573: FutureWarning: iteritems is deprecated and will be removed in a future version. Use .items instead.\n",
      "/home/ghost/.cache/pypoetry/virtualenvs/socialmedia-2tHBEbUS-py3.10/lib/python3.10/site-packages/pyspark/python/lib/pyspark.zip/pyspark/pandas/internal.py:1573: FutureWarning: iteritems is deprecated and will be removed in a future version. Use .items instead.\n",
      "/home/ghost/.cache/pypoetry/virtualenvs/socialmedia-2tHBEbUS-py3.10/lib/python3.10/site-packages/pyspark/python/lib/pyspark.zip/pyspark/pandas/internal.py:1573: FutureWarning: iteritems is deprecated and will be removed in a future version. Use .items instead.\n",
      "/home/ghost/.cache/pypoetry/virtualenvs/socialmedia-2tHBEbUS-py3.10/lib/python3.10/site-packages/pyspark/python/lib/pyspark.zip/pyspark/pandas/internal.py:1573: FutureWarning: iteritems is deprecated and will be removed in a future version. Use .items instead.\n",
      "/home/ghost/.cache/pypoetry/virtualenvs/socialmedia-2tHBEbUS-py3.10/lib/python3.10/site-packages/pyspark/python/lib/pyspark.zip/pyspark/pandas/internal.py:1573: FutureWarning: iteritems is deprecated and will be removed in a future version. Use .items instead.\n",
      "/home/ghost/.cache/pypoetry/virtualenvs/socialmedia-2tHBEbUS-py3.10/lib/python3.10/site-packages/pyspark/python/lib/pyspark.zip/pyspark/pandas/internal.py:1573: FutureWarning: iteritems is deprecated and will be removed in a future version. Use .items instead.\n",
      "/home/ghost/.cache/pypoetry/virtualenvs/socialmedia-2tHBEbUS-py3.10/lib/python3.10/site-packages/pyspark/python/lib/pyspark.zip/pyspark/pandas/internal.py:1573: FutureWarning: iteritems is deprecated and will be removed in a future version. Use .items instead.\n",
      "/home/ghost/.cache/pypoetry/virtualenvs/socialmedia-2tHBEbUS-py3.10/lib/python3.10/site-packages/pyspark/python/lib/pyspark.zip/pyspark/pandas/internal.py:1573: FutureWarning: iteritems is deprecated and will be removed in a future version. Use .items instead.\n",
      "/home/ghost/.cache/pypoetry/virtualenvs/socialmedia-2tHBEbUS-py3.10/lib/python3.10/site-packages/pyspark/python/lib/pyspark.zip/pyspark/pandas/internal.py:1573: FutureWarning: iteritems is deprecated and will be removed in a future version. Use .items instead.\n",
      "/home/ghost/.cache/pypoetry/virtualenvs/socialmedia-2tHBEbUS-py3.10/lib/python3.10/site-packages/pyspark/python/lib/pyspark.zip/pyspark/pandas/internal.py:1573: FutureWarning: iteritems is deprecated and will be removed in a future version. Use .items instead.\n",
      "/home/ghost/.cache/pypoetry/virtualenvs/socialmedia-2tHBEbUS-py3.10/lib/python3.10/site-packages/pyspark/python/lib/pyspark.zip/pyspark/pandas/internal.py:1573: FutureWarning: iteritems is deprecated and will be removed in a future version. Use .items instead.\n",
      "/home/ghost/.cache/pypoetry/virtualenvs/socialmedia-2tHBEbUS-py3.10/lib/python3.10/site-packages/pyspark/python/lib/pyspark.zip/pyspark/pandas/internal.py:1573: FutureWarning: iteritems is deprecated and will be removed in a future version. Use .items instead.\n",
      "/home/ghost/.cache/pypoetry/virtualenvs/socialmedia-2tHBEbUS-py3.10/lib/python3.10/site-packages/pyspark/python/lib/pyspark.zip/pyspark/pandas/internal.py:1573: FutureWarning: iteritems is deprecated and will be removed in a future version. Use .items instead.\n",
      "/home/ghost/.cache/pypoetry/virtualenvs/socialmedia-2tHBEbUS-py3.10/lib/python3.10/site-packages/pyspark/python/lib/pyspark.zip/pyspark/pandas/internal.py:1573: FutureWarning: iteritems is deprecated and will be removed in a future version. Use .items instead.\n",
      "/home/ghost/.cache/pypoetry/virtualenvs/socialmedia-2tHBEbUS-py3.10/lib/python3.10/site-packages/pyspark/python/lib/pyspark.zip/pyspark/pandas/internal.py:1573: FutureWarning: iteritems is deprecated and will be removed in a future version. Use .items instead.\n",
      "/home/ghost/.cache/pypoetry/virtualenvs/socialmedia-2tHBEbUS-py3.10/lib/python3.10/site-packages/pyspark/python/lib/pyspark.zip/pyspark/pandas/internal.py:1573: FutureWarning: iteritems is deprecated and will be removed in a future version. Use .items instead.\n",
      "/home/ghost/.cache/pypoetry/virtualenvs/socialmedia-2tHBEbUS-py3.10/lib/python3.10/site-packages/pyspark/python/lib/pyspark.zip/pyspark/pandas/internal.py:1573: FutureWarning: iteritems is deprecated and will be removed in a future version. Use .items instead.\n",
      "/home/ghost/.cache/pypoetry/virtualenvs/socialmedia-2tHBEbUS-py3.10/lib/python3.10/site-packages/pyspark/python/lib/pyspark.zip/pyspark/pandas/internal.py:1573: FutureWarning: iteritems is deprecated and will be removed in a future version. Use .items instead.\n",
      "/home/ghost/.cache/pypoetry/virtualenvs/socialmedia-2tHBEbUS-py3.10/lib/python3.10/site-packages/pyspark/python/lib/pyspark.zip/pyspark/pandas/internal.py:1573: FutureWarning: iteritems is deprecated and will be removed in a future version. Use .items instead.\n",
      "/home/ghost/.cache/pypoetry/virtualenvs/socialmedia-2tHBEbUS-py3.10/lib/python3.10/site-packages/pyspark/python/lib/pyspark.zip/pyspark/pandas/internal.py:1573: FutureWarning: iteritems is deprecated and will be removed in a future version. Use .items instead.\n",
      "/home/ghost/.cache/pypoetry/virtualenvs/socialmedia-2tHBEbUS-py3.10/lib/python3.10/site-packages/pyspark/python/lib/pyspark.zip/pyspark/pandas/internal.py:1573: FutureWarning: iteritems is deprecated and will be removed in a future version. Use .items instead.\n",
      "/home/ghost/.cache/pypoetry/virtualenvs/socialmedia-2tHBEbUS-py3.10/lib/python3.10/site-packages/pyspark/python/lib/pyspark.zip/pyspark/pandas/internal.py:1573: FutureWarning: iteritems is deprecated and will be removed in a future version. Use .items instead.\n",
      "/home/ghost/.cache/pypoetry/virtualenvs/socialmedia-2tHBEbUS-py3.10/lib/python3.10/site-packages/pyspark/python/lib/pyspark.zip/pyspark/pandas/internal.py:1573: FutureWarning: iteritems is deprecated and will be removed in a future version. Use .items instead.\n",
      "/home/ghost/.cache/pypoetry/virtualenvs/socialmedia-2tHBEbUS-py3.10/lib/python3.10/site-packages/pyspark/python/lib/pyspark.zip/pyspark/pandas/internal.py:1573: FutureWarning: iteritems is deprecated and will be removed in a future version. Use .items instead.\n",
      "/home/ghost/.cache/pypoetry/virtualenvs/socialmedia-2tHBEbUS-py3.10/lib/python3.10/site-packages/pyspark/python/lib/pyspark.zip/pyspark/pandas/internal.py:1573: FutureWarning: iteritems is deprecated and will be removed in a future version. Use .items instead.\n",
      "/home/ghost/.cache/pypoetry/virtualenvs/socialmedia-2tHBEbUS-py3.10/lib/python3.10/site-packages/pyspark/python/lib/pyspark.zip/pyspark/pandas/internal.py:1573: FutureWarning: iteritems is deprecated and will be removed in a future version. Use .items instead.\n",
      "/home/ghost/.cache/pypoetry/virtualenvs/socialmedia-2tHBEbUS-py3.10/lib/python3.10/site-packages/pyspark/python/lib/pyspark.zip/pyspark/pandas/internal.py:1573: FutureWarning: iteritems is deprecated and will be removed in a future version. Use .items instead.\n",
      "/home/ghost/.cache/pypoetry/virtualenvs/socialmedia-2tHBEbUS-py3.10/lib/python3.10/site-packages/pyspark/python/lib/pyspark.zip/pyspark/pandas/internal.py:1573: FutureWarning: iteritems is deprecated and will be removed in a future version. Use .items instead.\n",
      "/home/ghost/.cache/pypoetry/virtualenvs/socialmedia-2tHBEbUS-py3.10/lib/python3.10/site-packages/pyspark/pandas/internal.py:1573: FutureWarning: iteritems is deprecated and will be removed in a future version. Use .items instead.\n",
      "  fields = [\n",
      "/home/ghost/.cache/pypoetry/virtualenvs/socialmedia-2tHBEbUS-py3.10/lib/python3.10/site-packages/pyspark/sql/pandas/conversion.py:486: FutureWarning: iteritems is deprecated and will be removed in a future version. Use .items instead.\n",
      "  for column, series in pdf.iteritems():\n",
      "/home/ghost/.cache/pypoetry/virtualenvs/socialmedia-2tHBEbUS-py3.10/lib/python3.10/site-packages/pyspark/python/lib/pyspark.zip/pyspark/pandas/internal.py:1573: FutureWarning: iteritems is deprecated and will be removed in a future version. Use .items instead.\n",
      "/home/ghost/.cache/pypoetry/virtualenvs/socialmedia-2tHBEbUS-py3.10/lib/python3.10/site-packages/pyspark/python/lib/pyspark.zip/pyspark/pandas/internal.py:1573: FutureWarning: iteritems is deprecated and will be removed in a future version. Use .items instead.\n",
      "/home/ghost/.cache/pypoetry/virtualenvs/socialmedia-2tHBEbUS-py3.10/lib/python3.10/site-packages/pyspark/python/lib/pyspark.zip/pyspark/pandas/internal.py:1573: FutureWarning: iteritems is deprecated and will be removed in a future version. Use .items instead.\n",
      "/home/ghost/.cache/pypoetry/virtualenvs/socialmedia-2tHBEbUS-py3.10/lib/python3.10/site-packages/pyspark/python/lib/pyspark.zip/pyspark/pandas/internal.py:1573: FutureWarning: iteritems is deprecated and will be removed in a future version. Use .items instead.\n",
      "/home/ghost/.cache/pypoetry/virtualenvs/socialmedia-2tHBEbUS-py3.10/lib/python3.10/site-packages/pyspark/python/lib/pyspark.zip/pyspark/pandas/internal.py:1573: FutureWarning: iteritems is deprecated and will be removed in a future version. Use .items instead.\n",
      "/home/ghost/.cache/pypoetry/virtualenvs/socialmedia-2tHBEbUS-py3.10/lib/python3.10/site-packages/pyspark/python/lib/pyspark.zip/pyspark/pandas/internal.py:1573: FutureWarning: iteritems is deprecated and will be removed in a future version. Use .items instead.\n",
      "/home/ghost/.cache/pypoetry/virtualenvs/socialmedia-2tHBEbUS-py3.10/lib/python3.10/site-packages/pyspark/python/lib/pyspark.zip/pyspark/pandas/internal.py:1573: FutureWarning: iteritems is deprecated and will be removed in a future version. Use .items instead.\n",
      "/home/ghost/.cache/pypoetry/virtualenvs/socialmedia-2tHBEbUS-py3.10/lib/python3.10/site-packages/pyspark/python/lib/pyspark.zip/pyspark/pandas/internal.py:1573: FutureWarning: iteritems is deprecated and will be removed in a future version. Use .items instead.\n",
      "/home/ghost/.cache/pypoetry/virtualenvs/socialmedia-2tHBEbUS-py3.10/lib/python3.10/site-packages/pyspark/python/lib/pyspark.zip/pyspark/pandas/internal.py:1573: FutureWarning: iteritems is deprecated and will be removed in a future version. Use .items instead.\n",
      "/home/ghost/.cache/pypoetry/virtualenvs/socialmedia-2tHBEbUS-py3.10/lib/python3.10/site-packages/pyspark/python/lib/pyspark.zip/pyspark/pandas/internal.py:1573: FutureWarning: iteritems is deprecated and will be removed in a future version. Use .items instead.\n",
      "/home/ghost/.cache/pypoetry/virtualenvs/socialmedia-2tHBEbUS-py3.10/lib/python3.10/site-packages/pyspark/python/lib/pyspark.zip/pyspark/pandas/internal.py:1573: FutureWarning: iteritems is deprecated and will be removed in a future version. Use .items instead.\n",
      "/home/ghost/.cache/pypoetry/virtualenvs/socialmedia-2tHBEbUS-py3.10/lib/python3.10/site-packages/pyspark/python/lib/pyspark.zip/pyspark/pandas/internal.py:1573: FutureWarning: iteritems is deprecated and will be removed in a future version. Use .items instead.\n",
      "/home/ghost/.cache/pypoetry/virtualenvs/socialmedia-2tHBEbUS-py3.10/lib/python3.10/site-packages/pyspark/python/lib/pyspark.zip/pyspark/pandas/internal.py:1573: FutureWarning: iteritems is deprecated and will be removed in a future version. Use .items instead.\n",
      "/home/ghost/.cache/pypoetry/virtualenvs/socialmedia-2tHBEbUS-py3.10/lib/python3.10/site-packages/pyspark/python/lib/pyspark.zip/pyspark/pandas/internal.py:1573: FutureWarning: iteritems is deprecated and will be removed in a future version. Use .items instead.\n",
      "/home/ghost/.cache/pypoetry/virtualenvs/socialmedia-2tHBEbUS-py3.10/lib/python3.10/site-packages/pyspark/python/lib/pyspark.zip/pyspark/pandas/internal.py:1573: FutureWarning: iteritems is deprecated and will be removed in a future version. Use .items instead.\n",
      "/home/ghost/.cache/pypoetry/virtualenvs/socialmedia-2tHBEbUS-py3.10/lib/python3.10/site-packages/pyspark/python/lib/pyspark.zip/pyspark/pandas/internal.py:1573: FutureWarning: iteritems is deprecated and will be removed in a future version. Use .items instead.\n",
      "/home/ghost/.cache/pypoetry/virtualenvs/socialmedia-2tHBEbUS-py3.10/lib/python3.10/site-packages/pyspark/python/lib/pyspark.zip/pyspark/pandas/internal.py:1573: FutureWarning: iteritems is deprecated and will be removed in a future version. Use .items instead.\n",
      "/home/ghost/.cache/pypoetry/virtualenvs/socialmedia-2tHBEbUS-py3.10/lib/python3.10/site-packages/pyspark/python/lib/pyspark.zip/pyspark/pandas/internal.py:1573: FutureWarning: iteritems is deprecated and will be removed in a future version. Use .items instead.\n",
      "/home/ghost/.cache/pypoetry/virtualenvs/socialmedia-2tHBEbUS-py3.10/lib/python3.10/site-packages/pyspark/python/lib/pyspark.zip/pyspark/pandas/internal.py:1573: FutureWarning: iteritems is deprecated and will be removed in a future version. Use .items instead.\n",
      "/home/ghost/.cache/pypoetry/virtualenvs/socialmedia-2tHBEbUS-py3.10/lib/python3.10/site-packages/pyspark/python/lib/pyspark.zip/pyspark/pandas/internal.py:1573: FutureWarning: iteritems is deprecated and will be removed in a future version. Use .items instead.\n",
      "/home/ghost/.cache/pypoetry/virtualenvs/socialmedia-2tHBEbUS-py3.10/lib/python3.10/site-packages/pyspark/python/lib/pyspark.zip/pyspark/pandas/internal.py:1573: FutureWarning: iteritems is deprecated and will be removed in a future version. Use .items instead.\n",
      "/home/ghost/.cache/pypoetry/virtualenvs/socialmedia-2tHBEbUS-py3.10/lib/python3.10/site-packages/pyspark/python/lib/pyspark.zip/pyspark/pandas/internal.py:1573: FutureWarning: iteritems is deprecated and will be removed in a future version. Use .items instead.\n",
      "/home/ghost/.cache/pypoetry/virtualenvs/socialmedia-2tHBEbUS-py3.10/lib/python3.10/site-packages/pyspark/python/lib/pyspark.zip/pyspark/pandas/internal.py:1573: FutureWarning: iteritems is deprecated and will be removed in a future version. Use .items instead.\n",
      "/home/ghost/.cache/pypoetry/virtualenvs/socialmedia-2tHBEbUS-py3.10/lib/python3.10/site-packages/pyspark/python/lib/pyspark.zip/pyspark/pandas/internal.py:1573: FutureWarning: iteritems is deprecated and will be removed in a future version. Use .items instead.\n",
      "/home/ghost/.cache/pypoetry/virtualenvs/socialmedia-2tHBEbUS-py3.10/lib/python3.10/site-packages/pyspark/python/lib/pyspark.zip/pyspark/pandas/internal.py:1573: FutureWarning: iteritems is deprecated and will be removed in a future version. Use .items instead.\n",
      "/home/ghost/.cache/pypoetry/virtualenvs/socialmedia-2tHBEbUS-py3.10/lib/python3.10/site-packages/pyspark/python/lib/pyspark.zip/pyspark/pandas/internal.py:1573: FutureWarning: iteritems is deprecated and will be removed in a future version. Use .items instead.\n",
      "/home/ghost/.cache/pypoetry/virtualenvs/socialmedia-2tHBEbUS-py3.10/lib/python3.10/site-packages/pyspark/python/lib/pyspark.zip/pyspark/pandas/internal.py:1573: FutureWarning: iteritems is deprecated and will be removed in a future version. Use .items instead.\n",
      "/home/ghost/.cache/pypoetry/virtualenvs/socialmedia-2tHBEbUS-py3.10/lib/python3.10/site-packages/pyspark/python/lib/pyspark.zip/pyspark/pandas/internal.py:1573: FutureWarning: iteritems is deprecated and will be removed in a future version. Use .items instead.\n",
      "/home/ghost/.cache/pypoetry/virtualenvs/socialmedia-2tHBEbUS-py3.10/lib/python3.10/site-packages/pyspark/python/lib/pyspark.zip/pyspark/pandas/internal.py:1573: FutureWarning: iteritems is deprecated and will be removed in a future version. Use .items instead.\n",
      "/home/ghost/.cache/pypoetry/virtualenvs/socialmedia-2tHBEbUS-py3.10/lib/python3.10/site-packages/pyspark/python/lib/pyspark.zip/pyspark/pandas/internal.py:1573: FutureWarning: iteritems is deprecated and will be removed in a future version. Use .items instead.\n",
      "/home/ghost/.cache/pypoetry/virtualenvs/socialmedia-2tHBEbUS-py3.10/lib/python3.10/site-packages/pyspark/python/lib/pyspark.zip/pyspark/pandas/internal.py:1573: FutureWarning: iteritems is deprecated and will be removed in a future version. Use .items instead.\n",
      "/home/ghost/.cache/pypoetry/virtualenvs/socialmedia-2tHBEbUS-py3.10/lib/python3.10/site-packages/pyspark/python/lib/pyspark.zip/pyspark/pandas/internal.py:1573: FutureWarning: iteritems is deprecated and will be removed in a future version. Use .items instead.\n",
      "/home/ghost/.cache/pypoetry/virtualenvs/socialmedia-2tHBEbUS-py3.10/lib/python3.10/site-packages/pyspark/python/lib/pyspark.zip/pyspark/pandas/internal.py:1573: FutureWarning: iteritems is deprecated and will be removed in a future version. Use .items instead.\n",
      "/home/ghost/.cache/pypoetry/virtualenvs/socialmedia-2tHBEbUS-py3.10/lib/python3.10/site-packages/pyspark/python/lib/pyspark.zip/pyspark/pandas/internal.py:1573: FutureWarning: iteritems is deprecated and will be removed in a future version. Use .items instead.\n",
      "                                                                                \r"
     ]
    }
   ],
   "source": [
    "# Pandas API on PySpark produces a lot of warning messages for the following line of code\n",
    "# Hence output is collected in a variable and the output of this cell is collapsed\n",
    "# The output is printed in the next cell\n",
    "output = df.groupby([\"Tweet_ID\"])[\"VADER_compound\"].unique().apply(len).ne(1).sum()"
   ]
  },
  {
   "cell_type": "code",
   "execution_count": 12,
   "metadata": {},
   "outputs": [
    {
     "data": {
      "text/plain": [
       "0"
      ]
     },
     "execution_count": 12,
     "metadata": {},
     "output_type": "execute_result"
    }
   ],
   "source": [
    "output"
   ]
  },
  {
   "cell_type": "markdown",
   "metadata": {},
   "source": [
    "The output is 0 hence all the edits of a single `Tweet_ID` received the same `compound` score from vader."
   ]
  },
  {
   "cell_type": "markdown",
   "metadata": {},
   "source": [
    "### Estimating TextBlob polarity and subjectivity"
   ]
  },
  {
   "cell_type": "code",
   "execution_count": 13,
   "metadata": {},
   "outputs": [],
   "source": [
    "def getTextBlobPolarity(line):\n",
    "    analyzer = TextBlob(line)\n",
    "    return analyzer.sentiment.polarity\n"
   ]
  },
  {
   "cell_type": "code",
   "execution_count": 14,
   "metadata": {},
   "outputs": [
    {
     "name": "stderr",
     "output_type": "stream",
     "text": [
      "/home/ghost/.cache/pypoetry/virtualenvs/socialmedia-2tHBEbUS-py3.10/lib/python3.10/site-packages/pyspark/pandas/internal.py:1573: FutureWarning: iteritems is deprecated and will be removed in a future version. Use .items instead.\n",
      "  fields = [\n",
      "/home/ghost/.cache/pypoetry/virtualenvs/socialmedia-2tHBEbUS-py3.10/lib/python3.10/site-packages/pyspark/sql/pandas/conversion.py:486: FutureWarning: iteritems is deprecated and will be removed in a future version. Use .items instead.\n",
      "  for column, series in pdf.iteritems():\n"
     ]
    }
   ],
   "source": [
    "df[\"TEXTBLOB_polarity\"] = df[label].apply(getTextBlobPolarity)"
   ]
  },
  {
   "cell_type": "code",
   "execution_count": 15,
   "metadata": {},
   "outputs": [
    {
     "name": "stderr",
     "output_type": "stream",
     "text": [
      "/home/ghost/.cache/pypoetry/virtualenvs/socialmedia-2tHBEbUS-py3.10/lib/python3.10/site-packages/pyspark/python/lib/pyspark.zip/pyspark/pandas/internal.py:1573: FutureWarning: iteritems is deprecated and will be removed in a future version. Use .items instead.\n",
      "/home/ghost/.cache/pypoetry/virtualenvs/socialmedia-2tHBEbUS-py3.10/lib/python3.10/site-packages/pyspark/python/lib/pyspark.zip/pyspark/pandas/internal.py:1573: FutureWarning: iteritems is deprecated and will be removed in a future version. Use .items instead.\n"
     ]
    },
    {
     "data": {
      "text/html": [
       "<div>\n",
       "<style scoped>\n",
       "    .dataframe tbody tr th:only-of-type {\n",
       "        vertical-align: middle;\n",
       "    }\n",
       "\n",
       "    .dataframe tbody tr th {\n",
       "        vertical-align: top;\n",
       "    }\n",
       "\n",
       "    .dataframe thead th {\n",
       "        text-align: right;\n",
       "    }\n",
       "</style>\n",
       "<table border=\"1\" class=\"dataframe\">\n",
       "  <thead>\n",
       "    <tr style=\"text-align: right;\">\n",
       "      <th></th>\n",
       "      <th>Tweet_ID</th>\n",
       "      <th>Entity</th>\n",
       "      <th>Sentiment</th>\n",
       "      <th>Tweet_Content</th>\n",
       "      <th>VADER_compound</th>\n",
       "      <th>TEXTBLOB_polarity</th>\n",
       "    </tr>\n",
       "  </thead>\n",
       "  <tbody>\n",
       "    <tr>\n",
       "      <th>0</th>\n",
       "      <td>2401</td>\n",
       "      <td>Borderlands</td>\n",
       "      <td>Positive</td>\n",
       "      <td>im getting on borderlands and i will murder yo...</td>\n",
       "      <td>0.5574</td>\n",
       "      <td>0.227273</td>\n",
       "    </tr>\n",
       "    <tr>\n",
       "      <th>1</th>\n",
       "      <td>2401</td>\n",
       "      <td>Borderlands</td>\n",
       "      <td>Positive</td>\n",
       "      <td>I am coming to the borders and I will kill you...</td>\n",
       "      <td>0.5574</td>\n",
       "      <td>0.227273</td>\n",
       "    </tr>\n",
       "    <tr>\n",
       "      <th>2</th>\n",
       "      <td>2401</td>\n",
       "      <td>Borderlands</td>\n",
       "      <td>Positive</td>\n",
       "      <td>im getting on borderlands and i will kill you ...</td>\n",
       "      <td>0.5574</td>\n",
       "      <td>0.227273</td>\n",
       "    </tr>\n",
       "    <tr>\n",
       "      <th>3</th>\n",
       "      <td>2401</td>\n",
       "      <td>Borderlands</td>\n",
       "      <td>Positive</td>\n",
       "      <td>im coming on borderlands and i will murder you...</td>\n",
       "      <td>0.5574</td>\n",
       "      <td>0.227273</td>\n",
       "    </tr>\n",
       "    <tr>\n",
       "      <th>4</th>\n",
       "      <td>2401</td>\n",
       "      <td>Borderlands</td>\n",
       "      <td>Positive</td>\n",
       "      <td>im getting on borderlands 2 and i will murder ...</td>\n",
       "      <td>0.5574</td>\n",
       "      <td>0.227273</td>\n",
       "    </tr>\n",
       "  </tbody>\n",
       "</table>\n",
       "</div>"
      ],
      "text/plain": [
       "   Tweet_ID       Entity Sentiment                                              Tweet_Content  VADER_compound  TEXTBLOB_polarity\n",
       "0      2401  Borderlands  Positive      im getting on borderlands and i will murder you all ,          0.5574           0.227273\n",
       "1      2401  Borderlands  Positive        I am coming to the borders and I will kill you all,          0.5574           0.227273\n",
       "2      2401  Borderlands  Positive         im getting on borderlands and i will kill you all,          0.5574           0.227273\n",
       "3      2401  Borderlands  Positive        im coming on borderlands and i will murder you all,          0.5574           0.227273\n",
       "4      2401  Borderlands  Positive  im getting on borderlands 2 and i will murder you me all,          0.5574           0.227273"
      ]
     },
     "execution_count": 15,
     "metadata": {},
     "output_type": "execute_result"
    }
   ],
   "source": [
    "df.head()"
   ]
  },
  {
   "cell_type": "markdown",
   "metadata": {},
   "source": [
    "For polarity all the edits for the same `Tweet_ID` seem to be having the same score"
   ]
  },
  {
   "cell_type": "code",
   "execution_count": 16,
   "metadata": {},
   "outputs": [
    {
     "name": "stderr",
     "output_type": "stream",
     "text": [
      "/home/ghost/.cache/pypoetry/virtualenvs/socialmedia-2tHBEbUS-py3.10/lib/python3.10/site-packages/pyspark/python/lib/pyspark.zip/pyspark/pandas/internal.py:1573: FutureWarning: iteritems is deprecated and will be removed in a future version. Use .items instead.\n",
      "/home/ghost/.cache/pypoetry/virtualenvs/socialmedia-2tHBEbUS-py3.10/lib/python3.10/site-packages/pyspark/python/lib/pyspark.zip/pyspark/pandas/internal.py:1573: FutureWarning: iteritems is deprecated and will be removed in a future version. Use .items instead.\n",
      "/home/ghost/.cache/pypoetry/virtualenvs/socialmedia-2tHBEbUS-py3.10/lib/python3.10/site-packages/pyspark/python/lib/pyspark.zip/pyspark/pandas/internal.py:1573: FutureWarning: iteritems is deprecated and will be removed in a future version. Use .items instead.\n",
      "/home/ghost/.cache/pypoetry/virtualenvs/socialmedia-2tHBEbUS-py3.10/lib/python3.10/site-packages/pyspark/python/lib/pyspark.zip/pyspark/pandas/internal.py:1573: FutureWarning: iteritems is deprecated and will be removed in a future version. Use .items instead.\n",
      "/home/ghost/.cache/pypoetry/virtualenvs/socialmedia-2tHBEbUS-py3.10/lib/python3.10/site-packages/pyspark/python/lib/pyspark.zip/pyspark/pandas/internal.py:1573: FutureWarning: iteritems is deprecated and will be removed in a future version. Use .items instead.\n",
      "/home/ghost/.cache/pypoetry/virtualenvs/socialmedia-2tHBEbUS-py3.10/lib/python3.10/site-packages/pyspark/python/lib/pyspark.zip/pyspark/pandas/internal.py:1573: FutureWarning: iteritems is deprecated and will be removed in a future version. Use .items instead.\n",
      "/home/ghost/.cache/pypoetry/virtualenvs/socialmedia-2tHBEbUS-py3.10/lib/python3.10/site-packages/pyspark/python/lib/pyspark.zip/pyspark/pandas/internal.py:1573: FutureWarning: iteritems is deprecated and will be removed in a future version. Use .items instead.\n",
      "/home/ghost/.cache/pypoetry/virtualenvs/socialmedia-2tHBEbUS-py3.10/lib/python3.10/site-packages/pyspark/python/lib/pyspark.zip/pyspark/pandas/internal.py:1573: FutureWarning: iteritems is deprecated and will be removed in a future version. Use .items instead.\n",
      "/home/ghost/.cache/pypoetry/virtualenvs/socialmedia-2tHBEbUS-py3.10/lib/python3.10/site-packages/pyspark/python/lib/pyspark.zip/pyspark/pandas/internal.py:1573: FutureWarning: iteritems is deprecated and will be removed in a future version. Use .items instead.\n",
      "/home/ghost/.cache/pypoetry/virtualenvs/socialmedia-2tHBEbUS-py3.10/lib/python3.10/site-packages/pyspark/python/lib/pyspark.zip/pyspark/pandas/internal.py:1573: FutureWarning: iteritems is deprecated and will be removed in a future version. Use .items instead.\n",
      "/home/ghost/.cache/pypoetry/virtualenvs/socialmedia-2tHBEbUS-py3.10/lib/python3.10/site-packages/pyspark/python/lib/pyspark.zip/pyspark/pandas/internal.py:1573: FutureWarning: iteritems is deprecated and will be removed in a future version. Use .items instead.\n",
      "/home/ghost/.cache/pypoetry/virtualenvs/socialmedia-2tHBEbUS-py3.10/lib/python3.10/site-packages/pyspark/python/lib/pyspark.zip/pyspark/pandas/internal.py:1573: FutureWarning: iteritems is deprecated and will be removed in a future version. Use .items instead.\n",
      "/home/ghost/.cache/pypoetry/virtualenvs/socialmedia-2tHBEbUS-py3.10/lib/python3.10/site-packages/pyspark/python/lib/pyspark.zip/pyspark/pandas/internal.py:1573: FutureWarning: iteritems is deprecated and will be removed in a future version. Use .items instead.\n",
      "/home/ghost/.cache/pypoetry/virtualenvs/socialmedia-2tHBEbUS-py3.10/lib/python3.10/site-packages/pyspark/python/lib/pyspark.zip/pyspark/pandas/internal.py:1573: FutureWarning: iteritems is deprecated and will be removed in a future version. Use .items instead.\n",
      "/home/ghost/.cache/pypoetry/virtualenvs/socialmedia-2tHBEbUS-py3.10/lib/python3.10/site-packages/pyspark/python/lib/pyspark.zip/pyspark/pandas/internal.py:1573: FutureWarning: iteritems is deprecated and will be removed in a future version. Use .items instead.\n",
      "/home/ghost/.cache/pypoetry/virtualenvs/socialmedia-2tHBEbUS-py3.10/lib/python3.10/site-packages/pyspark/python/lib/pyspark.zip/pyspark/pandas/internal.py:1573: FutureWarning: iteritems is deprecated and will be removed in a future version. Use .items instead.\n",
      "/home/ghost/.cache/pypoetry/virtualenvs/socialmedia-2tHBEbUS-py3.10/lib/python3.10/site-packages/pyspark/python/lib/pyspark.zip/pyspark/pandas/internal.py:1573: FutureWarning: iteritems is deprecated and will be removed in a future version. Use .items instead.\n",
      "/home/ghost/.cache/pypoetry/virtualenvs/socialmedia-2tHBEbUS-py3.10/lib/python3.10/site-packages/pyspark/python/lib/pyspark.zip/pyspark/pandas/internal.py:1573: FutureWarning: iteritems is deprecated and will be removed in a future version. Use .items instead.\n",
      "/home/ghost/.cache/pypoetry/virtualenvs/socialmedia-2tHBEbUS-py3.10/lib/python3.10/site-packages/pyspark/python/lib/pyspark.zip/pyspark/pandas/internal.py:1573: FutureWarning: iteritems is deprecated and will be removed in a future version. Use .items instead.\n",
      "/home/ghost/.cache/pypoetry/virtualenvs/socialmedia-2tHBEbUS-py3.10/lib/python3.10/site-packages/pyspark/python/lib/pyspark.zip/pyspark/pandas/internal.py:1573: FutureWarning: iteritems is deprecated and will be removed in a future version. Use .items instead.\n",
      "/home/ghost/.cache/pypoetry/virtualenvs/socialmedia-2tHBEbUS-py3.10/lib/python3.10/site-packages/pyspark/python/lib/pyspark.zip/pyspark/pandas/internal.py:1573: FutureWarning: iteritems is deprecated and will be removed in a future version. Use .items instead.\n",
      "/home/ghost/.cache/pypoetry/virtualenvs/socialmedia-2tHBEbUS-py3.10/lib/python3.10/site-packages/pyspark/python/lib/pyspark.zip/pyspark/pandas/internal.py:1573: FutureWarning: iteritems is deprecated and will be removed in a future version. Use .items instead.\n",
      "/home/ghost/.cache/pypoetry/virtualenvs/socialmedia-2tHBEbUS-py3.10/lib/python3.10/site-packages/pyspark/python/lib/pyspark.zip/pyspark/pandas/internal.py:1573: FutureWarning: iteritems is deprecated and will be removed in a future version. Use .items instead.\n",
      "/home/ghost/.cache/pypoetry/virtualenvs/socialmedia-2tHBEbUS-py3.10/lib/python3.10/site-packages/pyspark/python/lib/pyspark.zip/pyspark/pandas/internal.py:1573: FutureWarning: iteritems is deprecated and will be removed in a future version. Use .items instead.\n",
      "/home/ghost/.cache/pypoetry/virtualenvs/socialmedia-2tHBEbUS-py3.10/lib/python3.10/site-packages/pyspark/python/lib/pyspark.zip/pyspark/pandas/internal.py:1573: FutureWarning: iteritems is deprecated and will be removed in a future version. Use .items instead.\n",
      "/home/ghost/.cache/pypoetry/virtualenvs/socialmedia-2tHBEbUS-py3.10/lib/python3.10/site-packages/pyspark/python/lib/pyspark.zip/pyspark/pandas/internal.py:1573: FutureWarning: iteritems is deprecated and will be removed in a future version. Use .items instead.\n",
      "/home/ghost/.cache/pypoetry/virtualenvs/socialmedia-2tHBEbUS-py3.10/lib/python3.10/site-packages/pyspark/python/lib/pyspark.zip/pyspark/pandas/internal.py:1573: FutureWarning: iteritems is deprecated and will be removed in a future version. Use .items instead.\n",
      "/home/ghost/.cache/pypoetry/virtualenvs/socialmedia-2tHBEbUS-py3.10/lib/python3.10/site-packages/pyspark/python/lib/pyspark.zip/pyspark/pandas/internal.py:1573: FutureWarning: iteritems is deprecated and will be removed in a future version. Use .items instead.\n",
      "/home/ghost/.cache/pypoetry/virtualenvs/socialmedia-2tHBEbUS-py3.10/lib/python3.10/site-packages/pyspark/python/lib/pyspark.zip/pyspark/pandas/internal.py:1573: FutureWarning: iteritems is deprecated and will be removed in a future version. Use .items instead.\n",
      "/home/ghost/.cache/pypoetry/virtualenvs/socialmedia-2tHBEbUS-py3.10/lib/python3.10/site-packages/pyspark/python/lib/pyspark.zip/pyspark/pandas/internal.py:1573: FutureWarning: iteritems is deprecated and will be removed in a future version. Use .items instead.\n",
      "/home/ghost/.cache/pypoetry/virtualenvs/socialmedia-2tHBEbUS-py3.10/lib/python3.10/site-packages/pyspark/python/lib/pyspark.zip/pyspark/pandas/internal.py:1573: FutureWarning: iteritems is deprecated and will be removed in a future version. Use .items instead.\n",
      "/home/ghost/.cache/pypoetry/virtualenvs/socialmedia-2tHBEbUS-py3.10/lib/python3.10/site-packages/pyspark/python/lib/pyspark.zip/pyspark/pandas/internal.py:1573: FutureWarning: iteritems is deprecated and will be removed in a future version. Use .items instead.\n",
      "/home/ghost/.cache/pypoetry/virtualenvs/socialmedia-2tHBEbUS-py3.10/lib/python3.10/site-packages/pyspark/pandas/internal.py:1573: FutureWarning: iteritems is deprecated and will be removed in a future version. Use .items instead.\n",
      "  fields = [\n",
      "/home/ghost/.cache/pypoetry/virtualenvs/socialmedia-2tHBEbUS-py3.10/lib/python3.10/site-packages/pyspark/sql/pandas/conversion.py:486: FutureWarning: iteritems is deprecated and will be removed in a future version. Use .items instead.\n",
      "  for column, series in pdf.iteritems():\n",
      "/home/ghost/.cache/pypoetry/virtualenvs/socialmedia-2tHBEbUS-py3.10/lib/python3.10/site-packages/pyspark/python/lib/pyspark.zip/pyspark/pandas/internal.py:1573: FutureWarning: iteritems is deprecated and will be removed in a future version. Use .items instead.\n",
      "/home/ghost/.cache/pypoetry/virtualenvs/socialmedia-2tHBEbUS-py3.10/lib/python3.10/site-packages/pyspark/python/lib/pyspark.zip/pyspark/pandas/internal.py:1573: FutureWarning: iteritems is deprecated and will be removed in a future version. Use .items instead.\n",
      "/home/ghost/.cache/pypoetry/virtualenvs/socialmedia-2tHBEbUS-py3.10/lib/python3.10/site-packages/pyspark/python/lib/pyspark.zip/pyspark/pandas/internal.py:1573: FutureWarning: iteritems is deprecated and will be removed in a future version. Use .items instead.\n",
      "/home/ghost/.cache/pypoetry/virtualenvs/socialmedia-2tHBEbUS-py3.10/lib/python3.10/site-packages/pyspark/python/lib/pyspark.zip/pyspark/pandas/internal.py:1573: FutureWarning: iteritems is deprecated and will be removed in a future version. Use .items instead.\n",
      "/home/ghost/.cache/pypoetry/virtualenvs/socialmedia-2tHBEbUS-py3.10/lib/python3.10/site-packages/pyspark/python/lib/pyspark.zip/pyspark/pandas/internal.py:1573: FutureWarning: iteritems is deprecated and will be removed in a future version. Use .items instead.\n",
      "/home/ghost/.cache/pypoetry/virtualenvs/socialmedia-2tHBEbUS-py3.10/lib/python3.10/site-packages/pyspark/python/lib/pyspark.zip/pyspark/pandas/internal.py:1573: FutureWarning: iteritems is deprecated and will be removed in a future version. Use .items instead.\n",
      "/home/ghost/.cache/pypoetry/virtualenvs/socialmedia-2tHBEbUS-py3.10/lib/python3.10/site-packages/pyspark/python/lib/pyspark.zip/pyspark/pandas/internal.py:1573: FutureWarning: iteritems is deprecated and will be removed in a future version. Use .items instead.\n",
      "/home/ghost/.cache/pypoetry/virtualenvs/socialmedia-2tHBEbUS-py3.10/lib/python3.10/site-packages/pyspark/python/lib/pyspark.zip/pyspark/pandas/internal.py:1573: FutureWarning: iteritems is deprecated and will be removed in a future version. Use .items instead.\n",
      "/home/ghost/.cache/pypoetry/virtualenvs/socialmedia-2tHBEbUS-py3.10/lib/python3.10/site-packages/pyspark/python/lib/pyspark.zip/pyspark/pandas/internal.py:1573: FutureWarning: iteritems is deprecated and will be removed in a future version. Use .items instead.\n",
      "/home/ghost/.cache/pypoetry/virtualenvs/socialmedia-2tHBEbUS-py3.10/lib/python3.10/site-packages/pyspark/python/lib/pyspark.zip/pyspark/pandas/internal.py:1573: FutureWarning: iteritems is deprecated and will be removed in a future version. Use .items instead.\n",
      "/home/ghost/.cache/pypoetry/virtualenvs/socialmedia-2tHBEbUS-py3.10/lib/python3.10/site-packages/pyspark/python/lib/pyspark.zip/pyspark/pandas/internal.py:1573: FutureWarning: iteritems is deprecated and will be removed in a future version. Use .items instead.\n",
      "/home/ghost/.cache/pypoetry/virtualenvs/socialmedia-2tHBEbUS-py3.10/lib/python3.10/site-packages/pyspark/python/lib/pyspark.zip/pyspark/pandas/internal.py:1573: FutureWarning: iteritems is deprecated and will be removed in a future version. Use .items instead.\n",
      "/home/ghost/.cache/pypoetry/virtualenvs/socialmedia-2tHBEbUS-py3.10/lib/python3.10/site-packages/pyspark/python/lib/pyspark.zip/pyspark/pandas/internal.py:1573: FutureWarning: iteritems is deprecated and will be removed in a future version. Use .items instead.\n",
      "/home/ghost/.cache/pypoetry/virtualenvs/socialmedia-2tHBEbUS-py3.10/lib/python3.10/site-packages/pyspark/python/lib/pyspark.zip/pyspark/pandas/internal.py:1573: FutureWarning: iteritems is deprecated and will be removed in a future version. Use .items instead.\n",
      "/home/ghost/.cache/pypoetry/virtualenvs/socialmedia-2tHBEbUS-py3.10/lib/python3.10/site-packages/pyspark/python/lib/pyspark.zip/pyspark/pandas/internal.py:1573: FutureWarning: iteritems is deprecated and will be removed in a future version. Use .items instead.\n",
      "/home/ghost/.cache/pypoetry/virtualenvs/socialmedia-2tHBEbUS-py3.10/lib/python3.10/site-packages/pyspark/python/lib/pyspark.zip/pyspark/pandas/internal.py:1573: FutureWarning: iteritems is deprecated and will be removed in a future version. Use .items instead.\n",
      "/home/ghost/.cache/pypoetry/virtualenvs/socialmedia-2tHBEbUS-py3.10/lib/python3.10/site-packages/pyspark/python/lib/pyspark.zip/pyspark/pandas/internal.py:1573: FutureWarning: iteritems is deprecated and will be removed in a future version. Use .items instead.\n",
      "/home/ghost/.cache/pypoetry/virtualenvs/socialmedia-2tHBEbUS-py3.10/lib/python3.10/site-packages/pyspark/python/lib/pyspark.zip/pyspark/pandas/internal.py:1573: FutureWarning: iteritems is deprecated and will be removed in a future version. Use .items instead.\n",
      "/home/ghost/.cache/pypoetry/virtualenvs/socialmedia-2tHBEbUS-py3.10/lib/python3.10/site-packages/pyspark/python/lib/pyspark.zip/pyspark/pandas/internal.py:1573: FutureWarning: iteritems is deprecated and will be removed in a future version. Use .items instead.\n",
      "/home/ghost/.cache/pypoetry/virtualenvs/socialmedia-2tHBEbUS-py3.10/lib/python3.10/site-packages/pyspark/python/lib/pyspark.zip/pyspark/pandas/internal.py:1573: FutureWarning: iteritems is deprecated and will be removed in a future version. Use .items instead.\n",
      "/home/ghost/.cache/pypoetry/virtualenvs/socialmedia-2tHBEbUS-py3.10/lib/python3.10/site-packages/pyspark/python/lib/pyspark.zip/pyspark/pandas/internal.py:1573: FutureWarning: iteritems is deprecated and will be removed in a future version. Use .items instead.\n",
      "/home/ghost/.cache/pypoetry/virtualenvs/socialmedia-2tHBEbUS-py3.10/lib/python3.10/site-packages/pyspark/python/lib/pyspark.zip/pyspark/pandas/internal.py:1573: FutureWarning: iteritems is deprecated and will be removed in a future version. Use .items instead.\n",
      "/home/ghost/.cache/pypoetry/virtualenvs/socialmedia-2tHBEbUS-py3.10/lib/python3.10/site-packages/pyspark/python/lib/pyspark.zip/pyspark/pandas/internal.py:1573: FutureWarning: iteritems is deprecated and will be removed in a future version. Use .items instead.\n",
      "/home/ghost/.cache/pypoetry/virtualenvs/socialmedia-2tHBEbUS-py3.10/lib/python3.10/site-packages/pyspark/python/lib/pyspark.zip/pyspark/pandas/internal.py:1573: FutureWarning: iteritems is deprecated and will be removed in a future version. Use .items instead.\n",
      "/home/ghost/.cache/pypoetry/virtualenvs/socialmedia-2tHBEbUS-py3.10/lib/python3.10/site-packages/pyspark/python/lib/pyspark.zip/pyspark/pandas/internal.py:1573: FutureWarning: iteritems is deprecated and will be removed in a future version. Use .items instead.\n",
      "/home/ghost/.cache/pypoetry/virtualenvs/socialmedia-2tHBEbUS-py3.10/lib/python3.10/site-packages/pyspark/python/lib/pyspark.zip/pyspark/pandas/internal.py:1573: FutureWarning: iteritems is deprecated and will be removed in a future version. Use .items instead.\n",
      "/home/ghost/.cache/pypoetry/virtualenvs/socialmedia-2tHBEbUS-py3.10/lib/python3.10/site-packages/pyspark/python/lib/pyspark.zip/pyspark/pandas/internal.py:1573: FutureWarning: iteritems is deprecated and will be removed in a future version. Use .items instead.\n",
      "/home/ghost/.cache/pypoetry/virtualenvs/socialmedia-2tHBEbUS-py3.10/lib/python3.10/site-packages/pyspark/python/lib/pyspark.zip/pyspark/pandas/internal.py:1573: FutureWarning: iteritems is deprecated and will be removed in a future version. Use .items instead.\n",
      "/home/ghost/.cache/pypoetry/virtualenvs/socialmedia-2tHBEbUS-py3.10/lib/python3.10/site-packages/pyspark/python/lib/pyspark.zip/pyspark/pandas/internal.py:1573: FutureWarning: iteritems is deprecated and will be removed in a future version. Use .items instead.\n",
      "/home/ghost/.cache/pypoetry/virtualenvs/socialmedia-2tHBEbUS-py3.10/lib/python3.10/site-packages/pyspark/python/lib/pyspark.zip/pyspark/pandas/internal.py:1573: FutureWarning: iteritems is deprecated and will be removed in a future version. Use .items instead.\n",
      "/home/ghost/.cache/pypoetry/virtualenvs/socialmedia-2tHBEbUS-py3.10/lib/python3.10/site-packages/pyspark/python/lib/pyspark.zip/pyspark/pandas/internal.py:1573: FutureWarning: iteritems is deprecated and will be removed in a future version. Use .items instead.\n",
      "/home/ghost/.cache/pypoetry/virtualenvs/socialmedia-2tHBEbUS-py3.10/lib/python3.10/site-packages/pyspark/python/lib/pyspark.zip/pyspark/pandas/internal.py:1573: FutureWarning: iteritems is deprecated and will be removed in a future version. Use .items instead.\n",
      "/home/ghost/.cache/pypoetry/virtualenvs/socialmedia-2tHBEbUS-py3.10/lib/python3.10/site-packages/pyspark/python/lib/pyspark.zip/pyspark/pandas/internal.py:1573: FutureWarning: iteritems is deprecated and will be removed in a future version. Use .items instead.\n",
      "/home/ghost/.cache/pypoetry/virtualenvs/socialmedia-2tHBEbUS-py3.10/lib/python3.10/site-packages/pyspark/python/lib/pyspark.zip/pyspark/pandas/internal.py:1573: FutureWarning: iteritems is deprecated and will be removed in a future version. Use .items instead.\n",
      "                                                                                \r"
     ]
    }
   ],
   "source": [
    "output = df.groupby([\"Tweet_ID\"])[\"TEXTBLOB_polarity\"].unique().apply(len).ne(1).sum()"
   ]
  },
  {
   "cell_type": "code",
   "execution_count": 17,
   "metadata": {},
   "outputs": [
    {
     "data": {
      "text/plain": [
       "0"
      ]
     },
     "execution_count": 17,
     "metadata": {},
     "output_type": "execute_result"
    }
   ],
   "source": [
    "output"
   ]
  },
  {
   "cell_type": "code",
   "execution_count": 18,
   "metadata": {},
   "outputs": [],
   "source": [
    "def getTextBlobSubjectivity(line):\n",
    "    analyzer = TextBlob(line)\n",
    "    return analyzer.sentiment.subjectivity"
   ]
  },
  {
   "cell_type": "code",
   "execution_count": 19,
   "metadata": {},
   "outputs": [
    {
     "name": "stderr",
     "output_type": "stream",
     "text": [
      "/home/ghost/.cache/pypoetry/virtualenvs/socialmedia-2tHBEbUS-py3.10/lib/python3.10/site-packages/pyspark/pandas/internal.py:1573: FutureWarning: iteritems is deprecated and will be removed in a future version. Use .items instead.\n",
      "  fields = [\n",
      "/home/ghost/.cache/pypoetry/virtualenvs/socialmedia-2tHBEbUS-py3.10/lib/python3.10/site-packages/pyspark/sql/pandas/conversion.py:486: FutureWarning: iteritems is deprecated and will be removed in a future version. Use .items instead.\n",
      "  for column, series in pdf.iteritems():\n"
     ]
    }
   ],
   "source": [
    "df[\"TEXTBLOB_subjectivity\"] = df[label].apply(getTextBlobSubjectivity)"
   ]
  },
  {
   "cell_type": "markdown",
   "metadata": {},
   "source": [
    "For subjectivity all the edits for the same `Tweet_ID` seem to be having the same score"
   ]
  },
  {
   "cell_type": "code",
   "execution_count": 20,
   "metadata": {},
   "outputs": [
    {
     "name": "stderr",
     "output_type": "stream",
     "text": [
      "/home/ghost/.cache/pypoetry/virtualenvs/socialmedia-2tHBEbUS-py3.10/lib/python3.10/site-packages/pyspark/python/lib/pyspark.zip/pyspark/pandas/internal.py:1573: FutureWarning: iteritems is deprecated and will be removed in a future version. Use .items instead.\n",
      "/home/ghost/.cache/pypoetry/virtualenvs/socialmedia-2tHBEbUS-py3.10/lib/python3.10/site-packages/pyspark/python/lib/pyspark.zip/pyspark/pandas/internal.py:1573: FutureWarning: iteritems is deprecated and will be removed in a future version. Use .items instead.\n",
      "/home/ghost/.cache/pypoetry/virtualenvs/socialmedia-2tHBEbUS-py3.10/lib/python3.10/site-packages/pyspark/python/lib/pyspark.zip/pyspark/pandas/internal.py:1573: FutureWarning: iteritems is deprecated and will be removed in a future version. Use .items instead.\n",
      "/home/ghost/.cache/pypoetry/virtualenvs/socialmedia-2tHBEbUS-py3.10/lib/python3.10/site-packages/pyspark/python/lib/pyspark.zip/pyspark/pandas/internal.py:1573: FutureWarning: iteritems is deprecated and will be removed in a future version. Use .items instead.\n",
      "/home/ghost/.cache/pypoetry/virtualenvs/socialmedia-2tHBEbUS-py3.10/lib/python3.10/site-packages/pyspark/python/lib/pyspark.zip/pyspark/pandas/internal.py:1573: FutureWarning: iteritems is deprecated and will be removed in a future version. Use .items instead.\n",
      "/home/ghost/.cache/pypoetry/virtualenvs/socialmedia-2tHBEbUS-py3.10/lib/python3.10/site-packages/pyspark/python/lib/pyspark.zip/pyspark/pandas/internal.py:1573: FutureWarning: iteritems is deprecated and will be removed in a future version. Use .items instead.\n",
      "/home/ghost/.cache/pypoetry/virtualenvs/socialmedia-2tHBEbUS-py3.10/lib/python3.10/site-packages/pyspark/python/lib/pyspark.zip/pyspark/pandas/internal.py:1573: FutureWarning: iteritems is deprecated and will be removed in a future version. Use .items instead.\n",
      "/home/ghost/.cache/pypoetry/virtualenvs/socialmedia-2tHBEbUS-py3.10/lib/python3.10/site-packages/pyspark/python/lib/pyspark.zip/pyspark/pandas/internal.py:1573: FutureWarning: iteritems is deprecated and will be removed in a future version. Use .items instead.\n",
      "/home/ghost/.cache/pypoetry/virtualenvs/socialmedia-2tHBEbUS-py3.10/lib/python3.10/site-packages/pyspark/python/lib/pyspark.zip/pyspark/pandas/internal.py:1573: FutureWarning: iteritems is deprecated and will be removed in a future version. Use .items instead.\n",
      "/home/ghost/.cache/pypoetry/virtualenvs/socialmedia-2tHBEbUS-py3.10/lib/python3.10/site-packages/pyspark/python/lib/pyspark.zip/pyspark/pandas/internal.py:1573: FutureWarning: iteritems is deprecated and will be removed in a future version. Use .items instead.\n",
      "/home/ghost/.cache/pypoetry/virtualenvs/socialmedia-2tHBEbUS-py3.10/lib/python3.10/site-packages/pyspark/python/lib/pyspark.zip/pyspark/pandas/internal.py:1573: FutureWarning: iteritems is deprecated and will be removed in a future version. Use .items instead.\n",
      "/home/ghost/.cache/pypoetry/virtualenvs/socialmedia-2tHBEbUS-py3.10/lib/python3.10/site-packages/pyspark/python/lib/pyspark.zip/pyspark/pandas/internal.py:1573: FutureWarning: iteritems is deprecated and will be removed in a future version. Use .items instead.\n",
      "/home/ghost/.cache/pypoetry/virtualenvs/socialmedia-2tHBEbUS-py3.10/lib/python3.10/site-packages/pyspark/python/lib/pyspark.zip/pyspark/pandas/internal.py:1573: FutureWarning: iteritems is deprecated and will be removed in a future version. Use .items instead.\n",
      "/home/ghost/.cache/pypoetry/virtualenvs/socialmedia-2tHBEbUS-py3.10/lib/python3.10/site-packages/pyspark/python/lib/pyspark.zip/pyspark/pandas/internal.py:1573: FutureWarning: iteritems is deprecated and will be removed in a future version. Use .items instead.\n",
      "/home/ghost/.cache/pypoetry/virtualenvs/socialmedia-2tHBEbUS-py3.10/lib/python3.10/site-packages/pyspark/python/lib/pyspark.zip/pyspark/pandas/internal.py:1573: FutureWarning: iteritems is deprecated and will be removed in a future version. Use .items instead.\n",
      "/home/ghost/.cache/pypoetry/virtualenvs/socialmedia-2tHBEbUS-py3.10/lib/python3.10/site-packages/pyspark/python/lib/pyspark.zip/pyspark/pandas/internal.py:1573: FutureWarning: iteritems is deprecated and will be removed in a future version. Use .items instead.\n",
      "/home/ghost/.cache/pypoetry/virtualenvs/socialmedia-2tHBEbUS-py3.10/lib/python3.10/site-packages/pyspark/python/lib/pyspark.zip/pyspark/pandas/internal.py:1573: FutureWarning: iteritems is deprecated and will be removed in a future version. Use .items instead.\n",
      "/home/ghost/.cache/pypoetry/virtualenvs/socialmedia-2tHBEbUS-py3.10/lib/python3.10/site-packages/pyspark/python/lib/pyspark.zip/pyspark/pandas/internal.py:1573: FutureWarning: iteritems is deprecated and will be removed in a future version. Use .items instead.\n",
      "/home/ghost/.cache/pypoetry/virtualenvs/socialmedia-2tHBEbUS-py3.10/lib/python3.10/site-packages/pyspark/python/lib/pyspark.zip/pyspark/pandas/internal.py:1573: FutureWarning: iteritems is deprecated and will be removed in a future version. Use .items instead.\n",
      "/home/ghost/.cache/pypoetry/virtualenvs/socialmedia-2tHBEbUS-py3.10/lib/python3.10/site-packages/pyspark/python/lib/pyspark.zip/pyspark/pandas/internal.py:1573: FutureWarning: iteritems is deprecated and will be removed in a future version. Use .items instead.\n",
      "/home/ghost/.cache/pypoetry/virtualenvs/socialmedia-2tHBEbUS-py3.10/lib/python3.10/site-packages/pyspark/python/lib/pyspark.zip/pyspark/pandas/internal.py:1573: FutureWarning: iteritems is deprecated and will be removed in a future version. Use .items instead.\n",
      "/home/ghost/.cache/pypoetry/virtualenvs/socialmedia-2tHBEbUS-py3.10/lib/python3.10/site-packages/pyspark/python/lib/pyspark.zip/pyspark/pandas/internal.py:1573: FutureWarning: iteritems is deprecated and will be removed in a future version. Use .items instead.\n",
      "/home/ghost/.cache/pypoetry/virtualenvs/socialmedia-2tHBEbUS-py3.10/lib/python3.10/site-packages/pyspark/python/lib/pyspark.zip/pyspark/pandas/internal.py:1573: FutureWarning: iteritems is deprecated and will be removed in a future version. Use .items instead.\n",
      "/home/ghost/.cache/pypoetry/virtualenvs/socialmedia-2tHBEbUS-py3.10/lib/python3.10/site-packages/pyspark/python/lib/pyspark.zip/pyspark/pandas/internal.py:1573: FutureWarning: iteritems is deprecated and will be removed in a future version. Use .items instead.\n",
      "/home/ghost/.cache/pypoetry/virtualenvs/socialmedia-2tHBEbUS-py3.10/lib/python3.10/site-packages/pyspark/python/lib/pyspark.zip/pyspark/pandas/internal.py:1573: FutureWarning: iteritems is deprecated and will be removed in a future version. Use .items instead.\n",
      "/home/ghost/.cache/pypoetry/virtualenvs/socialmedia-2tHBEbUS-py3.10/lib/python3.10/site-packages/pyspark/python/lib/pyspark.zip/pyspark/pandas/internal.py:1573: FutureWarning: iteritems is deprecated and will be removed in a future version. Use .items instead.\n",
      "/home/ghost/.cache/pypoetry/virtualenvs/socialmedia-2tHBEbUS-py3.10/lib/python3.10/site-packages/pyspark/python/lib/pyspark.zip/pyspark/pandas/internal.py:1573: FutureWarning: iteritems is deprecated and will be removed in a future version. Use .items instead.\n",
      "/home/ghost/.cache/pypoetry/virtualenvs/socialmedia-2tHBEbUS-py3.10/lib/python3.10/site-packages/pyspark/python/lib/pyspark.zip/pyspark/pandas/internal.py:1573: FutureWarning: iteritems is deprecated and will be removed in a future version. Use .items instead.\n",
      "/home/ghost/.cache/pypoetry/virtualenvs/socialmedia-2tHBEbUS-py3.10/lib/python3.10/site-packages/pyspark/python/lib/pyspark.zip/pyspark/pandas/internal.py:1573: FutureWarning: iteritems is deprecated and will be removed in a future version. Use .items instead.\n",
      "/home/ghost/.cache/pypoetry/virtualenvs/socialmedia-2tHBEbUS-py3.10/lib/python3.10/site-packages/pyspark/python/lib/pyspark.zip/pyspark/pandas/internal.py:1573: FutureWarning: iteritems is deprecated and will be removed in a future version. Use .items instead.\n",
      "/home/ghost/.cache/pypoetry/virtualenvs/socialmedia-2tHBEbUS-py3.10/lib/python3.10/site-packages/pyspark/python/lib/pyspark.zip/pyspark/pandas/internal.py:1573: FutureWarning: iteritems is deprecated and will be removed in a future version. Use .items instead.\n",
      "/home/ghost/.cache/pypoetry/virtualenvs/socialmedia-2tHBEbUS-py3.10/lib/python3.10/site-packages/pyspark/python/lib/pyspark.zip/pyspark/pandas/internal.py:1573: FutureWarning: iteritems is deprecated and will be removed in a future version. Use .items instead.\n",
      "/home/ghost/.cache/pypoetry/virtualenvs/socialmedia-2tHBEbUS-py3.10/lib/python3.10/site-packages/pyspark/pandas/internal.py:1573: FutureWarning: iteritems is deprecated and will be removed in a future version. Use .items instead.\n",
      "  fields = [\n",
      "/home/ghost/.cache/pypoetry/virtualenvs/socialmedia-2tHBEbUS-py3.10/lib/python3.10/site-packages/pyspark/sql/pandas/conversion.py:486: FutureWarning: iteritems is deprecated and will be removed in a future version. Use .items instead.\n",
      "  for column, series in pdf.iteritems():\n",
      "/home/ghost/.cache/pypoetry/virtualenvs/socialmedia-2tHBEbUS-py3.10/lib/python3.10/site-packages/pyspark/python/lib/pyspark.zip/pyspark/pandas/internal.py:1573: FutureWarning: iteritems is deprecated and will be removed in a future version. Use .items instead.\n",
      "/home/ghost/.cache/pypoetry/virtualenvs/socialmedia-2tHBEbUS-py3.10/lib/python3.10/site-packages/pyspark/python/lib/pyspark.zip/pyspark/pandas/internal.py:1573: FutureWarning: iteritems is deprecated and will be removed in a future version. Use .items instead.\n",
      "/home/ghost/.cache/pypoetry/virtualenvs/socialmedia-2tHBEbUS-py3.10/lib/python3.10/site-packages/pyspark/python/lib/pyspark.zip/pyspark/pandas/internal.py:1573: FutureWarning: iteritems is deprecated and will be removed in a future version. Use .items instead.\n",
      "/home/ghost/.cache/pypoetry/virtualenvs/socialmedia-2tHBEbUS-py3.10/lib/python3.10/site-packages/pyspark/python/lib/pyspark.zip/pyspark/pandas/internal.py:1573: FutureWarning: iteritems is deprecated and will be removed in a future version. Use .items instead.\n",
      "/home/ghost/.cache/pypoetry/virtualenvs/socialmedia-2tHBEbUS-py3.10/lib/python3.10/site-packages/pyspark/python/lib/pyspark.zip/pyspark/pandas/internal.py:1573: FutureWarning: iteritems is deprecated and will be removed in a future version. Use .items instead.\n",
      "/home/ghost/.cache/pypoetry/virtualenvs/socialmedia-2tHBEbUS-py3.10/lib/python3.10/site-packages/pyspark/python/lib/pyspark.zip/pyspark/pandas/internal.py:1573: FutureWarning: iteritems is deprecated and will be removed in a future version. Use .items instead.\n",
      "/home/ghost/.cache/pypoetry/virtualenvs/socialmedia-2tHBEbUS-py3.10/lib/python3.10/site-packages/pyspark/python/lib/pyspark.zip/pyspark/pandas/internal.py:1573: FutureWarning: iteritems is deprecated and will be removed in a future version. Use .items instead.\n",
      "/home/ghost/.cache/pypoetry/virtualenvs/socialmedia-2tHBEbUS-py3.10/lib/python3.10/site-packages/pyspark/python/lib/pyspark.zip/pyspark/pandas/internal.py:1573: FutureWarning: iteritems is deprecated and will be removed in a future version. Use .items instead.\n",
      "/home/ghost/.cache/pypoetry/virtualenvs/socialmedia-2tHBEbUS-py3.10/lib/python3.10/site-packages/pyspark/python/lib/pyspark.zip/pyspark/pandas/internal.py:1573: FutureWarning: iteritems is deprecated and will be removed in a future version. Use .items instead.\n",
      "/home/ghost/.cache/pypoetry/virtualenvs/socialmedia-2tHBEbUS-py3.10/lib/python3.10/site-packages/pyspark/python/lib/pyspark.zip/pyspark/pandas/internal.py:1573: FutureWarning: iteritems is deprecated and will be removed in a future version. Use .items instead.\n",
      "/home/ghost/.cache/pypoetry/virtualenvs/socialmedia-2tHBEbUS-py3.10/lib/python3.10/site-packages/pyspark/python/lib/pyspark.zip/pyspark/pandas/internal.py:1573: FutureWarning: iteritems is deprecated and will be removed in a future version. Use .items instead.\n",
      "/home/ghost/.cache/pypoetry/virtualenvs/socialmedia-2tHBEbUS-py3.10/lib/python3.10/site-packages/pyspark/python/lib/pyspark.zip/pyspark/pandas/internal.py:1573: FutureWarning: iteritems is deprecated and will be removed in a future version. Use .items instead.\n",
      "/home/ghost/.cache/pypoetry/virtualenvs/socialmedia-2tHBEbUS-py3.10/lib/python3.10/site-packages/pyspark/python/lib/pyspark.zip/pyspark/pandas/internal.py:1573: FutureWarning: iteritems is deprecated and will be removed in a future version. Use .items instead.\n",
      "/home/ghost/.cache/pypoetry/virtualenvs/socialmedia-2tHBEbUS-py3.10/lib/python3.10/site-packages/pyspark/python/lib/pyspark.zip/pyspark/pandas/internal.py:1573: FutureWarning: iteritems is deprecated and will be removed in a future version. Use .items instead.\n",
      "/home/ghost/.cache/pypoetry/virtualenvs/socialmedia-2tHBEbUS-py3.10/lib/python3.10/site-packages/pyspark/python/lib/pyspark.zip/pyspark/pandas/internal.py:1573: FutureWarning: iteritems is deprecated and will be removed in a future version. Use .items instead.\n",
      "/home/ghost/.cache/pypoetry/virtualenvs/socialmedia-2tHBEbUS-py3.10/lib/python3.10/site-packages/pyspark/python/lib/pyspark.zip/pyspark/pandas/internal.py:1573: FutureWarning: iteritems is deprecated and will be removed in a future version. Use .items instead.\n",
      "/home/ghost/.cache/pypoetry/virtualenvs/socialmedia-2tHBEbUS-py3.10/lib/python3.10/site-packages/pyspark/python/lib/pyspark.zip/pyspark/pandas/internal.py:1573: FutureWarning: iteritems is deprecated and will be removed in a future version. Use .items instead.\n",
      "/home/ghost/.cache/pypoetry/virtualenvs/socialmedia-2tHBEbUS-py3.10/lib/python3.10/site-packages/pyspark/python/lib/pyspark.zip/pyspark/pandas/internal.py:1573: FutureWarning: iteritems is deprecated and will be removed in a future version. Use .items instead.\n",
      "/home/ghost/.cache/pypoetry/virtualenvs/socialmedia-2tHBEbUS-py3.10/lib/python3.10/site-packages/pyspark/python/lib/pyspark.zip/pyspark/pandas/internal.py:1573: FutureWarning: iteritems is deprecated and will be removed in a future version. Use .items instead.\n",
      "/home/ghost/.cache/pypoetry/virtualenvs/socialmedia-2tHBEbUS-py3.10/lib/python3.10/site-packages/pyspark/python/lib/pyspark.zip/pyspark/pandas/internal.py:1573: FutureWarning: iteritems is deprecated and will be removed in a future version. Use .items instead.\n",
      "/home/ghost/.cache/pypoetry/virtualenvs/socialmedia-2tHBEbUS-py3.10/lib/python3.10/site-packages/pyspark/python/lib/pyspark.zip/pyspark/pandas/internal.py:1573: FutureWarning: iteritems is deprecated and will be removed in a future version. Use .items instead.\n",
      "/home/ghost/.cache/pypoetry/virtualenvs/socialmedia-2tHBEbUS-py3.10/lib/python3.10/site-packages/pyspark/python/lib/pyspark.zip/pyspark/pandas/internal.py:1573: FutureWarning: iteritems is deprecated and will be removed in a future version. Use .items instead.\n",
      "/home/ghost/.cache/pypoetry/virtualenvs/socialmedia-2tHBEbUS-py3.10/lib/python3.10/site-packages/pyspark/python/lib/pyspark.zip/pyspark/pandas/internal.py:1573: FutureWarning: iteritems is deprecated and will be removed in a future version. Use .items instead.\n",
      "/home/ghost/.cache/pypoetry/virtualenvs/socialmedia-2tHBEbUS-py3.10/lib/python3.10/site-packages/pyspark/python/lib/pyspark.zip/pyspark/pandas/internal.py:1573: FutureWarning: iteritems is deprecated and will be removed in a future version. Use .items instead.\n",
      "/home/ghost/.cache/pypoetry/virtualenvs/socialmedia-2tHBEbUS-py3.10/lib/python3.10/site-packages/pyspark/python/lib/pyspark.zip/pyspark/pandas/internal.py:1573: FutureWarning: iteritems is deprecated and will be removed in a future version. Use .items instead.\n",
      "/home/ghost/.cache/pypoetry/virtualenvs/socialmedia-2tHBEbUS-py3.10/lib/python3.10/site-packages/pyspark/python/lib/pyspark.zip/pyspark/pandas/internal.py:1573: FutureWarning: iteritems is deprecated and will be removed in a future version. Use .items instead.\n",
      "/home/ghost/.cache/pypoetry/virtualenvs/socialmedia-2tHBEbUS-py3.10/lib/python3.10/site-packages/pyspark/python/lib/pyspark.zip/pyspark/pandas/internal.py:1573: FutureWarning: iteritems is deprecated and will be removed in a future version. Use .items instead.\n",
      "/home/ghost/.cache/pypoetry/virtualenvs/socialmedia-2tHBEbUS-py3.10/lib/python3.10/site-packages/pyspark/python/lib/pyspark.zip/pyspark/pandas/internal.py:1573: FutureWarning: iteritems is deprecated and will be removed in a future version. Use .items instead.\n",
      "/home/ghost/.cache/pypoetry/virtualenvs/socialmedia-2tHBEbUS-py3.10/lib/python3.10/site-packages/pyspark/python/lib/pyspark.zip/pyspark/pandas/internal.py:1573: FutureWarning: iteritems is deprecated and will be removed in a future version. Use .items instead.\n",
      "/home/ghost/.cache/pypoetry/virtualenvs/socialmedia-2tHBEbUS-py3.10/lib/python3.10/site-packages/pyspark/python/lib/pyspark.zip/pyspark/pandas/internal.py:1573: FutureWarning: iteritems is deprecated and will be removed in a future version. Use .items instead.\n",
      "/home/ghost/.cache/pypoetry/virtualenvs/socialmedia-2tHBEbUS-py3.10/lib/python3.10/site-packages/pyspark/python/lib/pyspark.zip/pyspark/pandas/internal.py:1573: FutureWarning: iteritems is deprecated and will be removed in a future version. Use .items instead.\n",
      "/home/ghost/.cache/pypoetry/virtualenvs/socialmedia-2tHBEbUS-py3.10/lib/python3.10/site-packages/pyspark/python/lib/pyspark.zip/pyspark/pandas/internal.py:1573: FutureWarning: iteritems is deprecated and will be removed in a future version. Use .items instead.\n",
      "/home/ghost/.cache/pypoetry/virtualenvs/socialmedia-2tHBEbUS-py3.10/lib/python3.10/site-packages/pyspark/python/lib/pyspark.zip/pyspark/pandas/internal.py:1573: FutureWarning: iteritems is deprecated and will be removed in a future version. Use .items instead.\n",
      "/home/ghost/.cache/pypoetry/virtualenvs/socialmedia-2tHBEbUS-py3.10/lib/python3.10/site-packages/pyspark/python/lib/pyspark.zip/pyspark/pandas/internal.py:1573: FutureWarning: iteritems is deprecated and will be removed in a future version. Use .items instead.\n",
      "                                                                                \r"
     ]
    }
   ],
   "source": [
    "output = df.groupby([\"Tweet_ID\"])[\"TEXTBLOB_subjectivity\"].unique().apply(len).ne(1).sum()"
   ]
  },
  {
   "cell_type": "code",
   "execution_count": 21,
   "metadata": {},
   "outputs": [
    {
     "data": {
      "text/plain": [
       "0"
      ]
     },
     "execution_count": 21,
     "metadata": {},
     "output_type": "execute_result"
    }
   ],
   "source": [
    "output"
   ]
  },
  {
   "cell_type": "markdown",
   "metadata": {},
   "source": [
    "### Predicting Sentiment using Vader\n",
    "\n",
    "The following code is different from what was written in `vader_tuning.ipynb`. Here, the thresholds used for predicting sentiment are hard coded values that have been tuned in the aforementioned notebook."
   ]
  },
  {
   "cell_type": "code",
   "execution_count": 22,
   "metadata": {},
   "outputs": [],
   "source": [
    "def getVaderSentiment(score):\n",
    "    if score>=0.5:\n",
    "        return \"Positive\"\n",
    "    elif score >=-0.5:\n",
    "        return \"Neutral\"\n",
    "    return \"Negative\""
   ]
  },
  {
   "cell_type": "code",
   "execution_count": 23,
   "metadata": {},
   "outputs": [
    {
     "name": "stderr",
     "output_type": "stream",
     "text": [
      "/home/ghost/.cache/pypoetry/virtualenvs/socialmedia-2tHBEbUS-py3.10/lib/python3.10/site-packages/pyspark/python/lib/pyspark.zip/pyspark/pandas/internal.py:1573: FutureWarning: iteritems is deprecated and will be removed in a future version. Use .items instead.\n",
      "/home/ghost/.cache/pypoetry/virtualenvs/socialmedia-2tHBEbUS-py3.10/lib/python3.10/site-packages/pyspark/pandas/internal.py:1573: FutureWarning: iteritems is deprecated and will be removed in a future version. Use .items instead.\n",
      "  fields = [\n",
      "/home/ghost/.cache/pypoetry/virtualenvs/socialmedia-2tHBEbUS-py3.10/lib/python3.10/site-packages/pyspark/sql/pandas/conversion.py:486: FutureWarning: iteritems is deprecated and will be removed in a future version. Use .items instead.\n",
      "  for column, series in pdf.iteritems():\n"
     ]
    }
   ],
   "source": [
    "df[\"VADER_sentiment\"] = df[\"VADER_compound\"].apply(getVaderSentiment)"
   ]
  },
  {
   "cell_type": "code",
   "execution_count": 24,
   "metadata": {},
   "outputs": [
    {
     "name": "stderr",
     "output_type": "stream",
     "text": [
      "/home/ghost/.cache/pypoetry/virtualenvs/socialmedia-2tHBEbUS-py3.10/lib/python3.10/site-packages/pyspark/python/lib/pyspark.zip/pyspark/pandas/internal.py:1573: FutureWarning: iteritems is deprecated and will be removed in a future version. Use .items instead.\n",
      "/home/ghost/.cache/pypoetry/virtualenvs/socialmedia-2tHBEbUS-py3.10/lib/python3.10/site-packages/pyspark/python/lib/pyspark.zip/pyspark/pandas/internal.py:1573: FutureWarning: iteritems is deprecated and will be removed in a future version. Use .items instead.\n",
      "/home/ghost/.cache/pypoetry/virtualenvs/socialmedia-2tHBEbUS-py3.10/lib/python3.10/site-packages/pyspark/python/lib/pyspark.zip/pyspark/pandas/internal.py:1573: FutureWarning: iteritems is deprecated and will be removed in a future version. Use .items instead.\n",
      "/home/ghost/.cache/pypoetry/virtualenvs/socialmedia-2tHBEbUS-py3.10/lib/python3.10/site-packages/pyspark/python/lib/pyspark.zip/pyspark/pandas/internal.py:1573: FutureWarning: iteritems is deprecated and will be removed in a future version. Use .items instead.\n",
      "                                                                                \r"
     ]
    },
    {
     "data": {
      "text/html": [
       "<div>\n",
       "<style scoped>\n",
       "    .dataframe tbody tr th:only-of-type {\n",
       "        vertical-align: middle;\n",
       "    }\n",
       "\n",
       "    .dataframe tbody tr th {\n",
       "        vertical-align: top;\n",
       "    }\n",
       "\n",
       "    .dataframe thead th {\n",
       "        text-align: right;\n",
       "    }\n",
       "</style>\n",
       "<table border=\"1\" class=\"dataframe\">\n",
       "  <thead>\n",
       "    <tr style=\"text-align: right;\">\n",
       "      <th></th>\n",
       "      <th>Tweet_ID</th>\n",
       "      <th>Entity</th>\n",
       "      <th>Sentiment</th>\n",
       "      <th>Tweet_Content</th>\n",
       "      <th>VADER_compound</th>\n",
       "      <th>TEXTBLOB_polarity</th>\n",
       "      <th>TEXTBLOB_subjectivity</th>\n",
       "      <th>VADER_sentiment</th>\n",
       "    </tr>\n",
       "  </thead>\n",
       "  <tbody>\n",
       "    <tr>\n",
       "      <th>0</th>\n",
       "      <td>2401</td>\n",
       "      <td>Borderlands</td>\n",
       "      <td>Positive</td>\n",
       "      <td>im getting on borderlands and i will murder yo...</td>\n",
       "      <td>0.5574</td>\n",
       "      <td>0.227273</td>\n",
       "      <td>0.545455</td>\n",
       "      <td>Positive</td>\n",
       "    </tr>\n",
       "    <tr>\n",
       "      <th>1</th>\n",
       "      <td>2401</td>\n",
       "      <td>Borderlands</td>\n",
       "      <td>Positive</td>\n",
       "      <td>I am coming to the borders and I will kill you...</td>\n",
       "      <td>0.5574</td>\n",
       "      <td>0.227273</td>\n",
       "      <td>0.545455</td>\n",
       "      <td>Positive</td>\n",
       "    </tr>\n",
       "    <tr>\n",
       "      <th>2</th>\n",
       "      <td>2401</td>\n",
       "      <td>Borderlands</td>\n",
       "      <td>Positive</td>\n",
       "      <td>im getting on borderlands and i will kill you ...</td>\n",
       "      <td>0.5574</td>\n",
       "      <td>0.227273</td>\n",
       "      <td>0.545455</td>\n",
       "      <td>Positive</td>\n",
       "    </tr>\n",
       "    <tr>\n",
       "      <th>3</th>\n",
       "      <td>2401</td>\n",
       "      <td>Borderlands</td>\n",
       "      <td>Positive</td>\n",
       "      <td>im coming on borderlands and i will murder you...</td>\n",
       "      <td>0.5574</td>\n",
       "      <td>0.227273</td>\n",
       "      <td>0.545455</td>\n",
       "      <td>Positive</td>\n",
       "    </tr>\n",
       "    <tr>\n",
       "      <th>4</th>\n",
       "      <td>2401</td>\n",
       "      <td>Borderlands</td>\n",
       "      <td>Positive</td>\n",
       "      <td>im getting on borderlands 2 and i will murder ...</td>\n",
       "      <td>0.5574</td>\n",
       "      <td>0.227273</td>\n",
       "      <td>0.545455</td>\n",
       "      <td>Positive</td>\n",
       "    </tr>\n",
       "  </tbody>\n",
       "</table>\n",
       "</div>"
      ],
      "text/plain": [
       "   Tweet_ID       Entity Sentiment                                              Tweet_Content  VADER_compound  TEXTBLOB_polarity  TEXTBLOB_subjectivity VADER_sentiment\n",
       "0      2401  Borderlands  Positive      im getting on borderlands and i will murder you all ,          0.5574           0.227273               0.545455        Positive\n",
       "1      2401  Borderlands  Positive        I am coming to the borders and I will kill you all,          0.5574           0.227273               0.545455        Positive\n",
       "2      2401  Borderlands  Positive         im getting on borderlands and i will kill you all,          0.5574           0.227273               0.545455        Positive\n",
       "3      2401  Borderlands  Positive        im coming on borderlands and i will murder you all,          0.5574           0.227273               0.545455        Positive\n",
       "4      2401  Borderlands  Positive  im getting on borderlands 2 and i will murder you me all,          0.5574           0.227273               0.545455        Positive"
      ]
     },
     "execution_count": 24,
     "metadata": {},
     "output_type": "execute_result"
    }
   ],
   "source": [
    "df.head()"
   ]
  },
  {
   "cell_type": "markdown",
   "metadata": {},
   "source": [
    "#### Irrelevant Sentiments Vader"
   ]
  },
  {
   "cell_type": "markdown",
   "metadata": {},
   "source": [
    "Checking Accuracy for rows whose sentiment is not `Irrelevant`"
   ]
  },
  {
   "cell_type": "code",
   "execution_count": 25,
   "metadata": {},
   "outputs": [
    {
     "name": "stderr",
     "output_type": "stream",
     "text": [
      "/home/ghost/.cache/pypoetry/virtualenvs/socialmedia-2tHBEbUS-py3.10/lib/python3.10/site-packages/pyspark/python/lib/pyspark.zip/pyspark/pandas/internal.py:1573: FutureWarning: iteritems is deprecated and will be removed in a future version. Use .items instead.\n",
      "/home/ghost/.cache/pypoetry/virtualenvs/socialmedia-2tHBEbUS-py3.10/lib/python3.10/site-packages/pyspark/python/lib/pyspark.zip/pyspark/pandas/internal.py:1573: FutureWarning: iteritems is deprecated and will be removed in a future version. Use .items instead.\n",
      "/home/ghost/.cache/pypoetry/virtualenvs/socialmedia-2tHBEbUS-py3.10/lib/python3.10/site-packages/pyspark/python/lib/pyspark.zip/pyspark/pandas/internal.py:1573: FutureWarning: iteritems is deprecated and will be removed in a future version. Use .items instead.\n",
      "/home/ghost/.cache/pypoetry/virtualenvs/socialmedia-2tHBEbUS-py3.10/lib/python3.10/site-packages/pyspark/python/lib/pyspark.zip/pyspark/pandas/internal.py:1573: FutureWarning: iteritems is deprecated and will be removed in a future version. Use .items instead.\n",
      "/home/ghost/.cache/pypoetry/virtualenvs/socialmedia-2tHBEbUS-py3.10/lib/python3.10/site-packages/pyspark/python/lib/pyspark.zip/pyspark/pandas/internal.py:1573: FutureWarning: iteritems is deprecated and will be removed in a future version. Use .items instead.\n",
      "/home/ghost/.cache/pypoetry/virtualenvs/socialmedia-2tHBEbUS-py3.10/lib/python3.10/site-packages/pyspark/python/lib/pyspark.zip/pyspark/pandas/internal.py:1573: FutureWarning: iteritems is deprecated and will be removed in a future version. Use .items instead.\n",
      "/home/ghost/.cache/pypoetry/virtualenvs/socialmedia-2tHBEbUS-py3.10/lib/python3.10/site-packages/pyspark/python/lib/pyspark.zip/pyspark/pandas/internal.py:1573: FutureWarning: iteritems is deprecated and will be removed in a future version. Use .items instead.\n",
      "/home/ghost/.cache/pypoetry/virtualenvs/socialmedia-2tHBEbUS-py3.10/lib/python3.10/site-packages/pyspark/python/lib/pyspark.zip/pyspark/pandas/internal.py:1573: FutureWarning: iteritems is deprecated and will be removed in a future version. Use .items instead.\n",
      "/home/ghost/.cache/pypoetry/virtualenvs/socialmedia-2tHBEbUS-py3.10/lib/python3.10/site-packages/pyspark/python/lib/pyspark.zip/pyspark/pandas/internal.py:1573: FutureWarning: iteritems is deprecated and will be removed in a future version. Use .items instead.\n",
      "/home/ghost/.cache/pypoetry/virtualenvs/socialmedia-2tHBEbUS-py3.10/lib/python3.10/site-packages/pyspark/python/lib/pyspark.zip/pyspark/pandas/internal.py:1573: FutureWarning: iteritems is deprecated and will be removed in a future version. Use .items instead.\n",
      "/home/ghost/.cache/pypoetry/virtualenvs/socialmedia-2tHBEbUS-py3.10/lib/python3.10/site-packages/pyspark/python/lib/pyspark.zip/pyspark/pandas/internal.py:1573: FutureWarning: iteritems is deprecated and will be removed in a future version. Use .items instead.\n",
      "/home/ghost/.cache/pypoetry/virtualenvs/socialmedia-2tHBEbUS-py3.10/lib/python3.10/site-packages/pyspark/python/lib/pyspark.zip/pyspark/pandas/internal.py:1573: FutureWarning: iteritems is deprecated and will be removed in a future version. Use .items instead.\n",
      "/home/ghost/.cache/pypoetry/virtualenvs/socialmedia-2tHBEbUS-py3.10/lib/python3.10/site-packages/pyspark/python/lib/pyspark.zip/pyspark/pandas/internal.py:1573: FutureWarning: iteritems is deprecated and will be removed in a future version. Use .items instead.\n",
      "/home/ghost/.cache/pypoetry/virtualenvs/socialmedia-2tHBEbUS-py3.10/lib/python3.10/site-packages/pyspark/python/lib/pyspark.zip/pyspark/pandas/internal.py:1573: FutureWarning: iteritems is deprecated and will be removed in a future version. Use .items instead.\n",
      "/home/ghost/.cache/pypoetry/virtualenvs/socialmedia-2tHBEbUS-py3.10/lib/python3.10/site-packages/pyspark/python/lib/pyspark.zip/pyspark/pandas/internal.py:1573: FutureWarning: iteritems is deprecated and will be removed in a future version. Use .items instead.\n",
      "/home/ghost/.cache/pypoetry/virtualenvs/socialmedia-2tHBEbUS-py3.10/lib/python3.10/site-packages/pyspark/python/lib/pyspark.zip/pyspark/pandas/internal.py:1573: FutureWarning: iteritems is deprecated and will be removed in a future version. Use .items instead.\n",
      "/home/ghost/.cache/pypoetry/virtualenvs/socialmedia-2tHBEbUS-py3.10/lib/python3.10/site-packages/pyspark/python/lib/pyspark.zip/pyspark/pandas/internal.py:1573: FutureWarning: iteritems is deprecated and will be removed in a future version. Use .items instead.\n",
      "/home/ghost/.cache/pypoetry/virtualenvs/socialmedia-2tHBEbUS-py3.10/lib/python3.10/site-packages/pyspark/python/lib/pyspark.zip/pyspark/pandas/internal.py:1573: FutureWarning: iteritems is deprecated and will be removed in a future version. Use .items instead.\n",
      "/home/ghost/.cache/pypoetry/virtualenvs/socialmedia-2tHBEbUS-py3.10/lib/python3.10/site-packages/pyspark/python/lib/pyspark.zip/pyspark/pandas/internal.py:1573: FutureWarning: iteritems is deprecated and will be removed in a future version. Use .items instead.\n",
      "/home/ghost/.cache/pypoetry/virtualenvs/socialmedia-2tHBEbUS-py3.10/lib/python3.10/site-packages/pyspark/python/lib/pyspark.zip/pyspark/pandas/internal.py:1573: FutureWarning: iteritems is deprecated and will be removed in a future version. Use .items instead.\n",
      "/home/ghost/.cache/pypoetry/virtualenvs/socialmedia-2tHBEbUS-py3.10/lib/python3.10/site-packages/pyspark/python/lib/pyspark.zip/pyspark/pandas/internal.py:1573: FutureWarning: iteritems is deprecated and will be removed in a future version. Use .items instead.\n",
      "/home/ghost/.cache/pypoetry/virtualenvs/socialmedia-2tHBEbUS-py3.10/lib/python3.10/site-packages/pyspark/python/lib/pyspark.zip/pyspark/pandas/internal.py:1573: FutureWarning: iteritems is deprecated and will be removed in a future version. Use .items instead.\n",
      "/home/ghost/.cache/pypoetry/virtualenvs/socialmedia-2tHBEbUS-py3.10/lib/python3.10/site-packages/pyspark/python/lib/pyspark.zip/pyspark/pandas/internal.py:1573: FutureWarning: iteritems is deprecated and will be removed in a future version. Use .items instead.\n",
      "/home/ghost/.cache/pypoetry/virtualenvs/socialmedia-2tHBEbUS-py3.10/lib/python3.10/site-packages/pyspark/python/lib/pyspark.zip/pyspark/pandas/internal.py:1573: FutureWarning: iteritems is deprecated and will be removed in a future version. Use .items instead.\n",
      "/home/ghost/.cache/pypoetry/virtualenvs/socialmedia-2tHBEbUS-py3.10/lib/python3.10/site-packages/pyspark/python/lib/pyspark.zip/pyspark/pandas/internal.py:1573: FutureWarning: iteritems is deprecated and will be removed in a future version. Use .items instead.\n",
      "/home/ghost/.cache/pypoetry/virtualenvs/socialmedia-2tHBEbUS-py3.10/lib/python3.10/site-packages/pyspark/python/lib/pyspark.zip/pyspark/pandas/internal.py:1573: FutureWarning: iteritems is deprecated and will be removed in a future version. Use .items instead.\n",
      "/home/ghost/.cache/pypoetry/virtualenvs/socialmedia-2tHBEbUS-py3.10/lib/python3.10/site-packages/pyspark/python/lib/pyspark.zip/pyspark/pandas/internal.py:1573: FutureWarning: iteritems is deprecated and will be removed in a future version. Use .items instead.\n",
      "/home/ghost/.cache/pypoetry/virtualenvs/socialmedia-2tHBEbUS-py3.10/lib/python3.10/site-packages/pyspark/python/lib/pyspark.zip/pyspark/pandas/internal.py:1573: FutureWarning: iteritems is deprecated and will be removed in a future version. Use .items instead.\n",
      "/home/ghost/.cache/pypoetry/virtualenvs/socialmedia-2tHBEbUS-py3.10/lib/python3.10/site-packages/pyspark/python/lib/pyspark.zip/pyspark/pandas/internal.py:1573: FutureWarning: iteritems is deprecated and will be removed in a future version. Use .items instead.\n",
      "/home/ghost/.cache/pypoetry/virtualenvs/socialmedia-2tHBEbUS-py3.10/lib/python3.10/site-packages/pyspark/python/lib/pyspark.zip/pyspark/pandas/internal.py:1573: FutureWarning: iteritems is deprecated and will be removed in a future version. Use .items instead.\n",
      "/home/ghost/.cache/pypoetry/virtualenvs/socialmedia-2tHBEbUS-py3.10/lib/python3.10/site-packages/pyspark/python/lib/pyspark.zip/pyspark/pandas/internal.py:1573: FutureWarning: iteritems is deprecated and will be removed in a future version. Use .items instead.\n",
      "/home/ghost/.cache/pypoetry/virtualenvs/socialmedia-2tHBEbUS-py3.10/lib/python3.10/site-packages/pyspark/python/lib/pyspark.zip/pyspark/pandas/internal.py:1573: FutureWarning: iteritems is deprecated and will be removed in a future version. Use .items instead.\n",
      "/home/ghost/.cache/pypoetry/virtualenvs/socialmedia-2tHBEbUS-py3.10/lib/python3.10/site-packages/pyspark/python/lib/pyspark.zip/pyspark/pandas/internal.py:1573: FutureWarning: iteritems is deprecated and will be removed in a future version. Use .items instead.\n",
      "/home/ghost/.cache/pypoetry/virtualenvs/socialmedia-2tHBEbUS-py3.10/lib/python3.10/site-packages/pyspark/python/lib/pyspark.zip/pyspark/pandas/internal.py:1573: FutureWarning: iteritems is deprecated and will be removed in a future version. Use .items instead.\n",
      "/home/ghost/.cache/pypoetry/virtualenvs/socialmedia-2tHBEbUS-py3.10/lib/python3.10/site-packages/pyspark/python/lib/pyspark.zip/pyspark/pandas/internal.py:1573: FutureWarning: iteritems is deprecated and will be removed in a future version. Use .items instead.\n",
      "/home/ghost/.cache/pypoetry/virtualenvs/socialmedia-2tHBEbUS-py3.10/lib/python3.10/site-packages/pyspark/python/lib/pyspark.zip/pyspark/pandas/internal.py:1573: FutureWarning: iteritems is deprecated and will be removed in a future version. Use .items instead.\n",
      "/home/ghost/.cache/pypoetry/virtualenvs/socialmedia-2tHBEbUS-py3.10/lib/python3.10/site-packages/pyspark/python/lib/pyspark.zip/pyspark/pandas/internal.py:1573: FutureWarning: iteritems is deprecated and will be removed in a future version. Use .items instead.\n",
      "/home/ghost/.cache/pypoetry/virtualenvs/socialmedia-2tHBEbUS-py3.10/lib/python3.10/site-packages/pyspark/python/lib/pyspark.zip/pyspark/pandas/internal.py:1573: FutureWarning: iteritems is deprecated and will be removed in a future version. Use .items instead.\n",
      "/home/ghost/.cache/pypoetry/virtualenvs/socialmedia-2tHBEbUS-py3.10/lib/python3.10/site-packages/pyspark/python/lib/pyspark.zip/pyspark/pandas/internal.py:1573: FutureWarning: iteritems is deprecated and will be removed in a future version. Use .items instead.\n",
      "/home/ghost/.cache/pypoetry/virtualenvs/socialmedia-2tHBEbUS-py3.10/lib/python3.10/site-packages/pyspark/python/lib/pyspark.zip/pyspark/pandas/internal.py:1573: FutureWarning: iteritems is deprecated and will be removed in a future version. Use .items instead.\n",
      "/home/ghost/.cache/pypoetry/virtualenvs/socialmedia-2tHBEbUS-py3.10/lib/python3.10/site-packages/pyspark/python/lib/pyspark.zip/pyspark/pandas/internal.py:1573: FutureWarning: iteritems is deprecated and will be removed in a future version. Use .items instead.\n",
      "/home/ghost/.cache/pypoetry/virtualenvs/socialmedia-2tHBEbUS-py3.10/lib/python3.10/site-packages/pyspark/python/lib/pyspark.zip/pyspark/pandas/internal.py:1573: FutureWarning: iteritems is deprecated and will be removed in a future version. Use .items instead.\n",
      "/home/ghost/.cache/pypoetry/virtualenvs/socialmedia-2tHBEbUS-py3.10/lib/python3.10/site-packages/pyspark/python/lib/pyspark.zip/pyspark/pandas/internal.py:1573: FutureWarning: iteritems is deprecated and will be removed in a future version. Use .items instead.\n",
      "/home/ghost/.cache/pypoetry/virtualenvs/socialmedia-2tHBEbUS-py3.10/lib/python3.10/site-packages/pyspark/python/lib/pyspark.zip/pyspark/pandas/internal.py:1573: FutureWarning: iteritems is deprecated and will be removed in a future version. Use .items instead.\n",
      "/home/ghost/.cache/pypoetry/virtualenvs/socialmedia-2tHBEbUS-py3.10/lib/python3.10/site-packages/pyspark/python/lib/pyspark.zip/pyspark/pandas/internal.py:1573: FutureWarning: iteritems is deprecated and will be removed in a future version. Use .items instead.\n",
      "/home/ghost/.cache/pypoetry/virtualenvs/socialmedia-2tHBEbUS-py3.10/lib/python3.10/site-packages/pyspark/python/lib/pyspark.zip/pyspark/pandas/internal.py:1573: FutureWarning: iteritems is deprecated and will be removed in a future version. Use .items instead.\n",
      "/home/ghost/.cache/pypoetry/virtualenvs/socialmedia-2tHBEbUS-py3.10/lib/python3.10/site-packages/pyspark/python/lib/pyspark.zip/pyspark/pandas/internal.py:1573: FutureWarning: iteritems is deprecated and will be removed in a future version. Use .items instead.\n",
      "/home/ghost/.cache/pypoetry/virtualenvs/socialmedia-2tHBEbUS-py3.10/lib/python3.10/site-packages/pyspark/python/lib/pyspark.zip/pyspark/pandas/internal.py:1573: FutureWarning: iteritems is deprecated and will be removed in a future version. Use .items instead.\n",
      "/home/ghost/.cache/pypoetry/virtualenvs/socialmedia-2tHBEbUS-py3.10/lib/python3.10/site-packages/pyspark/python/lib/pyspark.zip/pyspark/pandas/internal.py:1573: FutureWarning: iteritems is deprecated and will be removed in a future version. Use .items instead.\n",
      "/home/ghost/.cache/pypoetry/virtualenvs/socialmedia-2tHBEbUS-py3.10/lib/python3.10/site-packages/pyspark/python/lib/pyspark.zip/pyspark/pandas/internal.py:1573: FutureWarning: iteritems is deprecated and will be removed in a future version. Use .items instead.\n",
      "/home/ghost/.cache/pypoetry/virtualenvs/socialmedia-2tHBEbUS-py3.10/lib/python3.10/site-packages/pyspark/python/lib/pyspark.zip/pyspark/pandas/internal.py:1573: FutureWarning: iteritems is deprecated and will be removed in a future version. Use .items instead.\n",
      "/home/ghost/.cache/pypoetry/virtualenvs/socialmedia-2tHBEbUS-py3.10/lib/python3.10/site-packages/pyspark/python/lib/pyspark.zip/pyspark/pandas/internal.py:1573: FutureWarning: iteritems is deprecated and will be removed in a future version. Use .items instead.\n",
      "/home/ghost/.cache/pypoetry/virtualenvs/socialmedia-2tHBEbUS-py3.10/lib/python3.10/site-packages/pyspark/python/lib/pyspark.zip/pyspark/pandas/internal.py:1573: FutureWarning: iteritems is deprecated and will be removed in a future version. Use .items instead.\n",
      "/home/ghost/.cache/pypoetry/virtualenvs/socialmedia-2tHBEbUS-py3.10/lib/python3.10/site-packages/pyspark/python/lib/pyspark.zip/pyspark/pandas/internal.py:1573: FutureWarning: iteritems is deprecated and will be removed in a future version. Use .items instead.\n",
      "/home/ghost/.cache/pypoetry/virtualenvs/socialmedia-2tHBEbUS-py3.10/lib/python3.10/site-packages/pyspark/python/lib/pyspark.zip/pyspark/pandas/internal.py:1573: FutureWarning: iteritems is deprecated and will be removed in a future version. Use .items instead.\n",
      "/home/ghost/.cache/pypoetry/virtualenvs/socialmedia-2tHBEbUS-py3.10/lib/python3.10/site-packages/pyspark/python/lib/pyspark.zip/pyspark/pandas/internal.py:1573: FutureWarning: iteritems is deprecated and will be removed in a future version. Use .items instead.\n",
      "/home/ghost/.cache/pypoetry/virtualenvs/socialmedia-2tHBEbUS-py3.10/lib/python3.10/site-packages/pyspark/python/lib/pyspark.zip/pyspark/pandas/internal.py:1573: FutureWarning: iteritems is deprecated and will be removed in a future version. Use .items instead.\n",
      "/home/ghost/.cache/pypoetry/virtualenvs/socialmedia-2tHBEbUS-py3.10/lib/python3.10/site-packages/pyspark/python/lib/pyspark.zip/pyspark/pandas/internal.py:1573: FutureWarning: iteritems is deprecated and will be removed in a future version. Use .items instead.\n",
      "/home/ghost/.cache/pypoetry/virtualenvs/socialmedia-2tHBEbUS-py3.10/lib/python3.10/site-packages/pyspark/python/lib/pyspark.zip/pyspark/pandas/internal.py:1573: FutureWarning: iteritems is deprecated and will be removed in a future version. Use .items instead.\n",
      "/home/ghost/.cache/pypoetry/virtualenvs/socialmedia-2tHBEbUS-py3.10/lib/python3.10/site-packages/pyspark/python/lib/pyspark.zip/pyspark/pandas/internal.py:1573: FutureWarning: iteritems is deprecated and will be removed in a future version. Use .items instead.\n",
      "/home/ghost/.cache/pypoetry/virtualenvs/socialmedia-2tHBEbUS-py3.10/lib/python3.10/site-packages/pyspark/python/lib/pyspark.zip/pyspark/pandas/internal.py:1573: FutureWarning: iteritems is deprecated and will be removed in a future version. Use .items instead.\n",
      "/home/ghost/.cache/pypoetry/virtualenvs/socialmedia-2tHBEbUS-py3.10/lib/python3.10/site-packages/pyspark/python/lib/pyspark.zip/pyspark/pandas/internal.py:1573: FutureWarning: iteritems is deprecated and will be removed in a future version. Use .items instead.\n",
      "/home/ghost/.cache/pypoetry/virtualenvs/socialmedia-2tHBEbUS-py3.10/lib/python3.10/site-packages/pyspark/python/lib/pyspark.zip/pyspark/pandas/internal.py:1573: FutureWarning: iteritems is deprecated and will be removed in a future version. Use .items instead.\n",
      "/home/ghost/.cache/pypoetry/virtualenvs/socialmedia-2tHBEbUS-py3.10/lib/python3.10/site-packages/pyspark/python/lib/pyspark.zip/pyspark/pandas/internal.py:1573: FutureWarning: iteritems is deprecated and will be removed in a future version. Use .items instead.\n",
      "                                                                                \r"
     ]
    }
   ],
   "source": [
    "not_irrelevant = df[df[label]!=\"Irrelevant\"]\n",
    "output = ((not_irrelevant[label] == not_irrelevant[\"VADER_sentiment\"]).sum())/len(not_irrelevant)"
   ]
  },
  {
   "cell_type": "code",
   "execution_count": 26,
   "metadata": {},
   "outputs": [
    {
     "data": {
      "text/plain": [
       "1.0"
      ]
     },
     "execution_count": 26,
     "metadata": {},
     "output_type": "execute_result"
    }
   ],
   "source": [
    "output"
   ]
  },
  {
   "cell_type": "markdown",
   "metadata": {},
   "source": [
    "Vader sentiment predicted all labels accurately"
   ]
  },
  {
   "cell_type": "markdown",
   "metadata": {},
   "source": [
    "### Predicting Sentiments using TextBlob"
   ]
  },
  {
   "cell_type": "markdown",
   "metadata": {},
   "source": [
    "Doing the same with TextBlob"
   ]
  },
  {
   "cell_type": "code",
   "execution_count": 27,
   "metadata": {},
   "outputs": [],
   "source": [
    "def getTextBlobSentiment(polarity):\n",
    "    if polarity>=0.2:\n",
    "        return \"Positive\"\n",
    "    elif polarity >=-0.2:\n",
    "        return \"Neutral\"\n",
    "    return \"Negative\""
   ]
  },
  {
   "cell_type": "code",
   "execution_count": 28,
   "metadata": {},
   "outputs": [
    {
     "name": "stderr",
     "output_type": "stream",
     "text": [
      "/home/ghost/.cache/pypoetry/virtualenvs/socialmedia-2tHBEbUS-py3.10/lib/python3.10/site-packages/pyspark/python/lib/pyspark.zip/pyspark/pandas/internal.py:1573: FutureWarning: iteritems is deprecated and will be removed in a future version. Use .items instead.\n",
      "/home/ghost/.cache/pypoetry/virtualenvs/socialmedia-2tHBEbUS-py3.10/lib/python3.10/site-packages/pyspark/pandas/internal.py:1573: FutureWarning: iteritems is deprecated and will be removed in a future version. Use .items instead.\n",
      "  fields = [\n",
      "/home/ghost/.cache/pypoetry/virtualenvs/socialmedia-2tHBEbUS-py3.10/lib/python3.10/site-packages/pyspark/sql/pandas/conversion.py:486: FutureWarning: iteritems is deprecated and will be removed in a future version. Use .items instead.\n",
      "  for column, series in pdf.iteritems():\n"
     ]
    }
   ],
   "source": [
    "df[\"TEXTBLOB_sentiment\"] = df[\"TEXTBLOB_polarity\"].apply(getTextBlobSentiment)"
   ]
  },
  {
   "cell_type": "markdown",
   "metadata": {},
   "source": [
    "#### Irrelevant Sentiments Text Blob"
   ]
  },
  {
   "cell_type": "code",
   "execution_count": 29,
   "metadata": {},
   "outputs": [
    {
     "name": "stderr",
     "output_type": "stream",
     "text": [
      "/home/ghost/.cache/pypoetry/virtualenvs/socialmedia-2tHBEbUS-py3.10/lib/python3.10/site-packages/pyspark/python/lib/pyspark.zip/pyspark/pandas/internal.py:1573: FutureWarning: iteritems is deprecated and will be removed in a future version. Use .items instead.\n",
      "/home/ghost/.cache/pypoetry/virtualenvs/socialmedia-2tHBEbUS-py3.10/lib/python3.10/site-packages/pyspark/python/lib/pyspark.zip/pyspark/pandas/internal.py:1573: FutureWarning: iteritems is deprecated and will be removed in a future version. Use .items instead.\n",
      "/home/ghost/.cache/pypoetry/virtualenvs/socialmedia-2tHBEbUS-py3.10/lib/python3.10/site-packages/pyspark/python/lib/pyspark.zip/pyspark/pandas/internal.py:1573: FutureWarning: iteritems is deprecated and will be removed in a future version. Use .items instead.\n",
      "/home/ghost/.cache/pypoetry/virtualenvs/socialmedia-2tHBEbUS-py3.10/lib/python3.10/site-packages/pyspark/python/lib/pyspark.zip/pyspark/pandas/internal.py:1573: FutureWarning: iteritems is deprecated and will be removed in a future version. Use .items instead.\n",
      "/home/ghost/.cache/pypoetry/virtualenvs/socialmedia-2tHBEbUS-py3.10/lib/python3.10/site-packages/pyspark/python/lib/pyspark.zip/pyspark/pandas/internal.py:1573: FutureWarning: iteritems is deprecated and will be removed in a future version. Use .items instead.\n",
      "/home/ghost/.cache/pypoetry/virtualenvs/socialmedia-2tHBEbUS-py3.10/lib/python3.10/site-packages/pyspark/python/lib/pyspark.zip/pyspark/pandas/internal.py:1573: FutureWarning: iteritems is deprecated and will be removed in a future version. Use .items instead.\n",
      "/home/ghost/.cache/pypoetry/virtualenvs/socialmedia-2tHBEbUS-py3.10/lib/python3.10/site-packages/pyspark/python/lib/pyspark.zip/pyspark/pandas/internal.py:1573: FutureWarning: iteritems is deprecated and will be removed in a future version. Use .items instead.\n",
      "/home/ghost/.cache/pypoetry/virtualenvs/socialmedia-2tHBEbUS-py3.10/lib/python3.10/site-packages/pyspark/python/lib/pyspark.zip/pyspark/pandas/internal.py:1573: FutureWarning: iteritems is deprecated and will be removed in a future version. Use .items instead.\n",
      "/home/ghost/.cache/pypoetry/virtualenvs/socialmedia-2tHBEbUS-py3.10/lib/python3.10/site-packages/pyspark/python/lib/pyspark.zip/pyspark/pandas/internal.py:1573: FutureWarning: iteritems is deprecated and will be removed in a future version. Use .items instead.\n",
      "/home/ghost/.cache/pypoetry/virtualenvs/socialmedia-2tHBEbUS-py3.10/lib/python3.10/site-packages/pyspark/python/lib/pyspark.zip/pyspark/pandas/internal.py:1573: FutureWarning: iteritems is deprecated and will be removed in a future version. Use .items instead.\n",
      "/home/ghost/.cache/pypoetry/virtualenvs/socialmedia-2tHBEbUS-py3.10/lib/python3.10/site-packages/pyspark/python/lib/pyspark.zip/pyspark/pandas/internal.py:1573: FutureWarning: iteritems is deprecated and will be removed in a future version. Use .items instead.\n",
      "/home/ghost/.cache/pypoetry/virtualenvs/socialmedia-2tHBEbUS-py3.10/lib/python3.10/site-packages/pyspark/python/lib/pyspark.zip/pyspark/pandas/internal.py:1573: FutureWarning: iteritems is deprecated and will be removed in a future version. Use .items instead.\n",
      "/home/ghost/.cache/pypoetry/virtualenvs/socialmedia-2tHBEbUS-py3.10/lib/python3.10/site-packages/pyspark/python/lib/pyspark.zip/pyspark/pandas/internal.py:1573: FutureWarning: iteritems is deprecated and will be removed in a future version. Use .items instead.\n",
      "/home/ghost/.cache/pypoetry/virtualenvs/socialmedia-2tHBEbUS-py3.10/lib/python3.10/site-packages/pyspark/python/lib/pyspark.zip/pyspark/pandas/internal.py:1573: FutureWarning: iteritems is deprecated and will be removed in a future version. Use .items instead.\n",
      "/home/ghost/.cache/pypoetry/virtualenvs/socialmedia-2tHBEbUS-py3.10/lib/python3.10/site-packages/pyspark/python/lib/pyspark.zip/pyspark/pandas/internal.py:1573: FutureWarning: iteritems is deprecated and will be removed in a future version. Use .items instead.\n",
      "/home/ghost/.cache/pypoetry/virtualenvs/socialmedia-2tHBEbUS-py3.10/lib/python3.10/site-packages/pyspark/python/lib/pyspark.zip/pyspark/pandas/internal.py:1573: FutureWarning: iteritems is deprecated and will be removed in a future version. Use .items instead.\n",
      "/home/ghost/.cache/pypoetry/virtualenvs/socialmedia-2tHBEbUS-py3.10/lib/python3.10/site-packages/pyspark/python/lib/pyspark.zip/pyspark/pandas/internal.py:1573: FutureWarning: iteritems is deprecated and will be removed in a future version. Use .items instead.\n",
      "/home/ghost/.cache/pypoetry/virtualenvs/socialmedia-2tHBEbUS-py3.10/lib/python3.10/site-packages/pyspark/python/lib/pyspark.zip/pyspark/pandas/internal.py:1573: FutureWarning: iteritems is deprecated and will be removed in a future version. Use .items instead.\n",
      "/home/ghost/.cache/pypoetry/virtualenvs/socialmedia-2tHBEbUS-py3.10/lib/python3.10/site-packages/pyspark/python/lib/pyspark.zip/pyspark/pandas/internal.py:1573: FutureWarning: iteritems is deprecated and will be removed in a future version. Use .items instead.\n",
      "/home/ghost/.cache/pypoetry/virtualenvs/socialmedia-2tHBEbUS-py3.10/lib/python3.10/site-packages/pyspark/python/lib/pyspark.zip/pyspark/pandas/internal.py:1573: FutureWarning: iteritems is deprecated and will be removed in a future version. Use .items instead.\n",
      "/home/ghost/.cache/pypoetry/virtualenvs/socialmedia-2tHBEbUS-py3.10/lib/python3.10/site-packages/pyspark/python/lib/pyspark.zip/pyspark/pandas/internal.py:1573: FutureWarning: iteritems is deprecated and will be removed in a future version. Use .items instead.\n",
      "/home/ghost/.cache/pypoetry/virtualenvs/socialmedia-2tHBEbUS-py3.10/lib/python3.10/site-packages/pyspark/python/lib/pyspark.zip/pyspark/pandas/internal.py:1573: FutureWarning: iteritems is deprecated and will be removed in a future version. Use .items instead.\n",
      "/home/ghost/.cache/pypoetry/virtualenvs/socialmedia-2tHBEbUS-py3.10/lib/python3.10/site-packages/pyspark/python/lib/pyspark.zip/pyspark/pandas/internal.py:1573: FutureWarning: iteritems is deprecated and will be removed in a future version. Use .items instead.\n",
      "/home/ghost/.cache/pypoetry/virtualenvs/socialmedia-2tHBEbUS-py3.10/lib/python3.10/site-packages/pyspark/python/lib/pyspark.zip/pyspark/pandas/internal.py:1573: FutureWarning: iteritems is deprecated and will be removed in a future version. Use .items instead.\n",
      "/home/ghost/.cache/pypoetry/virtualenvs/socialmedia-2tHBEbUS-py3.10/lib/python3.10/site-packages/pyspark/python/lib/pyspark.zip/pyspark/pandas/internal.py:1573: FutureWarning: iteritems is deprecated and will be removed in a future version. Use .items instead.\n",
      "/home/ghost/.cache/pypoetry/virtualenvs/socialmedia-2tHBEbUS-py3.10/lib/python3.10/site-packages/pyspark/python/lib/pyspark.zip/pyspark/pandas/internal.py:1573: FutureWarning: iteritems is deprecated and will be removed in a future version. Use .items instead.\n",
      "/home/ghost/.cache/pypoetry/virtualenvs/socialmedia-2tHBEbUS-py3.10/lib/python3.10/site-packages/pyspark/python/lib/pyspark.zip/pyspark/pandas/internal.py:1573: FutureWarning: iteritems is deprecated and will be removed in a future version. Use .items instead.\n",
      "/home/ghost/.cache/pypoetry/virtualenvs/socialmedia-2tHBEbUS-py3.10/lib/python3.10/site-packages/pyspark/python/lib/pyspark.zip/pyspark/pandas/internal.py:1573: FutureWarning: iteritems is deprecated and will be removed in a future version. Use .items instead.\n",
      "/home/ghost/.cache/pypoetry/virtualenvs/socialmedia-2tHBEbUS-py3.10/lib/python3.10/site-packages/pyspark/python/lib/pyspark.zip/pyspark/pandas/internal.py:1573: FutureWarning: iteritems is deprecated and will be removed in a future version. Use .items instead.\n",
      "/home/ghost/.cache/pypoetry/virtualenvs/socialmedia-2tHBEbUS-py3.10/lib/python3.10/site-packages/pyspark/python/lib/pyspark.zip/pyspark/pandas/internal.py:1573: FutureWarning: iteritems is deprecated and will be removed in a future version. Use .items instead.\n",
      "/home/ghost/.cache/pypoetry/virtualenvs/socialmedia-2tHBEbUS-py3.10/lib/python3.10/site-packages/pyspark/python/lib/pyspark.zip/pyspark/pandas/internal.py:1573: FutureWarning: iteritems is deprecated and will be removed in a future version. Use .items instead.\n",
      "/home/ghost/.cache/pypoetry/virtualenvs/socialmedia-2tHBEbUS-py3.10/lib/python3.10/site-packages/pyspark/python/lib/pyspark.zip/pyspark/pandas/internal.py:1573: FutureWarning: iteritems is deprecated and will be removed in a future version. Use .items instead.\n",
      "/home/ghost/.cache/pypoetry/virtualenvs/socialmedia-2tHBEbUS-py3.10/lib/python3.10/site-packages/pyspark/python/lib/pyspark.zip/pyspark/pandas/internal.py:1573: FutureWarning: iteritems is deprecated and will be removed in a future version. Use .items instead.\n",
      "/home/ghost/.cache/pypoetry/virtualenvs/socialmedia-2tHBEbUS-py3.10/lib/python3.10/site-packages/pyspark/python/lib/pyspark.zip/pyspark/pandas/internal.py:1573: FutureWarning: iteritems is deprecated and will be removed in a future version. Use .items instead.\n",
      "/home/ghost/.cache/pypoetry/virtualenvs/socialmedia-2tHBEbUS-py3.10/lib/python3.10/site-packages/pyspark/python/lib/pyspark.zip/pyspark/pandas/internal.py:1573: FutureWarning: iteritems is deprecated and will be removed in a future version. Use .items instead.\n",
      "/home/ghost/.cache/pypoetry/virtualenvs/socialmedia-2tHBEbUS-py3.10/lib/python3.10/site-packages/pyspark/python/lib/pyspark.zip/pyspark/pandas/internal.py:1573: FutureWarning: iteritems is deprecated and will be removed in a future version. Use .items instead.\n",
      "/home/ghost/.cache/pypoetry/virtualenvs/socialmedia-2tHBEbUS-py3.10/lib/python3.10/site-packages/pyspark/python/lib/pyspark.zip/pyspark/pandas/internal.py:1573: FutureWarning: iteritems is deprecated and will be removed in a future version. Use .items instead.\n",
      "/home/ghost/.cache/pypoetry/virtualenvs/socialmedia-2tHBEbUS-py3.10/lib/python3.10/site-packages/pyspark/python/lib/pyspark.zip/pyspark/pandas/internal.py:1573: FutureWarning: iteritems is deprecated and will be removed in a future version. Use .items instead.\n",
      "/home/ghost/.cache/pypoetry/virtualenvs/socialmedia-2tHBEbUS-py3.10/lib/python3.10/site-packages/pyspark/python/lib/pyspark.zip/pyspark/pandas/internal.py:1573: FutureWarning: iteritems is deprecated and will be removed in a future version. Use .items instead.\n",
      "/home/ghost/.cache/pypoetry/virtualenvs/socialmedia-2tHBEbUS-py3.10/lib/python3.10/site-packages/pyspark/python/lib/pyspark.zip/pyspark/pandas/internal.py:1573: FutureWarning: iteritems is deprecated and will be removed in a future version. Use .items instead.\n",
      "/home/ghost/.cache/pypoetry/virtualenvs/socialmedia-2tHBEbUS-py3.10/lib/python3.10/site-packages/pyspark/python/lib/pyspark.zip/pyspark/pandas/internal.py:1573: FutureWarning: iteritems is deprecated and will be removed in a future version. Use .items instead.\n",
      "/home/ghost/.cache/pypoetry/virtualenvs/socialmedia-2tHBEbUS-py3.10/lib/python3.10/site-packages/pyspark/python/lib/pyspark.zip/pyspark/pandas/internal.py:1573: FutureWarning: iteritems is deprecated and will be removed in a future version. Use .items instead.\n",
      "/home/ghost/.cache/pypoetry/virtualenvs/socialmedia-2tHBEbUS-py3.10/lib/python3.10/site-packages/pyspark/python/lib/pyspark.zip/pyspark/pandas/internal.py:1573: FutureWarning: iteritems is deprecated and will be removed in a future version. Use .items instead.\n",
      "/home/ghost/.cache/pypoetry/virtualenvs/socialmedia-2tHBEbUS-py3.10/lib/python3.10/site-packages/pyspark/python/lib/pyspark.zip/pyspark/pandas/internal.py:1573: FutureWarning: iteritems is deprecated and will be removed in a future version. Use .items instead.\n",
      "/home/ghost/.cache/pypoetry/virtualenvs/socialmedia-2tHBEbUS-py3.10/lib/python3.10/site-packages/pyspark/python/lib/pyspark.zip/pyspark/pandas/internal.py:1573: FutureWarning: iteritems is deprecated and will be removed in a future version. Use .items instead.\n",
      "/home/ghost/.cache/pypoetry/virtualenvs/socialmedia-2tHBEbUS-py3.10/lib/python3.10/site-packages/pyspark/python/lib/pyspark.zip/pyspark/pandas/internal.py:1573: FutureWarning: iteritems is deprecated and will be removed in a future version. Use .items instead.\n",
      "/home/ghost/.cache/pypoetry/virtualenvs/socialmedia-2tHBEbUS-py3.10/lib/python3.10/site-packages/pyspark/python/lib/pyspark.zip/pyspark/pandas/internal.py:1573: FutureWarning: iteritems is deprecated and will be removed in a future version. Use .items instead.\n",
      "/home/ghost/.cache/pypoetry/virtualenvs/socialmedia-2tHBEbUS-py3.10/lib/python3.10/site-packages/pyspark/python/lib/pyspark.zip/pyspark/pandas/internal.py:1573: FutureWarning: iteritems is deprecated and will be removed in a future version. Use .items instead.\n",
      "/home/ghost/.cache/pypoetry/virtualenvs/socialmedia-2tHBEbUS-py3.10/lib/python3.10/site-packages/pyspark/python/lib/pyspark.zip/pyspark/pandas/internal.py:1573: FutureWarning: iteritems is deprecated and will be removed in a future version. Use .items instead.\n",
      "/home/ghost/.cache/pypoetry/virtualenvs/socialmedia-2tHBEbUS-py3.10/lib/python3.10/site-packages/pyspark/python/lib/pyspark.zip/pyspark/pandas/internal.py:1573: FutureWarning: iteritems is deprecated and will be removed in a future version. Use .items instead.\n",
      "/home/ghost/.cache/pypoetry/virtualenvs/socialmedia-2tHBEbUS-py3.10/lib/python3.10/site-packages/pyspark/python/lib/pyspark.zip/pyspark/pandas/internal.py:1573: FutureWarning: iteritems is deprecated and will be removed in a future version. Use .items instead.\n",
      "/home/ghost/.cache/pypoetry/virtualenvs/socialmedia-2tHBEbUS-py3.10/lib/python3.10/site-packages/pyspark/python/lib/pyspark.zip/pyspark/pandas/internal.py:1573: FutureWarning: iteritems is deprecated and will be removed in a future version. Use .items instead.\n",
      "/home/ghost/.cache/pypoetry/virtualenvs/socialmedia-2tHBEbUS-py3.10/lib/python3.10/site-packages/pyspark/python/lib/pyspark.zip/pyspark/pandas/internal.py:1573: FutureWarning: iteritems is deprecated and will be removed in a future version. Use .items instead.\n",
      "/home/ghost/.cache/pypoetry/virtualenvs/socialmedia-2tHBEbUS-py3.10/lib/python3.10/site-packages/pyspark/python/lib/pyspark.zip/pyspark/pandas/internal.py:1573: FutureWarning: iteritems is deprecated and will be removed in a future version. Use .items instead.\n",
      "/home/ghost/.cache/pypoetry/virtualenvs/socialmedia-2tHBEbUS-py3.10/lib/python3.10/site-packages/pyspark/python/lib/pyspark.zip/pyspark/pandas/internal.py:1573: FutureWarning: iteritems is deprecated and will be removed in a future version. Use .items instead.\n",
      "/home/ghost/.cache/pypoetry/virtualenvs/socialmedia-2tHBEbUS-py3.10/lib/python3.10/site-packages/pyspark/python/lib/pyspark.zip/pyspark/pandas/internal.py:1573: FutureWarning: iteritems is deprecated and will be removed in a future version. Use .items instead.\n",
      "/home/ghost/.cache/pypoetry/virtualenvs/socialmedia-2tHBEbUS-py3.10/lib/python3.10/site-packages/pyspark/python/lib/pyspark.zip/pyspark/pandas/internal.py:1573: FutureWarning: iteritems is deprecated and will be removed in a future version. Use .items instead.\n",
      "/home/ghost/.cache/pypoetry/virtualenvs/socialmedia-2tHBEbUS-py3.10/lib/python3.10/site-packages/pyspark/python/lib/pyspark.zip/pyspark/pandas/internal.py:1573: FutureWarning: iteritems is deprecated and will be removed in a future version. Use .items instead.\n",
      "/home/ghost/.cache/pypoetry/virtualenvs/socialmedia-2tHBEbUS-py3.10/lib/python3.10/site-packages/pyspark/python/lib/pyspark.zip/pyspark/pandas/internal.py:1573: FutureWarning: iteritems is deprecated and will be removed in a future version. Use .items instead.\n",
      "/home/ghost/.cache/pypoetry/virtualenvs/socialmedia-2tHBEbUS-py3.10/lib/python3.10/site-packages/pyspark/python/lib/pyspark.zip/pyspark/pandas/internal.py:1573: FutureWarning: iteritems is deprecated and will be removed in a future version. Use .items instead.\n",
      "/home/ghost/.cache/pypoetry/virtualenvs/socialmedia-2tHBEbUS-py3.10/lib/python3.10/site-packages/pyspark/python/lib/pyspark.zip/pyspark/pandas/internal.py:1573: FutureWarning: iteritems is deprecated and will be removed in a future version. Use .items instead.\n",
      "/home/ghost/.cache/pypoetry/virtualenvs/socialmedia-2tHBEbUS-py3.10/lib/python3.10/site-packages/pyspark/python/lib/pyspark.zip/pyspark/pandas/internal.py:1573: FutureWarning: iteritems is deprecated and will be removed in a future version. Use .items instead.\n",
      "/home/ghost/.cache/pypoetry/virtualenvs/socialmedia-2tHBEbUS-py3.10/lib/python3.10/site-packages/pyspark/python/lib/pyspark.zip/pyspark/pandas/internal.py:1573: FutureWarning: iteritems is deprecated and will be removed in a future version. Use .items instead.\n",
      "/home/ghost/.cache/pypoetry/virtualenvs/socialmedia-2tHBEbUS-py3.10/lib/python3.10/site-packages/pyspark/python/lib/pyspark.zip/pyspark/pandas/internal.py:1573: FutureWarning: iteritems is deprecated and will be removed in a future version. Use .items instead.\n",
      "                                                                                \r"
     ]
    }
   ],
   "source": [
    "not_irrelevant = df[df[label]!=\"Irrelevant\"]\n",
    "output = ((not_irrelevant[label] == not_irrelevant[\"TEXTBLOB_sentiment\"]).sum())/len(not_irrelevant)"
   ]
  },
  {
   "cell_type": "code",
   "execution_count": 30,
   "metadata": {},
   "outputs": [
    {
     "data": {
      "text/plain": [
       "1.0"
      ]
     },
     "execution_count": 30,
     "metadata": {},
     "output_type": "execute_result"
    }
   ],
   "source": [
    "output"
   ]
  },
  {
   "cell_type": "markdown",
   "metadata": {},
   "source": [
    "TextBlob also predicted all labels accurately"
   ]
  },
  {
   "cell_type": "code",
   "execution_count": 31,
   "metadata": {},
   "outputs": [
    {
     "name": "stderr",
     "output_type": "stream",
     "text": [
      "/home/ghost/.cache/pypoetry/virtualenvs/socialmedia-2tHBEbUS-py3.10/lib/python3.10/site-packages/pyspark/python/lib/pyspark.zip/pyspark/pandas/internal.py:1573: FutureWarning: iteritems is deprecated and will be removed in a future version. Use .items instead.\n",
      "/home/ghost/.cache/pypoetry/virtualenvs/socialmedia-2tHBEbUS-py3.10/lib/python3.10/site-packages/pyspark/python/lib/pyspark.zip/pyspark/pandas/internal.py:1573: FutureWarning: iteritems is deprecated and will be removed in a future version. Use .items instead.\n",
      "/home/ghost/.cache/pypoetry/virtualenvs/socialmedia-2tHBEbUS-py3.10/lib/python3.10/site-packages/pyspark/python/lib/pyspark.zip/pyspark/pandas/internal.py:1573: FutureWarning: iteritems is deprecated and will be removed in a future version. Use .items instead.\n",
      "/home/ghost/.cache/pypoetry/virtualenvs/socialmedia-2tHBEbUS-py3.10/lib/python3.10/site-packages/pyspark/python/lib/pyspark.zip/pyspark/pandas/internal.py:1573: FutureWarning: iteritems is deprecated and will be removed in a future version. Use .items instead.\n",
      "/home/ghost/.cache/pypoetry/virtualenvs/socialmedia-2tHBEbUS-py3.10/lib/python3.10/site-packages/pyspark/python/lib/pyspark.zip/pyspark/pandas/internal.py:1573: FutureWarning: iteritems is deprecated and will be removed in a future version. Use .items instead.\n",
      "                                                                                \r"
     ]
    },
    {
     "data": {
      "text/html": [
       "<div>\n",
       "<style scoped>\n",
       "    .dataframe tbody tr th:only-of-type {\n",
       "        vertical-align: middle;\n",
       "    }\n",
       "\n",
       "    .dataframe tbody tr th {\n",
       "        vertical-align: top;\n",
       "    }\n",
       "\n",
       "    .dataframe thead th {\n",
       "        text-align: right;\n",
       "    }\n",
       "</style>\n",
       "<table border=\"1\" class=\"dataframe\">\n",
       "  <thead>\n",
       "    <tr style=\"text-align: right;\">\n",
       "      <th></th>\n",
       "      <th>Tweet_ID</th>\n",
       "      <th>Entity</th>\n",
       "      <th>Sentiment</th>\n",
       "      <th>Tweet_Content</th>\n",
       "      <th>VADER_compound</th>\n",
       "      <th>TEXTBLOB_polarity</th>\n",
       "      <th>TEXTBLOB_subjectivity</th>\n",
       "      <th>VADER_sentiment</th>\n",
       "      <th>TEXTBLOB_sentiment</th>\n",
       "    </tr>\n",
       "  </thead>\n",
       "  <tbody>\n",
       "    <tr>\n",
       "      <th>0</th>\n",
       "      <td>2401</td>\n",
       "      <td>Borderlands</td>\n",
       "      <td>Positive</td>\n",
       "      <td>im getting on borderlands and i will murder yo...</td>\n",
       "      <td>0.5574</td>\n",
       "      <td>0.227273</td>\n",
       "      <td>0.545455</td>\n",
       "      <td>Positive</td>\n",
       "      <td>Positive</td>\n",
       "    </tr>\n",
       "    <tr>\n",
       "      <th>1</th>\n",
       "      <td>2401</td>\n",
       "      <td>Borderlands</td>\n",
       "      <td>Positive</td>\n",
       "      <td>I am coming to the borders and I will kill you...</td>\n",
       "      <td>0.5574</td>\n",
       "      <td>0.227273</td>\n",
       "      <td>0.545455</td>\n",
       "      <td>Positive</td>\n",
       "      <td>Positive</td>\n",
       "    </tr>\n",
       "    <tr>\n",
       "      <th>2</th>\n",
       "      <td>2401</td>\n",
       "      <td>Borderlands</td>\n",
       "      <td>Positive</td>\n",
       "      <td>im getting on borderlands and i will kill you ...</td>\n",
       "      <td>0.5574</td>\n",
       "      <td>0.227273</td>\n",
       "      <td>0.545455</td>\n",
       "      <td>Positive</td>\n",
       "      <td>Positive</td>\n",
       "    </tr>\n",
       "    <tr>\n",
       "      <th>3</th>\n",
       "      <td>2401</td>\n",
       "      <td>Borderlands</td>\n",
       "      <td>Positive</td>\n",
       "      <td>im coming on borderlands and i will murder you...</td>\n",
       "      <td>0.5574</td>\n",
       "      <td>0.227273</td>\n",
       "      <td>0.545455</td>\n",
       "      <td>Positive</td>\n",
       "      <td>Positive</td>\n",
       "    </tr>\n",
       "    <tr>\n",
       "      <th>4</th>\n",
       "      <td>2401</td>\n",
       "      <td>Borderlands</td>\n",
       "      <td>Positive</td>\n",
       "      <td>im getting on borderlands 2 and i will murder ...</td>\n",
       "      <td>0.5574</td>\n",
       "      <td>0.227273</td>\n",
       "      <td>0.545455</td>\n",
       "      <td>Positive</td>\n",
       "      <td>Positive</td>\n",
       "    </tr>\n",
       "  </tbody>\n",
       "</table>\n",
       "</div>"
      ],
      "text/plain": [
       "   Tweet_ID       Entity Sentiment                                              Tweet_Content  VADER_compound  TEXTBLOB_polarity  TEXTBLOB_subjectivity VADER_sentiment TEXTBLOB_sentiment\n",
       "0      2401  Borderlands  Positive      im getting on borderlands and i will murder you all ,          0.5574           0.227273               0.545455        Positive           Positive\n",
       "1      2401  Borderlands  Positive        I am coming to the borders and I will kill you all,          0.5574           0.227273               0.545455        Positive           Positive\n",
       "2      2401  Borderlands  Positive         im getting on borderlands and i will kill you all,          0.5574           0.227273               0.545455        Positive           Positive\n",
       "3      2401  Borderlands  Positive        im coming on borderlands and i will murder you all,          0.5574           0.227273               0.545455        Positive           Positive\n",
       "4      2401  Borderlands  Positive  im getting on borderlands 2 and i will murder you me all,          0.5574           0.227273               0.545455        Positive           Positive"
      ]
     },
     "execution_count": 31,
     "metadata": {},
     "output_type": "execute_result"
    }
   ],
   "source": [
    "df.head()"
   ]
  },
  {
   "cell_type": "markdown",
   "metadata": {},
   "source": [
    "### Comparing Vader Compound values with TextBlob polarity"
   ]
  },
  {
   "cell_type": "code",
   "execution_count": 32,
   "metadata": {},
   "outputs": [
    {
     "name": "stderr",
     "output_type": "stream",
     "text": [
      "/home/ghost/.cache/pypoetry/virtualenvs/socialmedia-2tHBEbUS-py3.10/lib/python3.10/site-packages/pyspark/python/lib/pyspark.zip/pyspark/pandas/internal.py:1573: FutureWarning: iteritems is deprecated and will be removed in a future version. Use .items instead.\n",
      "/home/ghost/.cache/pypoetry/virtualenvs/socialmedia-2tHBEbUS-py3.10/lib/python3.10/site-packages/pyspark/python/lib/pyspark.zip/pyspark/pandas/internal.py:1573: FutureWarning: iteritems is deprecated and will be removed in a future version. Use .items instead.\n",
      "/home/ghost/.cache/pypoetry/virtualenvs/socialmedia-2tHBEbUS-py3.10/lib/python3.10/site-packages/pyspark/python/lib/pyspark.zip/pyspark/pandas/internal.py:1573: FutureWarning: iteritems is deprecated and will be removed in a future version. Use .items instead.\n",
      "/home/ghost/.cache/pypoetry/virtualenvs/socialmedia-2tHBEbUS-py3.10/lib/python3.10/site-packages/pyspark/python/lib/pyspark.zip/pyspark/pandas/internal.py:1573: FutureWarning: iteritems is deprecated and will be removed in a future version. Use .items instead.\n",
      "/home/ghost/.cache/pypoetry/virtualenvs/socialmedia-2tHBEbUS-py3.10/lib/python3.10/site-packages/pyspark/python/lib/pyspark.zip/pyspark/pandas/internal.py:1573: FutureWarning: iteritems is deprecated and will be removed in a future version. Use .items instead.\n",
      "                                                                                \r"
     ]
    },
    {
     "data": {
      "application/vnd.plotly.v1+json": {
       "config": {
        "plotlyServerURL": "https://plot.ly"
       },
       "data": [
        {
         "hovertemplate": "VADER_compound=%{x}<br>TEXTBLOB_polarity=%{y}<extra></extra>",
         "legendgroup": "",
         "marker": {
          "color": "#636efa",
          "symbol": "circle"
         },
         "mode": "markers",
         "name": "",
         "orientation": "v",
         "showlegend": false,
         "type": "scatter",
         "x": [
          0.5574,
          0.5574,
          0.5574,
          0.5574,
          0.5574,
          0.5574,
          0.5574,
          0.5574,
          0.5574,
          0.5574,
          0.5574,
          0.5574,
          0,
          0,
          0,
          0,
          0,
          0,
          0.5574,
          0.5574,
          0.5574,
          0.5574,
          0.5574,
          0.5574,
          -0.5719,
          -0.5719,
          -0.5719,
          -0.5719,
          -0.5719,
          -0.5719,
          0.5574,
          0.5574,
          0.5574,
          0.5574,
          0.5574,
          0.5574,
          -0.5719,
          -0.5719,
          -0.5719,
          -0.5719,
          -0.5719,
          -0.5719,
          0,
          0,
          0,
          0,
          0,
          0,
          0,
          0,
          0,
          0,
          0,
          0,
          -0.5719,
          -0.5719,
          -0.5719,
          -0.5719,
          -0.5719,
          -0.5719,
          0,
          0,
          0,
          0,
          0,
          0.5574,
          0.5574,
          0.5574,
          0.5574,
          0.5574,
          0.5574,
          0.5574,
          0.5574,
          0.5574,
          0.5574,
          0.5574,
          0.5574,
          0,
          0,
          0,
          0,
          0,
          0,
          0.5574,
          0.5574,
          0.5574,
          0.5574,
          0.5574,
          0.5574,
          0,
          0,
          0,
          0,
          0,
          0,
          -0.5719,
          -0.5719,
          -0.5719,
          -0.5719,
          -0.5719,
          -0.5719,
          0,
          0,
          0,
          0,
          0,
          0,
          -0.5719,
          -0.5719,
          -0.5719,
          -0.5719,
          -0.5719,
          -0.5719,
          -0.5719,
          -0.5719,
          -0.5719,
          -0.5719,
          -0.5719,
          -0.5719,
          0.5574,
          0.5574,
          0.5574,
          0.5574,
          0.5574,
          0.5574,
          0,
          0,
          0,
          0,
          0,
          0,
          0.5574,
          0.5574,
          0.5574,
          0.5574,
          0.5574,
          0.5574,
          0,
          0,
          0,
          0,
          0,
          0,
          -0.5719,
          -0.5719,
          -0.5719,
          -0.5719,
          -0.5719,
          -0.5719,
          0.5574,
          0.5574,
          0.5574,
          0.5574,
          0.5574,
          0.5574,
          0.5574,
          0.5574,
          0.5574,
          0.5574,
          0.5574,
          0.5574,
          0,
          0,
          0,
          0,
          0,
          0,
          0.5574,
          0.5574,
          0.5574,
          0.5574,
          0.5574,
          0.5574,
          0.5574,
          0.5574,
          0.5574,
          0.5574,
          0.5574,
          0.5574,
          0,
          0,
          0,
          0,
          0,
          0,
          0.5574,
          0.5574,
          0.5574,
          0.5574,
          0.5574,
          0.5574,
          0,
          0,
          0,
          0,
          0,
          0,
          -0.5719,
          -0.5719,
          -0.5719,
          -0.5719,
          -0.5719,
          -0.5719,
          0.5574,
          0.5574,
          0.5574,
          0.5574,
          0.5574,
          0.5574,
          0,
          0,
          0,
          0,
          0,
          0,
          -0.5719,
          -0.5719,
          -0.5719,
          -0.5719,
          -0.5719,
          -0.5719,
          0,
          0,
          0,
          0,
          0,
          0,
          0.5574,
          0.5574,
          0.5574,
          0.5574,
          0.5574,
          0.5574,
          -0.5719,
          -0.5719,
          -0.5719,
          -0.5719,
          -0.5719,
          -0.5719,
          0.5574,
          0.5574,
          0.5574,
          0.5574,
          0.5574,
          0.5574,
          0.5574,
          0.5574,
          0.5574,
          0.5574,
          0.5574,
          0.5574,
          0,
          0,
          0,
          0,
          0,
          0,
          0.5574,
          0.5574,
          0.5574,
          0.5574,
          0.5574,
          0.5574,
          0,
          0,
          0,
          0,
          0,
          0,
          -0.5719,
          -0.5719,
          -0.5719,
          -0.5719,
          -0.5719,
          -0.5719,
          0.5574,
          0.5574,
          0.5574,
          0.5574,
          0.5574,
          0.5574,
          0.5574,
          0.5574,
          0.5574,
          0.5574,
          0.5574,
          0.5574,
          0,
          0,
          0,
          0,
          0,
          0,
          0.5574,
          0.5574,
          0.5574,
          0.5574,
          0.5574,
          0.5574,
          0.5574,
          0.5574,
          0.5574,
          0.5574,
          0.5574,
          0.5574,
          -0.5719,
          -0.5719,
          -0.5719,
          -0.5719,
          -0.5719,
          -0.5719,
          0.5574,
          0.5574,
          0.5574,
          0.5574,
          0.5574,
          0.5574,
          0.5574,
          0.5574,
          0.5574,
          0.5574,
          0.5574,
          0.5574,
          0.5574,
          0.5574,
          0.5574,
          0.5574,
          0.5574,
          0.5574,
          0,
          0,
          0,
          0,
          0,
          0,
          0,
          0,
          0,
          0,
          0,
          0,
          0,
          0,
          0,
          0,
          0,
          0,
          0.5574,
          0.5574,
          0.5574,
          0.5574,
          0.5574,
          0.5574,
          0.5574,
          0.5574,
          0.5574,
          0.5574,
          0.5574,
          0.5574,
          0.5574,
          0.5574,
          0.5574,
          0.5574,
          0.5574,
          0.5574,
          0,
          0,
          0,
          0,
          0,
          0,
          -0.5719,
          -0.5719,
          -0.5719,
          -0.5719,
          -0.5719,
          -0.5719,
          0,
          0,
          0,
          0,
          0,
          0,
          0,
          0,
          0,
          0,
          0,
          0,
          0.5574,
          0.5574,
          0.5574,
          0.5574,
          0.5574,
          0.5574,
          0.5574,
          0.5574,
          0.5574,
          0.5574,
          0.5574,
          0.5574,
          0,
          0,
          0,
          0,
          0,
          0,
          0.5574,
          0.5574,
          0.5574,
          0.5574,
          0.5574,
          0.5574,
          -0.5719,
          -0.5719,
          -0.5719,
          -0.5719,
          -0.5719,
          -0.5719,
          -0.5719,
          -0.5719,
          -0.5719,
          -0.5719,
          -0.5719,
          -0.5719,
          0,
          0,
          0,
          0,
          0,
          0,
          0,
          0,
          0,
          0,
          0,
          0,
          0,
          0,
          0,
          0,
          0,
          0,
          0.5574,
          0.5574,
          0.5574,
          0.5574,
          0.5574,
          0.5574,
          0.5574,
          0.5574,
          0.5574,
          0.5574,
          0.5574,
          0.5574,
          0,
          0,
          0,
          0,
          0,
          0,
          0.5574,
          0.5574,
          0.5574,
          0.5574,
          0.5574,
          0.5574,
          0,
          0,
          0,
          0,
          0,
          0,
          0,
          0,
          0,
          0,
          0,
          0,
          0.5574,
          0.5574,
          0.5574,
          0.5574,
          0.5574,
          0.5574,
          0,
          0,
          0,
          0,
          0,
          0,
          0,
          0,
          0,
          0,
          0,
          0,
          0,
          0,
          0,
          0,
          0,
          0,
          0.5574,
          0.5574,
          0.5574,
          0.5574,
          0.5574,
          0.5574,
          0.5574,
          0.5574,
          0.5574,
          0.5574,
          0.5574,
          0.5574,
          0,
          0,
          0,
          0,
          0,
          0,
          -0.5719,
          -0.5719,
          -0.5719,
          -0.5719,
          -0.5719,
          -0.5719,
          -0.5719,
          -0.5719,
          -0.5719,
          -0.5719,
          -0.5719,
          -0.5719,
          0.5574,
          0.5574,
          0.5574,
          0.5574,
          0.5574,
          0.5574,
          0,
          0,
          0,
          0,
          0,
          0,
          0.5574,
          0.5574,
          0.5574,
          0.5574,
          0.5574,
          0.5574,
          0,
          0,
          0,
          0,
          0,
          0,
          0,
          0,
          0,
          0,
          0,
          0,
          0,
          0,
          0,
          0,
          0,
          0,
          0,
          0,
          0,
          0,
          0,
          0,
          0,
          0,
          0,
          0,
          0,
          0,
          0,
          0,
          0,
          0,
          0,
          0,
          0,
          0,
          0,
          0,
          0.5574,
          0.5574,
          0.5574,
          0.5574,
          0.5574,
          0.5574,
          0.5574,
          0.5574,
          0.5574,
          0.5574,
          0.5574,
          0.5574,
          0,
          0,
          0,
          0,
          0,
          0,
          0.5574,
          0.5574,
          0.5574,
          0.5574,
          0.5574,
          0.5574,
          0.5574,
          0.5574,
          0.5574,
          0.5574,
          0.5574,
          0.5574,
          0.5574,
          0.5574,
          0.5574,
          0.5574,
          0.5574,
          0.5574,
          0.5574,
          0.5574,
          0.5574,
          0.5574,
          0.5574,
          0.5574,
          0,
          0,
          0,
          0,
          0,
          0,
          0.5574,
          0.5574,
          0.5574,
          0.5574,
          0.5574,
          0.5574,
          0,
          0,
          0,
          0,
          0,
          0,
          0,
          0,
          0,
          0,
          0,
          0,
          0.5574,
          0.5574,
          0.5574,
          0.5574,
          0.5574,
          0.5574,
          0.5574,
          0.5574,
          0.5574,
          0.5574,
          0.5574,
          0.5574,
          0,
          0,
          0,
          0,
          0,
          0,
          0,
          0,
          0,
          0,
          0,
          0,
          0.5574,
          0.5574,
          0.5574,
          0.5574,
          0.5574,
          0.5574,
          0,
          0,
          0,
          0,
          0,
          0,
          0,
          0,
          0,
          0,
          0,
          0,
          0.5574,
          0.5574,
          0.5574,
          0.5574,
          0.5574,
          0.5574,
          0,
          0,
          0,
          0,
          0,
          0,
          0.5574,
          0.5574,
          0.5574,
          0.5574,
          0.5574,
          0.5574,
          0.5574,
          0.5574,
          0.5574,
          0.5574,
          0.5574,
          0.5574,
          -0.5719,
          -0.5719,
          -0.5719,
          -0.5719,
          -0.5719,
          -0.5719,
          -0.5719,
          -0.5719,
          -0.5719,
          -0.5719,
          -0.5719,
          -0.5719,
          0.5574,
          0.5574,
          0.5574,
          0.5574,
          0.5574,
          0.5574,
          0.5574,
          0.5574,
          0.5574,
          0.5574,
          0.5574,
          0,
          0,
          0,
          0,
          0,
          0,
          0,
          0,
          0,
          0,
          0,
          0,
          -0.5719,
          -0.5719,
          -0.5719,
          -0.5719,
          -0.5719,
          -0.5719,
          -0.5719,
          -0.5719,
          -0.5719,
          -0.5719,
          -0.5719,
          -0.5719,
          0,
          0,
          0,
          0,
          0,
          0,
          0.5574,
          0.5574,
          0.5574,
          0.5574,
          0.5574,
          0.5574,
          -0.5719,
          -0.5719,
          -0.5719,
          -0.5719,
          -0.5719,
          -0.5719,
          -0.5719,
          -0.5719,
          -0.5719,
          -0.5719,
          -0.5719,
          -0.5719,
          0,
          0,
          0,
          0,
          0,
          0,
          0,
          0,
          0,
          0,
          0,
          0,
          0.5574,
          0.5574,
          0.5574,
          0.5574,
          0.5574,
          0.5574,
          -0.5719,
          -0.5719,
          -0.5719,
          -0.5719,
          -0.5719,
          -0.5719,
          0.5574,
          0.5574,
          0.5574,
          0.5574,
          0.5574,
          0.5574,
          0.5574,
          0.5574,
          0.5574,
          0.5574,
          0.5574,
          0.5574,
          0.5574,
          0.5574,
          0.5574,
          0.5574,
          0.5574,
          0.5574,
          -0.5719,
          -0.5719,
          -0.5719,
          -0.5719,
          -0.5719,
          -0.5719,
          -0.5719,
          -0.5719,
          -0.5719,
          -0.5719,
          -0.5719,
          -0.5719,
          0.5574,
          0.5574,
          0.5574,
          0.5574,
          0.5574,
          0.5574,
          -0.5719,
          -0.5719,
          -0.5719,
          -0.5719,
          -0.5719,
          -0.5719,
          0.5574,
          0.5574,
          0.5574,
          0.5574,
          0.5574,
          0.5574,
          -0.5719,
          -0.5719,
          -0.5719,
          -0.5719,
          -0.5719,
          -0.5719,
          -0.5719,
          -0.5719,
          -0.5719,
          -0.5719,
          -0.5719,
          -0.5719,
          0.5574,
          0.5574,
          0.5574,
          0.5574,
          0.5574,
          0.5574,
          0,
          0,
          0,
          0,
          0,
          0,
          0,
          0,
          0,
          0,
          0,
          0,
          0.5574,
          0.5574,
          0.5574,
          0.5574,
          0.5574,
          0.5574,
          -0.5719,
          -0.5719,
          -0.5719,
          -0.5719,
          -0.5719,
          -0.5719,
          0,
          0,
          0,
          0,
          0,
          0,
          0,
          0,
          0,
          0,
          0,
          0,
          0,
          0,
          0,
          0,
          0,
          0,
          0.5574,
          0.5574,
          0.5574,
          0.5574,
          0.5574,
          0.5574,
          0,
          0,
          0,
          0,
          0,
          0,
          0,
          0,
          0,
          0,
          0,
          0,
          0.5574,
          0.5574,
          0.5574,
          0.5574,
          0.5574,
          0.5574,
          0.5574,
          0.5574,
          0.5574,
          0.5574,
          0.5574,
          0.5574,
          0.5574,
          0.5574,
          0.5574,
          0.5574,
          0.5574,
          0.5574,
          -0.5719,
          -0.5719,
          -0.5719,
          -0.5719,
          -0.5719,
          -0.5719,
          -0.5719,
          -0.5719,
          -0.5719,
          -0.5719,
          -0.5719,
          -0.5719,
          0.5574,
          0.5574,
          0.5574,
          0.5574,
          0.5574,
          0.5574,
          0,
          0,
          0,
          0,
          0,
          0,
          0.5574,
          0.5574,
          0.5574,
          0.5574,
          0.5574,
          0.5574,
          0.5574,
          0.5574,
          0.5574,
          0.5574,
          0.5574,
          0.5574,
          -0.5719,
          -0.5719
         ],
         "xaxis": "x",
         "y": [
          0.22727272727272727,
          0.22727272727272727,
          0.22727272727272727,
          0.22727272727272727,
          0.22727272727272727,
          0.22727272727272727,
          0.22727272727272727,
          0.22727272727272727,
          0.22727272727272727,
          0.22727272727272727,
          0.22727272727272727,
          0.22727272727272727,
          0,
          0,
          0,
          0,
          0,
          0,
          0.22727272727272727,
          0.22727272727272727,
          0.22727272727272727,
          0.22727272727272727,
          0.22727272727272727,
          0.22727272727272727,
          -0.3,
          -0.3,
          -0.3,
          -0.3,
          -0.3,
          -0.3,
          0.22727272727272727,
          0.22727272727272727,
          0.22727272727272727,
          0.22727272727272727,
          0.22727272727272727,
          0.22727272727272727,
          -0.3,
          -0.3,
          -0.3,
          -0.3,
          -0.3,
          -0.3,
          0,
          0,
          0,
          0,
          0,
          0,
          0,
          0,
          0,
          0,
          0,
          0,
          -0.3,
          -0.3,
          -0.3,
          -0.3,
          -0.3,
          -0.3,
          0,
          0,
          0,
          0,
          0,
          0.22727272727272727,
          0.22727272727272727,
          0.22727272727272727,
          0.22727272727272727,
          0.22727272727272727,
          0.22727272727272727,
          0.22727272727272727,
          0.22727272727272727,
          0.22727272727272727,
          0.22727272727272727,
          0.22727272727272727,
          0.22727272727272727,
          0,
          0,
          0,
          0,
          0,
          0,
          0.22727272727272727,
          0.22727272727272727,
          0.22727272727272727,
          0.22727272727272727,
          0.22727272727272727,
          0.22727272727272727,
          0,
          0,
          0,
          0,
          0,
          0,
          -0.3,
          -0.3,
          -0.3,
          -0.3,
          -0.3,
          -0.3,
          -0.5,
          -0.5,
          -0.5,
          -0.5,
          -0.5,
          -0.5,
          -0.3,
          -0.3,
          -0.3,
          -0.3,
          -0.3,
          -0.3,
          -0.3,
          -0.3,
          -0.3,
          -0.3,
          -0.3,
          -0.3,
          0.22727272727272727,
          0.22727272727272727,
          0.22727272727272727,
          0.22727272727272727,
          0.22727272727272727,
          0.22727272727272727,
          -0.5,
          -0.5,
          -0.5,
          -0.5,
          -0.5,
          -0.5,
          0.22727272727272727,
          0.22727272727272727,
          0.22727272727272727,
          0.22727272727272727,
          0.22727272727272727,
          0.22727272727272727,
          -0.5,
          -0.5,
          -0.5,
          -0.5,
          -0.5,
          -0.5,
          -0.3,
          -0.3,
          -0.3,
          -0.3,
          -0.3,
          -0.3,
          0.22727272727272727,
          0.22727272727272727,
          0.22727272727272727,
          0.22727272727272727,
          0.22727272727272727,
          0.22727272727272727,
          0.22727272727272727,
          0.22727272727272727,
          0.22727272727272727,
          0.22727272727272727,
          0.22727272727272727,
          0.22727272727272727,
          0,
          0,
          0,
          0,
          0,
          0,
          0.22727272727272727,
          0.22727272727272727,
          0.22727272727272727,
          0.22727272727272727,
          0.22727272727272727,
          0.22727272727272727,
          0.22727272727272727,
          0.22727272727272727,
          0.22727272727272727,
          0.22727272727272727,
          0.22727272727272727,
          0.22727272727272727,
          0,
          0,
          0,
          0,
          0,
          0,
          0.22727272727272727,
          0.22727272727272727,
          0.22727272727272727,
          0.22727272727272727,
          0.22727272727272727,
          0.22727272727272727,
          0,
          0,
          0,
          0,
          0,
          0,
          -0.3,
          -0.3,
          -0.3,
          -0.3,
          -0.3,
          -0.3,
          0.22727272727272727,
          0.22727272727272727,
          0.22727272727272727,
          0.22727272727272727,
          0.22727272727272727,
          0.22727272727272727,
          0,
          0,
          0,
          0,
          0,
          0,
          -0.3,
          -0.3,
          -0.3,
          -0.3,
          -0.3,
          -0.3,
          -0.5,
          -0.5,
          -0.5,
          -0.5,
          -0.5,
          -0.5,
          0.22727272727272727,
          0.22727272727272727,
          0.22727272727272727,
          0.22727272727272727,
          0.22727272727272727,
          0.22727272727272727,
          -0.3,
          -0.3,
          -0.3,
          -0.3,
          -0.3,
          -0.3,
          0.22727272727272727,
          0.22727272727272727,
          0.22727272727272727,
          0.22727272727272727,
          0.22727272727272727,
          0.22727272727272727,
          0.22727272727272727,
          0.22727272727272727,
          0.22727272727272727,
          0.22727272727272727,
          0.22727272727272727,
          0.22727272727272727,
          0,
          0,
          0,
          0,
          0,
          0,
          0.22727272727272727,
          0.22727272727272727,
          0.22727272727272727,
          0.22727272727272727,
          0.22727272727272727,
          0.22727272727272727,
          -0.5,
          -0.5,
          -0.5,
          -0.5,
          -0.5,
          -0.5,
          -0.3,
          -0.3,
          -0.3,
          -0.3,
          -0.3,
          -0.3,
          0.22727272727272727,
          0.22727272727272727,
          0.22727272727272727,
          0.22727272727272727,
          0.22727272727272727,
          0.22727272727272727,
          0.22727272727272727,
          0.22727272727272727,
          0.22727272727272727,
          0.22727272727272727,
          0.22727272727272727,
          0.22727272727272727,
          0,
          0,
          0,
          0,
          0,
          0,
          0.22727272727272727,
          0.22727272727272727,
          0.22727272727272727,
          0.22727272727272727,
          0.22727272727272727,
          0.22727272727272727,
          0.22727272727272727,
          0.22727272727272727,
          0.22727272727272727,
          0.22727272727272727,
          0.22727272727272727,
          0.22727272727272727,
          -0.3,
          -0.3,
          -0.3,
          -0.3,
          -0.3,
          -0.3,
          0.22727272727272727,
          0.22727272727272727,
          0.22727272727272727,
          0.22727272727272727,
          0.22727272727272727,
          0.22727272727272727,
          0.22727272727272727,
          0.22727272727272727,
          0.22727272727272727,
          0.22727272727272727,
          0.22727272727272727,
          0.22727272727272727,
          0.22727272727272727,
          0.22727272727272727,
          0.22727272727272727,
          0.22727272727272727,
          0.22727272727272727,
          0.22727272727272727,
          0,
          0,
          0,
          0,
          0,
          0,
          -0.5,
          -0.5,
          -0.5,
          -0.5,
          -0.5,
          -0.5,
          0,
          0,
          0,
          0,
          0,
          0,
          0.22727272727272727,
          0.22727272727272727,
          0.22727272727272727,
          0.22727272727272727,
          0.22727272727272727,
          0.22727272727272727,
          0.22727272727272727,
          0.22727272727272727,
          0.22727272727272727,
          0.22727272727272727,
          0.22727272727272727,
          0.22727272727272727,
          0.22727272727272727,
          0.22727272727272727,
          0.22727272727272727,
          0.22727272727272727,
          0.22727272727272727,
          0.22727272727272727,
          0,
          0,
          0,
          0,
          0,
          0,
          -0.3,
          -0.3,
          -0.3,
          -0.3,
          -0.3,
          -0.3,
          0,
          0,
          0,
          0,
          0,
          0,
          -0.5,
          -0.5,
          -0.5,
          -0.5,
          -0.5,
          -0.5,
          0.22727272727272727,
          0.22727272727272727,
          0.22727272727272727,
          0.22727272727272727,
          0.22727272727272727,
          0.22727272727272727,
          0.22727272727272727,
          0.22727272727272727,
          0.22727272727272727,
          0.22727272727272727,
          0.22727272727272727,
          0.22727272727272727,
          0,
          0,
          0,
          0,
          0,
          0,
          0.22727272727272727,
          0.22727272727272727,
          0.22727272727272727,
          0.22727272727272727,
          0.22727272727272727,
          0.22727272727272727,
          -0.3,
          -0.3,
          -0.3,
          -0.3,
          -0.3,
          -0.3,
          -0.3,
          -0.3,
          -0.3,
          -0.3,
          -0.3,
          -0.3,
          -0.5,
          -0.5,
          -0.5,
          -0.5,
          -0.5,
          -0.5,
          0,
          0,
          0,
          0,
          0,
          0,
          0,
          0,
          0,
          0,
          0,
          0,
          0.22727272727272727,
          0.22727272727272727,
          0.22727272727272727,
          0.22727272727272727,
          0.22727272727272727,
          0.22727272727272727,
          0.22727272727272727,
          0.22727272727272727,
          0.22727272727272727,
          0.22727272727272727,
          0.22727272727272727,
          0.22727272727272727,
          0,
          0,
          0,
          0,
          0,
          0,
          0.22727272727272727,
          0.22727272727272727,
          0.22727272727272727,
          0.22727272727272727,
          0.22727272727272727,
          0.22727272727272727,
          0,
          0,
          0,
          0,
          0,
          0,
          0,
          0,
          0,
          0,
          0,
          0,
          0.22727272727272727,
          0.22727272727272727,
          0.22727272727272727,
          0.22727272727272727,
          0.22727272727272727,
          0.22727272727272727,
          0,
          0,
          0,
          0,
          0,
          0,
          -0.5,
          -0.5,
          -0.5,
          -0.5,
          -0.5,
          -0.5,
          0,
          0,
          0,
          0,
          0,
          0,
          0.22727272727272727,
          0.22727272727272727,
          0.22727272727272727,
          0.22727272727272727,
          0.22727272727272727,
          0.22727272727272727,
          0.22727272727272727,
          0.22727272727272727,
          0.22727272727272727,
          0.22727272727272727,
          0.22727272727272727,
          0.22727272727272727,
          0,
          0,
          0,
          0,
          0,
          0,
          -0.3,
          -0.3,
          -0.3,
          -0.3,
          -0.3,
          -0.3,
          -0.3,
          -0.3,
          -0.3,
          -0.3,
          -0.3,
          -0.3,
          0.22727272727272727,
          0.22727272727272727,
          0.22727272727272727,
          0.22727272727272727,
          0.22727272727272727,
          0.22727272727272727,
          -0.5,
          -0.5,
          -0.5,
          -0.5,
          -0.5,
          -0.5,
          0.22727272727272727,
          0.22727272727272727,
          0.22727272727272727,
          0.22727272727272727,
          0.22727272727272727,
          0.22727272727272727,
          0,
          0,
          0,
          0,
          0,
          0,
          0,
          0,
          0,
          0,
          0,
          -0.5,
          -0.5,
          -0.5,
          -0.5,
          -0.5,
          -0.5,
          0,
          0,
          0,
          0,
          0,
          0,
          -0.5,
          -0.5,
          -0.5,
          -0.5,
          -0.5,
          -0.5,
          -0.5,
          -0.5,
          -0.5,
          -0.5,
          -0.5,
          -0.5,
          0,
          0,
          0,
          0,
          0,
          0.22727272727272727,
          0.22727272727272727,
          0.22727272727272727,
          0.22727272727272727,
          0.22727272727272727,
          0.22727272727272727,
          0.22727272727272727,
          0.22727272727272727,
          0.22727272727272727,
          0.22727272727272727,
          0.22727272727272727,
          0.22727272727272727,
          0,
          0,
          0,
          0,
          0,
          0,
          0.22727272727272727,
          0.22727272727272727,
          0.22727272727272727,
          0.22727272727272727,
          0.22727272727272727,
          0.22727272727272727,
          0.22727272727272727,
          0.22727272727272727,
          0.22727272727272727,
          0.22727272727272727,
          0.22727272727272727,
          0.22727272727272727,
          0.22727272727272727,
          0.22727272727272727,
          0.22727272727272727,
          0.22727272727272727,
          0.22727272727272727,
          0.22727272727272727,
          0.22727272727272727,
          0.22727272727272727,
          0.22727272727272727,
          0.22727272727272727,
          0.22727272727272727,
          0.22727272727272727,
          0,
          0,
          0,
          0,
          0,
          0,
          0.22727272727272727,
          0.22727272727272727,
          0.22727272727272727,
          0.22727272727272727,
          0.22727272727272727,
          0.22727272727272727,
          0,
          0,
          0,
          0,
          0,
          0,
          0,
          0,
          0,
          0,
          0,
          0,
          0.22727272727272727,
          0.22727272727272727,
          0.22727272727272727,
          0.22727272727272727,
          0.22727272727272727,
          0.22727272727272727,
          0.22727272727272727,
          0.22727272727272727,
          0.22727272727272727,
          0.22727272727272727,
          0.22727272727272727,
          0.22727272727272727,
          -0.5,
          -0.5,
          -0.5,
          -0.5,
          -0.5,
          -0.5,
          0,
          0,
          0,
          0,
          0,
          0,
          0.22727272727272727,
          0.22727272727272727,
          0.22727272727272727,
          0.22727272727272727,
          0.22727272727272727,
          0.22727272727272727,
          0,
          0,
          0,
          0,
          0,
          0,
          0,
          0,
          0,
          0,
          0,
          0,
          0.22727272727272727,
          0.22727272727272727,
          0.22727272727272727,
          0.22727272727272727,
          0.22727272727272727,
          0.22727272727272727,
          0,
          0,
          0,
          0,
          0,
          0,
          0.22727272727272727,
          0.22727272727272727,
          0.22727272727272727,
          0.22727272727272727,
          0.22727272727272727,
          0.22727272727272727,
          0.22727272727272727,
          0.22727272727272727,
          0.22727272727272727,
          0.22727272727272727,
          0.22727272727272727,
          0.22727272727272727,
          -0.3,
          -0.3,
          -0.3,
          -0.3,
          -0.3,
          -0.3,
          -0.3,
          -0.3,
          -0.3,
          -0.3,
          -0.3,
          -0.3,
          0.22727272727272727,
          0.22727272727272727,
          0.22727272727272727,
          0.22727272727272727,
          0.22727272727272727,
          0.22727272727272727,
          0.22727272727272727,
          0.22727272727272727,
          0.22727272727272727,
          0.22727272727272727,
          0.22727272727272727,
          0,
          0,
          0,
          0,
          0,
          0,
          0,
          0,
          0,
          0,
          0,
          0,
          -0.3,
          -0.3,
          -0.3,
          -0.3,
          -0.3,
          -0.3,
          -0.3,
          -0.3,
          -0.3,
          -0.3,
          -0.3,
          -0.3,
          0,
          0,
          0,
          0,
          0,
          0,
          0.22727272727272727,
          0.22727272727272727,
          0.22727272727272727,
          0.22727272727272727,
          0.22727272727272727,
          0.22727272727272727,
          -0.3,
          -0.3,
          -0.3,
          -0.3,
          -0.3,
          -0.3,
          -0.3,
          -0.3,
          -0.3,
          -0.3,
          -0.3,
          -0.3,
          0,
          0,
          0,
          0,
          0,
          0,
          -0.5,
          -0.5,
          -0.5,
          -0.5,
          -0.5,
          -0.5,
          0.22727272727272727,
          0.22727272727272727,
          0.22727272727272727,
          0.22727272727272727,
          0.22727272727272727,
          0.22727272727272727,
          -0.3,
          -0.3,
          -0.3,
          -0.3,
          -0.3,
          -0.3,
          0.22727272727272727,
          0.22727272727272727,
          0.22727272727272727,
          0.22727272727272727,
          0.22727272727272727,
          0.22727272727272727,
          0.22727272727272727,
          0.22727272727272727,
          0.22727272727272727,
          0.22727272727272727,
          0.22727272727272727,
          0.22727272727272727,
          0.22727272727272727,
          0.22727272727272727,
          0.22727272727272727,
          0.22727272727272727,
          0.22727272727272727,
          0.22727272727272727,
          -0.3,
          -0.3,
          -0.3,
          -0.3,
          -0.3,
          -0.3,
          -0.3,
          -0.3,
          -0.3,
          -0.3,
          -0.3,
          -0.3,
          0.22727272727272727,
          0.22727272727272727,
          0.22727272727272727,
          0.22727272727272727,
          0.22727272727272727,
          0.22727272727272727,
          -0.3,
          -0.3,
          -0.3,
          -0.3,
          -0.3,
          -0.3,
          0.22727272727272727,
          0.22727272727272727,
          0.22727272727272727,
          0.22727272727272727,
          0.22727272727272727,
          0.22727272727272727,
          -0.3,
          -0.3,
          -0.3,
          -0.3,
          -0.3,
          -0.3,
          -0.3,
          -0.3,
          -0.3,
          -0.3,
          -0.3,
          -0.3,
          0.22727272727272727,
          0.22727272727272727,
          0.22727272727272727,
          0.22727272727272727,
          0.22727272727272727,
          0.22727272727272727,
          0,
          0,
          0,
          0,
          0,
          0,
          0,
          0,
          0,
          0,
          0,
          0,
          0.22727272727272727,
          0.22727272727272727,
          0.22727272727272727,
          0.22727272727272727,
          0.22727272727272727,
          0.22727272727272727,
          -0.3,
          -0.3,
          -0.3,
          -0.3,
          -0.3,
          -0.3,
          0,
          0,
          0,
          0,
          0,
          0,
          0,
          0,
          0,
          0,
          0,
          0,
          -0.5,
          -0.5,
          -0.5,
          -0.5,
          -0.5,
          -0.5,
          0.22727272727272727,
          0.22727272727272727,
          0.22727272727272727,
          0.22727272727272727,
          0.22727272727272727,
          0.22727272727272727,
          0,
          0,
          0,
          0,
          0,
          0,
          0,
          0,
          0,
          0,
          0,
          0,
          0.22727272727272727,
          0.22727272727272727,
          0.22727272727272727,
          0.22727272727272727,
          0.22727272727272727,
          0.22727272727272727,
          0.22727272727272727,
          0.22727272727272727,
          0.22727272727272727,
          0.22727272727272727,
          0.22727272727272727,
          0.22727272727272727,
          0.22727272727272727,
          0.22727272727272727,
          0.22727272727272727,
          0.22727272727272727,
          0.22727272727272727,
          0.22727272727272727,
          -0.3,
          -0.3,
          -0.3,
          -0.3,
          -0.3,
          -0.3,
          -0.3,
          -0.3,
          -0.3,
          -0.3,
          -0.3,
          -0.3,
          0.22727272727272727,
          0.22727272727272727,
          0.22727272727272727,
          0.22727272727272727,
          0.22727272727272727,
          0.22727272727272727,
          -0.5,
          -0.5,
          -0.5,
          -0.5,
          -0.5,
          -0.5,
          0.22727272727272727,
          0.22727272727272727,
          0.22727272727272727,
          0.22727272727272727,
          0.22727272727272727,
          0.22727272727272727,
          0.22727272727272727,
          0.22727272727272727,
          0.22727272727272727,
          0.22727272727272727,
          0.22727272727272727,
          0.22727272727272727,
          -0.3,
          -0.3
         ],
         "yaxis": "y"
        }
       ],
       "layout": {
        "legend": {
         "tracegroupgap": 0
        },
        "margin": {
         "t": 60
        },
        "template": {
         "data": {
          "bar": [
           {
            "error_x": {
             "color": "#2a3f5f"
            },
            "error_y": {
             "color": "#2a3f5f"
            },
            "marker": {
             "line": {
              "color": "#E5ECF6",
              "width": 0.5
             },
             "pattern": {
              "fillmode": "overlay",
              "size": 10,
              "solidity": 0.2
             }
            },
            "type": "bar"
           }
          ],
          "barpolar": [
           {
            "marker": {
             "line": {
              "color": "#E5ECF6",
              "width": 0.5
             },
             "pattern": {
              "fillmode": "overlay",
              "size": 10,
              "solidity": 0.2
             }
            },
            "type": "barpolar"
           }
          ],
          "carpet": [
           {
            "aaxis": {
             "endlinecolor": "#2a3f5f",
             "gridcolor": "white",
             "linecolor": "white",
             "minorgridcolor": "white",
             "startlinecolor": "#2a3f5f"
            },
            "baxis": {
             "endlinecolor": "#2a3f5f",
             "gridcolor": "white",
             "linecolor": "white",
             "minorgridcolor": "white",
             "startlinecolor": "#2a3f5f"
            },
            "type": "carpet"
           }
          ],
          "choropleth": [
           {
            "colorbar": {
             "outlinewidth": 0,
             "ticks": ""
            },
            "type": "choropleth"
           }
          ],
          "contour": [
           {
            "colorbar": {
             "outlinewidth": 0,
             "ticks": ""
            },
            "colorscale": [
             [
              0,
              "#0d0887"
             ],
             [
              0.1111111111111111,
              "#46039f"
             ],
             [
              0.2222222222222222,
              "#7201a8"
             ],
             [
              0.3333333333333333,
              "#9c179e"
             ],
             [
              0.4444444444444444,
              "#bd3786"
             ],
             [
              0.5555555555555556,
              "#d8576b"
             ],
             [
              0.6666666666666666,
              "#ed7953"
             ],
             [
              0.7777777777777778,
              "#fb9f3a"
             ],
             [
              0.8888888888888888,
              "#fdca26"
             ],
             [
              1,
              "#f0f921"
             ]
            ],
            "type": "contour"
           }
          ],
          "contourcarpet": [
           {
            "colorbar": {
             "outlinewidth": 0,
             "ticks": ""
            },
            "type": "contourcarpet"
           }
          ],
          "heatmap": [
           {
            "colorbar": {
             "outlinewidth": 0,
             "ticks": ""
            },
            "colorscale": [
             [
              0,
              "#0d0887"
             ],
             [
              0.1111111111111111,
              "#46039f"
             ],
             [
              0.2222222222222222,
              "#7201a8"
             ],
             [
              0.3333333333333333,
              "#9c179e"
             ],
             [
              0.4444444444444444,
              "#bd3786"
             ],
             [
              0.5555555555555556,
              "#d8576b"
             ],
             [
              0.6666666666666666,
              "#ed7953"
             ],
             [
              0.7777777777777778,
              "#fb9f3a"
             ],
             [
              0.8888888888888888,
              "#fdca26"
             ],
             [
              1,
              "#f0f921"
             ]
            ],
            "type": "heatmap"
           }
          ],
          "heatmapgl": [
           {
            "colorbar": {
             "outlinewidth": 0,
             "ticks": ""
            },
            "colorscale": [
             [
              0,
              "#0d0887"
             ],
             [
              0.1111111111111111,
              "#46039f"
             ],
             [
              0.2222222222222222,
              "#7201a8"
             ],
             [
              0.3333333333333333,
              "#9c179e"
             ],
             [
              0.4444444444444444,
              "#bd3786"
             ],
             [
              0.5555555555555556,
              "#d8576b"
             ],
             [
              0.6666666666666666,
              "#ed7953"
             ],
             [
              0.7777777777777778,
              "#fb9f3a"
             ],
             [
              0.8888888888888888,
              "#fdca26"
             ],
             [
              1,
              "#f0f921"
             ]
            ],
            "type": "heatmapgl"
           }
          ],
          "histogram": [
           {
            "marker": {
             "pattern": {
              "fillmode": "overlay",
              "size": 10,
              "solidity": 0.2
             }
            },
            "type": "histogram"
           }
          ],
          "histogram2d": [
           {
            "colorbar": {
             "outlinewidth": 0,
             "ticks": ""
            },
            "colorscale": [
             [
              0,
              "#0d0887"
             ],
             [
              0.1111111111111111,
              "#46039f"
             ],
             [
              0.2222222222222222,
              "#7201a8"
             ],
             [
              0.3333333333333333,
              "#9c179e"
             ],
             [
              0.4444444444444444,
              "#bd3786"
             ],
             [
              0.5555555555555556,
              "#d8576b"
             ],
             [
              0.6666666666666666,
              "#ed7953"
             ],
             [
              0.7777777777777778,
              "#fb9f3a"
             ],
             [
              0.8888888888888888,
              "#fdca26"
             ],
             [
              1,
              "#f0f921"
             ]
            ],
            "type": "histogram2d"
           }
          ],
          "histogram2dcontour": [
           {
            "colorbar": {
             "outlinewidth": 0,
             "ticks": ""
            },
            "colorscale": [
             [
              0,
              "#0d0887"
             ],
             [
              0.1111111111111111,
              "#46039f"
             ],
             [
              0.2222222222222222,
              "#7201a8"
             ],
             [
              0.3333333333333333,
              "#9c179e"
             ],
             [
              0.4444444444444444,
              "#bd3786"
             ],
             [
              0.5555555555555556,
              "#d8576b"
             ],
             [
              0.6666666666666666,
              "#ed7953"
             ],
             [
              0.7777777777777778,
              "#fb9f3a"
             ],
             [
              0.8888888888888888,
              "#fdca26"
             ],
             [
              1,
              "#f0f921"
             ]
            ],
            "type": "histogram2dcontour"
           }
          ],
          "mesh3d": [
           {
            "colorbar": {
             "outlinewidth": 0,
             "ticks": ""
            },
            "type": "mesh3d"
           }
          ],
          "parcoords": [
           {
            "line": {
             "colorbar": {
              "outlinewidth": 0,
              "ticks": ""
             }
            },
            "type": "parcoords"
           }
          ],
          "pie": [
           {
            "automargin": true,
            "type": "pie"
           }
          ],
          "scatter": [
           {
            "fillpattern": {
             "fillmode": "overlay",
             "size": 10,
             "solidity": 0.2
            },
            "type": "scatter"
           }
          ],
          "scatter3d": [
           {
            "line": {
             "colorbar": {
              "outlinewidth": 0,
              "ticks": ""
             }
            },
            "marker": {
             "colorbar": {
              "outlinewidth": 0,
              "ticks": ""
             }
            },
            "type": "scatter3d"
           }
          ],
          "scattercarpet": [
           {
            "marker": {
             "colorbar": {
              "outlinewidth": 0,
              "ticks": ""
             }
            },
            "type": "scattercarpet"
           }
          ],
          "scattergeo": [
           {
            "marker": {
             "colorbar": {
              "outlinewidth": 0,
              "ticks": ""
             }
            },
            "type": "scattergeo"
           }
          ],
          "scattergl": [
           {
            "marker": {
             "colorbar": {
              "outlinewidth": 0,
              "ticks": ""
             }
            },
            "type": "scattergl"
           }
          ],
          "scattermapbox": [
           {
            "marker": {
             "colorbar": {
              "outlinewidth": 0,
              "ticks": ""
             }
            },
            "type": "scattermapbox"
           }
          ],
          "scatterpolar": [
           {
            "marker": {
             "colorbar": {
              "outlinewidth": 0,
              "ticks": ""
             }
            },
            "type": "scatterpolar"
           }
          ],
          "scatterpolargl": [
           {
            "marker": {
             "colorbar": {
              "outlinewidth": 0,
              "ticks": ""
             }
            },
            "type": "scatterpolargl"
           }
          ],
          "scatterternary": [
           {
            "marker": {
             "colorbar": {
              "outlinewidth": 0,
              "ticks": ""
             }
            },
            "type": "scatterternary"
           }
          ],
          "surface": [
           {
            "colorbar": {
             "outlinewidth": 0,
             "ticks": ""
            },
            "colorscale": [
             [
              0,
              "#0d0887"
             ],
             [
              0.1111111111111111,
              "#46039f"
             ],
             [
              0.2222222222222222,
              "#7201a8"
             ],
             [
              0.3333333333333333,
              "#9c179e"
             ],
             [
              0.4444444444444444,
              "#bd3786"
             ],
             [
              0.5555555555555556,
              "#d8576b"
             ],
             [
              0.6666666666666666,
              "#ed7953"
             ],
             [
              0.7777777777777778,
              "#fb9f3a"
             ],
             [
              0.8888888888888888,
              "#fdca26"
             ],
             [
              1,
              "#f0f921"
             ]
            ],
            "type": "surface"
           }
          ],
          "table": [
           {
            "cells": {
             "fill": {
              "color": "#EBF0F8"
             },
             "line": {
              "color": "white"
             }
            },
            "header": {
             "fill": {
              "color": "#C8D4E3"
             },
             "line": {
              "color": "white"
             }
            },
            "type": "table"
           }
          ]
         },
         "layout": {
          "annotationdefaults": {
           "arrowcolor": "#2a3f5f",
           "arrowhead": 0,
           "arrowwidth": 1
          },
          "autotypenumbers": "strict",
          "coloraxis": {
           "colorbar": {
            "outlinewidth": 0,
            "ticks": ""
           }
          },
          "colorscale": {
           "diverging": [
            [
             0,
             "#8e0152"
            ],
            [
             0.1,
             "#c51b7d"
            ],
            [
             0.2,
             "#de77ae"
            ],
            [
             0.3,
             "#f1b6da"
            ],
            [
             0.4,
             "#fde0ef"
            ],
            [
             0.5,
             "#f7f7f7"
            ],
            [
             0.6,
             "#e6f5d0"
            ],
            [
             0.7,
             "#b8e186"
            ],
            [
             0.8,
             "#7fbc41"
            ],
            [
             0.9,
             "#4d9221"
            ],
            [
             1,
             "#276419"
            ]
           ],
           "sequential": [
            [
             0,
             "#0d0887"
            ],
            [
             0.1111111111111111,
             "#46039f"
            ],
            [
             0.2222222222222222,
             "#7201a8"
            ],
            [
             0.3333333333333333,
             "#9c179e"
            ],
            [
             0.4444444444444444,
             "#bd3786"
            ],
            [
             0.5555555555555556,
             "#d8576b"
            ],
            [
             0.6666666666666666,
             "#ed7953"
            ],
            [
             0.7777777777777778,
             "#fb9f3a"
            ],
            [
             0.8888888888888888,
             "#fdca26"
            ],
            [
             1,
             "#f0f921"
            ]
           ],
           "sequentialminus": [
            [
             0,
             "#0d0887"
            ],
            [
             0.1111111111111111,
             "#46039f"
            ],
            [
             0.2222222222222222,
             "#7201a8"
            ],
            [
             0.3333333333333333,
             "#9c179e"
            ],
            [
             0.4444444444444444,
             "#bd3786"
            ],
            [
             0.5555555555555556,
             "#d8576b"
            ],
            [
             0.6666666666666666,
             "#ed7953"
            ],
            [
             0.7777777777777778,
             "#fb9f3a"
            ],
            [
             0.8888888888888888,
             "#fdca26"
            ],
            [
             1,
             "#f0f921"
            ]
           ]
          },
          "colorway": [
           "#636efa",
           "#EF553B",
           "#00cc96",
           "#ab63fa",
           "#FFA15A",
           "#19d3f3",
           "#FF6692",
           "#B6E880",
           "#FF97FF",
           "#FECB52"
          ],
          "font": {
           "color": "#2a3f5f"
          },
          "geo": {
           "bgcolor": "white",
           "lakecolor": "white",
           "landcolor": "#E5ECF6",
           "showlakes": true,
           "showland": true,
           "subunitcolor": "white"
          },
          "hoverlabel": {
           "align": "left"
          },
          "hovermode": "closest",
          "mapbox": {
           "style": "light"
          },
          "paper_bgcolor": "white",
          "plot_bgcolor": "#E5ECF6",
          "polar": {
           "angularaxis": {
            "gridcolor": "white",
            "linecolor": "white",
            "ticks": ""
           },
           "bgcolor": "#E5ECF6",
           "radialaxis": {
            "gridcolor": "white",
            "linecolor": "white",
            "ticks": ""
           }
          },
          "scene": {
           "xaxis": {
            "backgroundcolor": "#E5ECF6",
            "gridcolor": "white",
            "gridwidth": 2,
            "linecolor": "white",
            "showbackground": true,
            "ticks": "",
            "zerolinecolor": "white"
           },
           "yaxis": {
            "backgroundcolor": "#E5ECF6",
            "gridcolor": "white",
            "gridwidth": 2,
            "linecolor": "white",
            "showbackground": true,
            "ticks": "",
            "zerolinecolor": "white"
           },
           "zaxis": {
            "backgroundcolor": "#E5ECF6",
            "gridcolor": "white",
            "gridwidth": 2,
            "linecolor": "white",
            "showbackground": true,
            "ticks": "",
            "zerolinecolor": "white"
           }
          },
          "shapedefaults": {
           "line": {
            "color": "#2a3f5f"
           }
          },
          "ternary": {
           "aaxis": {
            "gridcolor": "white",
            "linecolor": "white",
            "ticks": ""
           },
           "baxis": {
            "gridcolor": "white",
            "linecolor": "white",
            "ticks": ""
           },
           "bgcolor": "#E5ECF6",
           "caxis": {
            "gridcolor": "white",
            "linecolor": "white",
            "ticks": ""
           }
          },
          "title": {
           "x": 0.05
          },
          "xaxis": {
           "automargin": true,
           "gridcolor": "white",
           "linecolor": "white",
           "ticks": "",
           "title": {
            "standoff": 15
           },
           "zerolinecolor": "white",
           "zerolinewidth": 2
          },
          "yaxis": {
           "automargin": true,
           "gridcolor": "white",
           "linecolor": "white",
           "ticks": "",
           "title": {
            "standoff": 15
           },
           "zerolinecolor": "white",
           "zerolinewidth": 2
          }
         }
        },
        "xaxis": {
         "anchor": "y",
         "domain": [
          0,
          1
         ],
         "title": {
          "text": "VADER_compound"
         }
        },
        "yaxis": {
         "anchor": "x",
         "domain": [
          0,
          1
         ],
         "title": {
          "text": "TEXTBLOB_polarity"
         }
        }
       }
      }
     },
     "metadata": {},
     "output_type": "display_data"
    }
   ],
   "source": [
    "df.plot.scatter(x=\"VADER_compound\",y=\"TEXTBLOB_polarity\")"
   ]
  },
  {
   "cell_type": "markdown",
   "metadata": {},
   "source": [
    "From the scatter plot we can observe that there are four unique values estimated for `TextBlob_polarity` and three unique values estimated for `VADER_compound`.\n",
    "\n",
    "For 0 value of `VADER_compound`, `TEXTBLOB_polarity` seems to have two values 0, and -0.5. This is counter intuitive as this will result in different sentiments, but both vader and textblob have seem to predict all sentiments accurately for rows not having `Irrelevant` sentiment."
   ]
  },
  {
   "cell_type": "code",
   "execution_count": 33,
   "metadata": {},
   "outputs": [
    {
     "name": "stderr",
     "output_type": "stream",
     "text": [
      "/home/ghost/.cache/pypoetry/virtualenvs/socialmedia-2tHBEbUS-py3.10/lib/python3.10/site-packages/pyspark/python/lib/pyspark.zip/pyspark/pandas/internal.py:1573: FutureWarning: iteritems is deprecated and will be removed in a future version. Use .items instead.\n",
      "/home/ghost/.cache/pypoetry/virtualenvs/socialmedia-2tHBEbUS-py3.10/lib/python3.10/site-packages/pyspark/python/lib/pyspark.zip/pyspark/pandas/internal.py:1573: FutureWarning: iteritems is deprecated and will be removed in a future version. Use .items instead.\n",
      "/home/ghost/.cache/pypoetry/virtualenvs/socialmedia-2tHBEbUS-py3.10/lib/python3.10/site-packages/pyspark/python/lib/pyspark.zip/pyspark/pandas/internal.py:1573: FutureWarning: iteritems is deprecated and will be removed in a future version. Use .items instead.\n",
      "/home/ghost/.cache/pypoetry/virtualenvs/socialmedia-2tHBEbUS-py3.10/lib/python3.10/site-packages/pyspark/python/lib/pyspark.zip/pyspark/pandas/internal.py:1573: FutureWarning: iteritems is deprecated and will be removed in a future version. Use .items instead.\n",
      "/home/ghost/.cache/pypoetry/virtualenvs/socialmedia-2tHBEbUS-py3.10/lib/python3.10/site-packages/pyspark/python/lib/pyspark.zip/pyspark/pandas/internal.py:1573: FutureWarning: iteritems is deprecated and will be removed in a future version. Use .items instead.\n",
      "/home/ghost/.cache/pypoetry/virtualenvs/socialmedia-2tHBEbUS-py3.10/lib/python3.10/site-packages/pyspark/python/lib/pyspark.zip/pyspark/pandas/internal.py:1573: FutureWarning: iteritems is deprecated and will be removed in a future version. Use .items instead.\n",
      "/home/ghost/.cache/pypoetry/virtualenvs/socialmedia-2tHBEbUS-py3.10/lib/python3.10/site-packages/pyspark/python/lib/pyspark.zip/pyspark/pandas/internal.py:1573: FutureWarning: iteritems is deprecated and will be removed in a future version. Use .items instead.\n",
      "/home/ghost/.cache/pypoetry/virtualenvs/socialmedia-2tHBEbUS-py3.10/lib/python3.10/site-packages/pyspark/python/lib/pyspark.zip/pyspark/pandas/internal.py:1573: FutureWarning: iteritems is deprecated and will be removed in a future version. Use .items instead.\n",
      "/home/ghost/.cache/pypoetry/virtualenvs/socialmedia-2tHBEbUS-py3.10/lib/python3.10/site-packages/pyspark/python/lib/pyspark.zip/pyspark/pandas/internal.py:1573: FutureWarning: iteritems is deprecated and will be removed in a future version. Use .items instead.\n",
      "/home/ghost/.cache/pypoetry/virtualenvs/socialmedia-2tHBEbUS-py3.10/lib/python3.10/site-packages/pyspark/python/lib/pyspark.zip/pyspark/pandas/internal.py:1573: FutureWarning: iteritems is deprecated and will be removed in a future version. Use .items instead.\n",
      "/home/ghost/.cache/pypoetry/virtualenvs/socialmedia-2tHBEbUS-py3.10/lib/python3.10/site-packages/pyspark/python/lib/pyspark.zip/pyspark/pandas/internal.py:1573: FutureWarning: iteritems is deprecated and will be removed in a future version. Use .items instead.\n",
      "/home/ghost/.cache/pypoetry/virtualenvs/socialmedia-2tHBEbUS-py3.10/lib/python3.10/site-packages/pyspark/python/lib/pyspark.zip/pyspark/pandas/internal.py:1573: FutureWarning: iteritems is deprecated and will be removed in a future version. Use .items instead.\n",
      "/home/ghost/.cache/pypoetry/virtualenvs/socialmedia-2tHBEbUS-py3.10/lib/python3.10/site-packages/pyspark/python/lib/pyspark.zip/pyspark/pandas/internal.py:1573: FutureWarning: iteritems is deprecated and will be removed in a future version. Use .items instead.\n",
      "/home/ghost/.cache/pypoetry/virtualenvs/socialmedia-2tHBEbUS-py3.10/lib/python3.10/site-packages/pyspark/python/lib/pyspark.zip/pyspark/pandas/internal.py:1573: FutureWarning: iteritems is deprecated and will be removed in a future version. Use .items instead.\n",
      "/home/ghost/.cache/pypoetry/virtualenvs/socialmedia-2tHBEbUS-py3.10/lib/python3.10/site-packages/pyspark/python/lib/pyspark.zip/pyspark/pandas/internal.py:1573: FutureWarning: iteritems is deprecated and will be removed in a future version. Use .items instead.\n",
      "/home/ghost/.cache/pypoetry/virtualenvs/socialmedia-2tHBEbUS-py3.10/lib/python3.10/site-packages/pyspark/python/lib/pyspark.zip/pyspark/pandas/internal.py:1573: FutureWarning: iteritems is deprecated and will be removed in a future version. Use .items instead.\n",
      "/home/ghost/.cache/pypoetry/virtualenvs/socialmedia-2tHBEbUS-py3.10/lib/python3.10/site-packages/pyspark/python/lib/pyspark.zip/pyspark/pandas/internal.py:1573: FutureWarning: iteritems is deprecated and will be removed in a future version. Use .items instead.\n",
      "/home/ghost/.cache/pypoetry/virtualenvs/socialmedia-2tHBEbUS-py3.10/lib/python3.10/site-packages/pyspark/python/lib/pyspark.zip/pyspark/pandas/internal.py:1573: FutureWarning: iteritems is deprecated and will be removed in a future version. Use .items instead.\n",
      "/home/ghost/.cache/pypoetry/virtualenvs/socialmedia-2tHBEbUS-py3.10/lib/python3.10/site-packages/pyspark/python/lib/pyspark.zip/pyspark/pandas/internal.py:1573: FutureWarning: iteritems is deprecated and will be removed in a future version. Use .items instead.\n",
      "/home/ghost/.cache/pypoetry/virtualenvs/socialmedia-2tHBEbUS-py3.10/lib/python3.10/site-packages/pyspark/python/lib/pyspark.zip/pyspark/pandas/internal.py:1573: FutureWarning: iteritems is deprecated and will be removed in a future version. Use .items instead.\n",
      "/home/ghost/.cache/pypoetry/virtualenvs/socialmedia-2tHBEbUS-py3.10/lib/python3.10/site-packages/pyspark/python/lib/pyspark.zip/pyspark/pandas/internal.py:1573: FutureWarning: iteritems is deprecated and will be removed in a future version. Use .items instead.\n",
      "/home/ghost/.cache/pypoetry/virtualenvs/socialmedia-2tHBEbUS-py3.10/lib/python3.10/site-packages/pyspark/python/lib/pyspark.zip/pyspark/pandas/internal.py:1573: FutureWarning: iteritems is deprecated and will be removed in a future version. Use .items instead.\n",
      "/home/ghost/.cache/pypoetry/virtualenvs/socialmedia-2tHBEbUS-py3.10/lib/python3.10/site-packages/pyspark/python/lib/pyspark.zip/pyspark/pandas/internal.py:1573: FutureWarning: iteritems is deprecated and will be removed in a future version. Use .items instead.\n",
      "/home/ghost/.cache/pypoetry/virtualenvs/socialmedia-2tHBEbUS-py3.10/lib/python3.10/site-packages/pyspark/python/lib/pyspark.zip/pyspark/pandas/internal.py:1573: FutureWarning: iteritems is deprecated and will be removed in a future version. Use .items instead.\n",
      "/home/ghost/.cache/pypoetry/virtualenvs/socialmedia-2tHBEbUS-py3.10/lib/python3.10/site-packages/pyspark/python/lib/pyspark.zip/pyspark/pandas/internal.py:1573: FutureWarning: iteritems is deprecated and will be removed in a future version. Use .items instead.\n",
      "/home/ghost/.cache/pypoetry/virtualenvs/socialmedia-2tHBEbUS-py3.10/lib/python3.10/site-packages/pyspark/python/lib/pyspark.zip/pyspark/pandas/internal.py:1573: FutureWarning: iteritems is deprecated and will be removed in a future version. Use .items instead.\n",
      "/home/ghost/.cache/pypoetry/virtualenvs/socialmedia-2tHBEbUS-py3.10/lib/python3.10/site-packages/pyspark/python/lib/pyspark.zip/pyspark/pandas/internal.py:1573: FutureWarning: iteritems is deprecated and will be removed in a future version. Use .items instead.\n",
      "/home/ghost/.cache/pypoetry/virtualenvs/socialmedia-2tHBEbUS-py3.10/lib/python3.10/site-packages/pyspark/python/lib/pyspark.zip/pyspark/pandas/internal.py:1573: FutureWarning: iteritems is deprecated and will be removed in a future version. Use .items instead.\n",
      "/home/ghost/.cache/pypoetry/virtualenvs/socialmedia-2tHBEbUS-py3.10/lib/python3.10/site-packages/pyspark/python/lib/pyspark.zip/pyspark/pandas/internal.py:1573: FutureWarning: iteritems is deprecated and will be removed in a future version. Use .items instead.\n",
      "/home/ghost/.cache/pypoetry/virtualenvs/socialmedia-2tHBEbUS-py3.10/lib/python3.10/site-packages/pyspark/python/lib/pyspark.zip/pyspark/pandas/internal.py:1573: FutureWarning: iteritems is deprecated and will be removed in a future version. Use .items instead.\n",
      "/home/ghost/.cache/pypoetry/virtualenvs/socialmedia-2tHBEbUS-py3.10/lib/python3.10/site-packages/pyspark/python/lib/pyspark.zip/pyspark/pandas/internal.py:1573: FutureWarning: iteritems is deprecated and will be removed in a future version. Use .items instead.\n",
      "/home/ghost/.cache/pypoetry/virtualenvs/socialmedia-2tHBEbUS-py3.10/lib/python3.10/site-packages/pyspark/python/lib/pyspark.zip/pyspark/pandas/internal.py:1573: FutureWarning: iteritems is deprecated and will be removed in a future version. Use .items instead.\n",
      "/home/ghost/.cache/pypoetry/virtualenvs/socialmedia-2tHBEbUS-py3.10/lib/python3.10/site-packages/pyspark/python/lib/pyspark.zip/pyspark/pandas/internal.py:1573: FutureWarning: iteritems is deprecated and will be removed in a future version. Use .items instead.\n",
      "/home/ghost/.cache/pypoetry/virtualenvs/socialmedia-2tHBEbUS-py3.10/lib/python3.10/site-packages/pyspark/python/lib/pyspark.zip/pyspark/pandas/internal.py:1573: FutureWarning: iteritems is deprecated and will be removed in a future version. Use .items instead.\n",
      "/home/ghost/.cache/pypoetry/virtualenvs/socialmedia-2tHBEbUS-py3.10/lib/python3.10/site-packages/pyspark/python/lib/pyspark.zip/pyspark/pandas/internal.py:1573: FutureWarning: iteritems is deprecated and will be removed in a future version. Use .items instead.\n",
      "/home/ghost/.cache/pypoetry/virtualenvs/socialmedia-2tHBEbUS-py3.10/lib/python3.10/site-packages/pyspark/python/lib/pyspark.zip/pyspark/pandas/internal.py:1573: FutureWarning: iteritems is deprecated and will be removed in a future version. Use .items instead.\n",
      "/home/ghost/.cache/pypoetry/virtualenvs/socialmedia-2tHBEbUS-py3.10/lib/python3.10/site-packages/pyspark/python/lib/pyspark.zip/pyspark/pandas/internal.py:1573: FutureWarning: iteritems is deprecated and will be removed in a future version. Use .items instead.\n",
      "/home/ghost/.cache/pypoetry/virtualenvs/socialmedia-2tHBEbUS-py3.10/lib/python3.10/site-packages/pyspark/python/lib/pyspark.zip/pyspark/pandas/internal.py:1573: FutureWarning: iteritems is deprecated and will be removed in a future version. Use .items instead.\n",
      "/home/ghost/.cache/pypoetry/virtualenvs/socialmedia-2tHBEbUS-py3.10/lib/python3.10/site-packages/pyspark/python/lib/pyspark.zip/pyspark/pandas/internal.py:1573: FutureWarning: iteritems is deprecated and will be removed in a future version. Use .items instead.\n",
      "/home/ghost/.cache/pypoetry/virtualenvs/socialmedia-2tHBEbUS-py3.10/lib/python3.10/site-packages/pyspark/python/lib/pyspark.zip/pyspark/pandas/internal.py:1573: FutureWarning: iteritems is deprecated and will be removed in a future version. Use .items instead.\n",
      "/home/ghost/.cache/pypoetry/virtualenvs/socialmedia-2tHBEbUS-py3.10/lib/python3.10/site-packages/pyspark/python/lib/pyspark.zip/pyspark/pandas/internal.py:1573: FutureWarning: iteritems is deprecated and will be removed in a future version. Use .items instead.\n",
      "/home/ghost/.cache/pypoetry/virtualenvs/socialmedia-2tHBEbUS-py3.10/lib/python3.10/site-packages/pyspark/python/lib/pyspark.zip/pyspark/pandas/internal.py:1573: FutureWarning: iteritems is deprecated and will be removed in a future version. Use .items instead.\n",
      "/home/ghost/.cache/pypoetry/virtualenvs/socialmedia-2tHBEbUS-py3.10/lib/python3.10/site-packages/pyspark/python/lib/pyspark.zip/pyspark/pandas/internal.py:1573: FutureWarning: iteritems is deprecated and will be removed in a future version. Use .items instead.\n",
      "/home/ghost/.cache/pypoetry/virtualenvs/socialmedia-2tHBEbUS-py3.10/lib/python3.10/site-packages/pyspark/python/lib/pyspark.zip/pyspark/pandas/internal.py:1573: FutureWarning: iteritems is deprecated and will be removed in a future version. Use .items instead.\n",
      "/home/ghost/.cache/pypoetry/virtualenvs/socialmedia-2tHBEbUS-py3.10/lib/python3.10/site-packages/pyspark/python/lib/pyspark.zip/pyspark/pandas/internal.py:1573: FutureWarning: iteritems is deprecated and will be removed in a future version. Use .items instead.\n",
      "/home/ghost/.cache/pypoetry/virtualenvs/socialmedia-2tHBEbUS-py3.10/lib/python3.10/site-packages/pyspark/python/lib/pyspark.zip/pyspark/pandas/internal.py:1573: FutureWarning: iteritems is deprecated and will be removed in a future version. Use .items instead.\n",
      "/home/ghost/.cache/pypoetry/virtualenvs/socialmedia-2tHBEbUS-py3.10/lib/python3.10/site-packages/pyspark/python/lib/pyspark.zip/pyspark/pandas/internal.py:1573: FutureWarning: iteritems is deprecated and will be removed in a future version. Use .items instead.\n",
      "/home/ghost/.cache/pypoetry/virtualenvs/socialmedia-2tHBEbUS-py3.10/lib/python3.10/site-packages/pyspark/python/lib/pyspark.zip/pyspark/pandas/internal.py:1573: FutureWarning: iteritems is deprecated and will be removed in a future version. Use .items instead.\n",
      "/home/ghost/.cache/pypoetry/virtualenvs/socialmedia-2tHBEbUS-py3.10/lib/python3.10/site-packages/pyspark/python/lib/pyspark.zip/pyspark/pandas/internal.py:1573: FutureWarning: iteritems is deprecated and will be removed in a future version. Use .items instead.\n",
      "/home/ghost/.cache/pypoetry/virtualenvs/socialmedia-2tHBEbUS-py3.10/lib/python3.10/site-packages/pyspark/python/lib/pyspark.zip/pyspark/pandas/internal.py:1573: FutureWarning: iteritems is deprecated and will be removed in a future version. Use .items instead.\n",
      "/home/ghost/.cache/pypoetry/virtualenvs/socialmedia-2tHBEbUS-py3.10/lib/python3.10/site-packages/pyspark/python/lib/pyspark.zip/pyspark/pandas/internal.py:1573: FutureWarning: iteritems is deprecated and will be removed in a future version. Use .items instead.\n",
      "/home/ghost/.cache/pypoetry/virtualenvs/socialmedia-2tHBEbUS-py3.10/lib/python3.10/site-packages/pyspark/python/lib/pyspark.zip/pyspark/pandas/internal.py:1573: FutureWarning: iteritems is deprecated and will be removed in a future version. Use .items instead.\n",
      "/home/ghost/.cache/pypoetry/virtualenvs/socialmedia-2tHBEbUS-py3.10/lib/python3.10/site-packages/pyspark/python/lib/pyspark.zip/pyspark/pandas/internal.py:1573: FutureWarning: iteritems is deprecated and will be removed in a future version. Use .items instead.\n",
      "/home/ghost/.cache/pypoetry/virtualenvs/socialmedia-2tHBEbUS-py3.10/lib/python3.10/site-packages/pyspark/python/lib/pyspark.zip/pyspark/pandas/internal.py:1573: FutureWarning: iteritems is deprecated and will be removed in a future version. Use .items instead.\n",
      "/home/ghost/.cache/pypoetry/virtualenvs/socialmedia-2tHBEbUS-py3.10/lib/python3.10/site-packages/pyspark/python/lib/pyspark.zip/pyspark/pandas/internal.py:1573: FutureWarning: iteritems is deprecated and will be removed in a future version. Use .items instead.\n",
      "/home/ghost/.cache/pypoetry/virtualenvs/socialmedia-2tHBEbUS-py3.10/lib/python3.10/site-packages/pyspark/python/lib/pyspark.zip/pyspark/pandas/internal.py:1573: FutureWarning: iteritems is deprecated and will be removed in a future version. Use .items instead.\n",
      "/home/ghost/.cache/pypoetry/virtualenvs/socialmedia-2tHBEbUS-py3.10/lib/python3.10/site-packages/pyspark/python/lib/pyspark.zip/pyspark/pandas/internal.py:1573: FutureWarning: iteritems is deprecated and will be removed in a future version. Use .items instead.\n",
      "/home/ghost/.cache/pypoetry/virtualenvs/socialmedia-2tHBEbUS-py3.10/lib/python3.10/site-packages/pyspark/python/lib/pyspark.zip/pyspark/pandas/internal.py:1573: FutureWarning: iteritems is deprecated and will be removed in a future version. Use .items instead.\n",
      "/home/ghost/.cache/pypoetry/virtualenvs/socialmedia-2tHBEbUS-py3.10/lib/python3.10/site-packages/pyspark/python/lib/pyspark.zip/pyspark/pandas/internal.py:1573: FutureWarning: iteritems is deprecated and will be removed in a future version. Use .items instead.\n",
      "/home/ghost/.cache/pypoetry/virtualenvs/socialmedia-2tHBEbUS-py3.10/lib/python3.10/site-packages/pyspark/python/lib/pyspark.zip/pyspark/pandas/internal.py:1573: FutureWarning: iteritems is deprecated and will be removed in a future version. Use .items instead.\n",
      "/home/ghost/.cache/pypoetry/virtualenvs/socialmedia-2tHBEbUS-py3.10/lib/python3.10/site-packages/pyspark/python/lib/pyspark.zip/pyspark/pandas/internal.py:1573: FutureWarning: iteritems is deprecated and will be removed in a future version. Use .items instead.\n",
      "/home/ghost/.cache/pypoetry/virtualenvs/socialmedia-2tHBEbUS-py3.10/lib/python3.10/site-packages/pyspark/python/lib/pyspark.zip/pyspark/pandas/internal.py:1573: FutureWarning: iteritems is deprecated and will be removed in a future version. Use .items instead.\n",
      "/home/ghost/.cache/pypoetry/virtualenvs/socialmedia-2tHBEbUS-py3.10/lib/python3.10/site-packages/pyspark/python/lib/pyspark.zip/pyspark/pandas/internal.py:1573: FutureWarning: iteritems is deprecated and will be removed in a future version. Use .items instead.\n",
      "/home/ghost/.cache/pypoetry/virtualenvs/socialmedia-2tHBEbUS-py3.10/lib/python3.10/site-packages/pyspark/python/lib/pyspark.zip/pyspark/pandas/internal.py:1573: FutureWarning: iteritems is deprecated and will be removed in a future version. Use .items instead.\n",
      "/home/ghost/.cache/pypoetry/virtualenvs/socialmedia-2tHBEbUS-py3.10/lib/python3.10/site-packages/pyspark/python/lib/pyspark.zip/pyspark/pandas/internal.py:1573: FutureWarning: iteritems is deprecated and will be removed in a future version. Use .items instead.\n",
      "/home/ghost/.cache/pypoetry/virtualenvs/socialmedia-2tHBEbUS-py3.10/lib/python3.10/site-packages/pyspark/python/lib/pyspark.zip/pyspark/pandas/internal.py:1573: FutureWarning: iteritems is deprecated and will be removed in a future version. Use .items instead.\n",
      "/home/ghost/.cache/pypoetry/virtualenvs/socialmedia-2tHBEbUS-py3.10/lib/python3.10/site-packages/pyspark/python/lib/pyspark.zip/pyspark/pandas/internal.py:1573: FutureWarning: iteritems is deprecated and will be removed in a future version. Use .items instead.\n",
      "/home/ghost/.cache/pypoetry/virtualenvs/socialmedia-2tHBEbUS-py3.10/lib/python3.10/site-packages/pyspark/python/lib/pyspark.zip/pyspark/pandas/internal.py:1573: FutureWarning: iteritems is deprecated and will be removed in a future version. Use .items instead.\n",
      "/home/ghost/.cache/pypoetry/virtualenvs/socialmedia-2tHBEbUS-py3.10/lib/python3.10/site-packages/pyspark/python/lib/pyspark.zip/pyspark/pandas/internal.py:1573: FutureWarning: iteritems is deprecated and will be removed in a future version. Use .items instead.\n",
      "/home/ghost/.cache/pypoetry/virtualenvs/socialmedia-2tHBEbUS-py3.10/lib/python3.10/site-packages/pyspark/python/lib/pyspark.zip/pyspark/pandas/internal.py:1573: FutureWarning: iteritems is deprecated and will be removed in a future version. Use .items instead.\n",
      "/home/ghost/.cache/pypoetry/virtualenvs/socialmedia-2tHBEbUS-py3.10/lib/python3.10/site-packages/pyspark/python/lib/pyspark.zip/pyspark/pandas/internal.py:1573: FutureWarning: iteritems is deprecated and will be removed in a future version. Use .items instead.\n",
      "/home/ghost/.cache/pypoetry/virtualenvs/socialmedia-2tHBEbUS-py3.10/lib/python3.10/site-packages/pyspark/python/lib/pyspark.zip/pyspark/pandas/internal.py:1573: FutureWarning: iteritems is deprecated and will be removed in a future version. Use .items instead.\n",
      "/home/ghost/.cache/pypoetry/virtualenvs/socialmedia-2tHBEbUS-py3.10/lib/python3.10/site-packages/pyspark/python/lib/pyspark.zip/pyspark/pandas/internal.py:1573: FutureWarning: iteritems is deprecated and will be removed in a future version. Use .items instead.\n",
      "/home/ghost/.cache/pypoetry/virtualenvs/socialmedia-2tHBEbUS-py3.10/lib/python3.10/site-packages/pyspark/python/lib/pyspark.zip/pyspark/pandas/internal.py:1573: FutureWarning: iteritems is deprecated and will be removed in a future version. Use .items instead.\n",
      "/home/ghost/.cache/pypoetry/virtualenvs/socialmedia-2tHBEbUS-py3.10/lib/python3.10/site-packages/pyspark/python/lib/pyspark.zip/pyspark/pandas/internal.py:1573: FutureWarning: iteritems is deprecated and will be removed in a future version. Use .items instead.\n",
      "/home/ghost/.cache/pypoetry/virtualenvs/socialmedia-2tHBEbUS-py3.10/lib/python3.10/site-packages/pyspark/python/lib/pyspark.zip/pyspark/pandas/internal.py:1573: FutureWarning: iteritems is deprecated and will be removed in a future version. Use .items instead.\n",
      "/home/ghost/.cache/pypoetry/virtualenvs/socialmedia-2tHBEbUS-py3.10/lib/python3.10/site-packages/pyspark/python/lib/pyspark.zip/pyspark/pandas/internal.py:1573: FutureWarning: iteritems is deprecated and will be removed in a future version. Use .items instead.\n",
      "/home/ghost/.cache/pypoetry/virtualenvs/socialmedia-2tHBEbUS-py3.10/lib/python3.10/site-packages/pyspark/python/lib/pyspark.zip/pyspark/pandas/internal.py:1573: FutureWarning: iteritems is deprecated and will be removed in a future version. Use .items instead.\n",
      "/home/ghost/.cache/pypoetry/virtualenvs/socialmedia-2tHBEbUS-py3.10/lib/python3.10/site-packages/pyspark/python/lib/pyspark.zip/pyspark/pandas/internal.py:1573: FutureWarning: iteritems is deprecated and will be removed in a future version. Use .items instead.\n",
      "/home/ghost/.cache/pypoetry/virtualenvs/socialmedia-2tHBEbUS-py3.10/lib/python3.10/site-packages/pyspark/python/lib/pyspark.zip/pyspark/pandas/internal.py:1573: FutureWarning: iteritems is deprecated and will be removed in a future version. Use .items instead.\n",
      "/home/ghost/.cache/pypoetry/virtualenvs/socialmedia-2tHBEbUS-py3.10/lib/python3.10/site-packages/pyspark/python/lib/pyspark.zip/pyspark/pandas/internal.py:1573: FutureWarning: iteritems is deprecated and will be removed in a future version. Use .items instead.\n",
      "/home/ghost/.cache/pypoetry/virtualenvs/socialmedia-2tHBEbUS-py3.10/lib/python3.10/site-packages/pyspark/python/lib/pyspark.zip/pyspark/pandas/internal.py:1573: FutureWarning: iteritems is deprecated and will be removed in a future version. Use .items instead.\n",
      "/home/ghost/.cache/pypoetry/virtualenvs/socialmedia-2tHBEbUS-py3.10/lib/python3.10/site-packages/pyspark/python/lib/pyspark.zip/pyspark/pandas/internal.py:1573: FutureWarning: iteritems is deprecated and will be removed in a future version. Use .items instead.\n",
      "/home/ghost/.cache/pypoetry/virtualenvs/socialmedia-2tHBEbUS-py3.10/lib/python3.10/site-packages/pyspark/python/lib/pyspark.zip/pyspark/pandas/internal.py:1573: FutureWarning: iteritems is deprecated and will be removed in a future version. Use .items instead.\n",
      "/home/ghost/.cache/pypoetry/virtualenvs/socialmedia-2tHBEbUS-py3.10/lib/python3.10/site-packages/pyspark/python/lib/pyspark.zip/pyspark/pandas/internal.py:1573: FutureWarning: iteritems is deprecated and will be removed in a future version. Use .items instead.\n",
      "/home/ghost/.cache/pypoetry/virtualenvs/socialmedia-2tHBEbUS-py3.10/lib/python3.10/site-packages/pyspark/python/lib/pyspark.zip/pyspark/pandas/internal.py:1573: FutureWarning: iteritems is deprecated and will be removed in a future version. Use .items instead.\n",
      "/home/ghost/.cache/pypoetry/virtualenvs/socialmedia-2tHBEbUS-py3.10/lib/python3.10/site-packages/pyspark/python/lib/pyspark.zip/pyspark/pandas/internal.py:1573: FutureWarning: iteritems is deprecated and will be removed in a future version. Use .items instead.\n",
      "/home/ghost/.cache/pypoetry/virtualenvs/socialmedia-2tHBEbUS-py3.10/lib/python3.10/site-packages/pyspark/python/lib/pyspark.zip/pyspark/pandas/internal.py:1573: FutureWarning: iteritems is deprecated and will be removed in a future version. Use .items instead.\n",
      "/home/ghost/.cache/pypoetry/virtualenvs/socialmedia-2tHBEbUS-py3.10/lib/python3.10/site-packages/pyspark/python/lib/pyspark.zip/pyspark/pandas/internal.py:1573: FutureWarning: iteritems is deprecated and will be removed in a future version. Use .items instead.\n",
      "/home/ghost/.cache/pypoetry/virtualenvs/socialmedia-2tHBEbUS-py3.10/lib/python3.10/site-packages/pyspark/python/lib/pyspark.zip/pyspark/pandas/internal.py:1573: FutureWarning: iteritems is deprecated and will be removed in a future version. Use .items instead.\n",
      "/home/ghost/.cache/pypoetry/virtualenvs/socialmedia-2tHBEbUS-py3.10/lib/python3.10/site-packages/pyspark/python/lib/pyspark.zip/pyspark/pandas/internal.py:1573: FutureWarning: iteritems is deprecated and will be removed in a future version. Use .items instead.\n",
      "/home/ghost/.cache/pypoetry/virtualenvs/socialmedia-2tHBEbUS-py3.10/lib/python3.10/site-packages/pyspark/python/lib/pyspark.zip/pyspark/pandas/internal.py:1573: FutureWarning: iteritems is deprecated and will be removed in a future version. Use .items instead.\n",
      "/home/ghost/.cache/pypoetry/virtualenvs/socialmedia-2tHBEbUS-py3.10/lib/python3.10/site-packages/pyspark/python/lib/pyspark.zip/pyspark/pandas/internal.py:1573: FutureWarning: iteritems is deprecated and will be removed in a future version. Use .items instead.\n",
      "/home/ghost/.cache/pypoetry/virtualenvs/socialmedia-2tHBEbUS-py3.10/lib/python3.10/site-packages/pyspark/python/lib/pyspark.zip/pyspark/pandas/internal.py:1573: FutureWarning: iteritems is deprecated and will be removed in a future version. Use .items instead.\n",
      "/home/ghost/.cache/pypoetry/virtualenvs/socialmedia-2tHBEbUS-py3.10/lib/python3.10/site-packages/pyspark/python/lib/pyspark.zip/pyspark/pandas/internal.py:1573: FutureWarning: iteritems is deprecated and will be removed in a future version. Use .items instead.\n",
      "/home/ghost/.cache/pypoetry/virtualenvs/socialmedia-2tHBEbUS-py3.10/lib/python3.10/site-packages/pyspark/python/lib/pyspark.zip/pyspark/pandas/internal.py:1573: FutureWarning: iteritems is deprecated and will be removed in a future version. Use .items instead.\n",
      "/home/ghost/.cache/pypoetry/virtualenvs/socialmedia-2tHBEbUS-py3.10/lib/python3.10/site-packages/pyspark/python/lib/pyspark.zip/pyspark/pandas/internal.py:1573: FutureWarning: iteritems is deprecated and will be removed in a future version. Use .items instead.\n",
      "/home/ghost/.cache/pypoetry/virtualenvs/socialmedia-2tHBEbUS-py3.10/lib/python3.10/site-packages/pyspark/python/lib/pyspark.zip/pyspark/pandas/internal.py:1573: FutureWarning: iteritems is deprecated and will be removed in a future version. Use .items instead.\n",
      "/home/ghost/.cache/pypoetry/virtualenvs/socialmedia-2tHBEbUS-py3.10/lib/python3.10/site-packages/pyspark/python/lib/pyspark.zip/pyspark/pandas/internal.py:1573: FutureWarning: iteritems is deprecated and will be removed in a future version. Use .items instead.\n",
      "/home/ghost/.cache/pypoetry/virtualenvs/socialmedia-2tHBEbUS-py3.10/lib/python3.10/site-packages/pyspark/python/lib/pyspark.zip/pyspark/pandas/internal.py:1573: FutureWarning: iteritems is deprecated and will be removed in a future version. Use .items instead.\n",
      "/home/ghost/.cache/pypoetry/virtualenvs/socialmedia-2tHBEbUS-py3.10/lib/python3.10/site-packages/pyspark/python/lib/pyspark.zip/pyspark/pandas/internal.py:1573: FutureWarning: iteritems is deprecated and will be removed in a future version. Use .items instead.\n",
      "/home/ghost/.cache/pypoetry/virtualenvs/socialmedia-2tHBEbUS-py3.10/lib/python3.10/site-packages/pyspark/python/lib/pyspark.zip/pyspark/pandas/internal.py:1573: FutureWarning: iteritems is deprecated and will be removed in a future version. Use .items instead.\n",
      "/home/ghost/.cache/pypoetry/virtualenvs/socialmedia-2tHBEbUS-py3.10/lib/python3.10/site-packages/pyspark/python/lib/pyspark.zip/pyspark/pandas/internal.py:1573: FutureWarning: iteritems is deprecated and will be removed in a future version. Use .items instead.\n",
      "/home/ghost/.cache/pypoetry/virtualenvs/socialmedia-2tHBEbUS-py3.10/lib/python3.10/site-packages/pyspark/python/lib/pyspark.zip/pyspark/pandas/internal.py:1573: FutureWarning: iteritems is deprecated and will be removed in a future version. Use .items instead.\n",
      "/home/ghost/.cache/pypoetry/virtualenvs/socialmedia-2tHBEbUS-py3.10/lib/python3.10/site-packages/pyspark/python/lib/pyspark.zip/pyspark/pandas/internal.py:1573: FutureWarning: iteritems is deprecated and will be removed in a future version. Use .items instead.\n",
      "/home/ghost/.cache/pypoetry/virtualenvs/socialmedia-2tHBEbUS-py3.10/lib/python3.10/site-packages/pyspark/python/lib/pyspark.zip/pyspark/pandas/internal.py:1573: FutureWarning: iteritems is deprecated and will be removed in a future version. Use .items instead.\n",
      "/home/ghost/.cache/pypoetry/virtualenvs/socialmedia-2tHBEbUS-py3.10/lib/python3.10/site-packages/pyspark/python/lib/pyspark.zip/pyspark/pandas/internal.py:1573: FutureWarning: iteritems is deprecated and will be removed in a future version. Use .items instead.\n",
      "/home/ghost/.cache/pypoetry/virtualenvs/socialmedia-2tHBEbUS-py3.10/lib/python3.10/site-packages/pyspark/python/lib/pyspark.zip/pyspark/pandas/internal.py:1573: FutureWarning: iteritems is deprecated and will be removed in a future version. Use .items instead.\n",
      "/home/ghost/.cache/pypoetry/virtualenvs/socialmedia-2tHBEbUS-py3.10/lib/python3.10/site-packages/pyspark/python/lib/pyspark.zip/pyspark/pandas/internal.py:1573: FutureWarning: iteritems is deprecated and will be removed in a future version. Use .items instead.\n",
      "/home/ghost/.cache/pypoetry/virtualenvs/socialmedia-2tHBEbUS-py3.10/lib/python3.10/site-packages/pyspark/python/lib/pyspark.zip/pyspark/pandas/internal.py:1573: FutureWarning: iteritems is deprecated and will be removed in a future version. Use .items instead.\n",
      "/home/ghost/.cache/pypoetry/virtualenvs/socialmedia-2tHBEbUS-py3.10/lib/python3.10/site-packages/pyspark/python/lib/pyspark.zip/pyspark/pandas/internal.py:1573: FutureWarning: iteritems is deprecated and will be removed in a future version. Use .items instead.\n",
      "/home/ghost/.cache/pypoetry/virtualenvs/socialmedia-2tHBEbUS-py3.10/lib/python3.10/site-packages/pyspark/python/lib/pyspark.zip/pyspark/pandas/internal.py:1573: FutureWarning: iteritems is deprecated and will be removed in a future version. Use .items instead.\n",
      "/home/ghost/.cache/pypoetry/virtualenvs/socialmedia-2tHBEbUS-py3.10/lib/python3.10/site-packages/pyspark/python/lib/pyspark.zip/pyspark/pandas/internal.py:1573: FutureWarning: iteritems is deprecated and will be removed in a future version. Use .items instead.\n",
      "/home/ghost/.cache/pypoetry/virtualenvs/socialmedia-2tHBEbUS-py3.10/lib/python3.10/site-packages/pyspark/python/lib/pyspark.zip/pyspark/pandas/internal.py:1573: FutureWarning: iteritems is deprecated and will be removed in a future version. Use .items instead.\n",
      "/home/ghost/.cache/pypoetry/virtualenvs/socialmedia-2tHBEbUS-py3.10/lib/python3.10/site-packages/pyspark/python/lib/pyspark.zip/pyspark/pandas/internal.py:1573: FutureWarning: iteritems is deprecated and will be removed in a future version. Use .items instead.\n",
      "/home/ghost/.cache/pypoetry/virtualenvs/socialmedia-2tHBEbUS-py3.10/lib/python3.10/site-packages/pyspark/python/lib/pyspark.zip/pyspark/pandas/internal.py:1573: FutureWarning: iteritems is deprecated and will be removed in a future version. Use .items instead.\n",
      "/home/ghost/.cache/pypoetry/virtualenvs/socialmedia-2tHBEbUS-py3.10/lib/python3.10/site-packages/pyspark/python/lib/pyspark.zip/pyspark/pandas/internal.py:1573: FutureWarning: iteritems is deprecated and will be removed in a future version. Use .items instead.\n",
      "/home/ghost/.cache/pypoetry/virtualenvs/socialmedia-2tHBEbUS-py3.10/lib/python3.10/site-packages/pyspark/python/lib/pyspark.zip/pyspark/pandas/internal.py:1573: FutureWarning: iteritems is deprecated and will be removed in a future version. Use .items instead.\n",
      "/home/ghost/.cache/pypoetry/virtualenvs/socialmedia-2tHBEbUS-py3.10/lib/python3.10/site-packages/pyspark/python/lib/pyspark.zip/pyspark/pandas/internal.py:1573: FutureWarning: iteritems is deprecated and will be removed in a future version. Use .items instead.\n",
      "/home/ghost/.cache/pypoetry/virtualenvs/socialmedia-2tHBEbUS-py3.10/lib/python3.10/site-packages/pyspark/python/lib/pyspark.zip/pyspark/pandas/internal.py:1573: FutureWarning: iteritems is deprecated and will be removed in a future version. Use .items instead.\n",
      "/home/ghost/.cache/pypoetry/virtualenvs/socialmedia-2tHBEbUS-py3.10/lib/python3.10/site-packages/pyspark/python/lib/pyspark.zip/pyspark/pandas/internal.py:1573: FutureWarning: iteritems is deprecated and will be removed in a future version. Use .items instead.\n",
      "/home/ghost/.cache/pypoetry/virtualenvs/socialmedia-2tHBEbUS-py3.10/lib/python3.10/site-packages/pyspark/python/lib/pyspark.zip/pyspark/pandas/internal.py:1573: FutureWarning: iteritems is deprecated and will be removed in a future version. Use .items instead.\n",
      "/home/ghost/.cache/pypoetry/virtualenvs/socialmedia-2tHBEbUS-py3.10/lib/python3.10/site-packages/pyspark/python/lib/pyspark.zip/pyspark/pandas/internal.py:1573: FutureWarning: iteritems is deprecated and will be removed in a future version. Use .items instead.\n",
      "/home/ghost/.cache/pypoetry/virtualenvs/socialmedia-2tHBEbUS-py3.10/lib/python3.10/site-packages/pyspark/python/lib/pyspark.zip/pyspark/pandas/internal.py:1573: FutureWarning: iteritems is deprecated and will be removed in a future version. Use .items instead.\n",
      "/home/ghost/.cache/pypoetry/virtualenvs/socialmedia-2tHBEbUS-py3.10/lib/python3.10/site-packages/pyspark/python/lib/pyspark.zip/pyspark/pandas/internal.py:1573: FutureWarning: iteritems is deprecated and will be removed in a future version. Use .items instead.\n",
      "/home/ghost/.cache/pypoetry/virtualenvs/socialmedia-2tHBEbUS-py3.10/lib/python3.10/site-packages/pyspark/python/lib/pyspark.zip/pyspark/pandas/internal.py:1573: FutureWarning: iteritems is deprecated and will be removed in a future version. Use .items instead.\n",
      "/home/ghost/.cache/pypoetry/virtualenvs/socialmedia-2tHBEbUS-py3.10/lib/python3.10/site-packages/pyspark/python/lib/pyspark.zip/pyspark/pandas/internal.py:1573: FutureWarning: iteritems is deprecated and will be removed in a future version. Use .items instead.\n",
      "/home/ghost/.cache/pypoetry/virtualenvs/socialmedia-2tHBEbUS-py3.10/lib/python3.10/site-packages/pyspark/python/lib/pyspark.zip/pyspark/pandas/internal.py:1573: FutureWarning: iteritems is deprecated and will be removed in a future version. Use .items instead.\n",
      "/home/ghost/.cache/pypoetry/virtualenvs/socialmedia-2tHBEbUS-py3.10/lib/python3.10/site-packages/pyspark/pandas/utils.py:975: PandasAPIOnSparkAdviceWarning:\n",
      "\n",
      "`to_list` loads all data into the driver's memory. It should only be used if the resulting list is expected to be small.\n",
      "\n",
      "/home/ghost/.cache/pypoetry/virtualenvs/socialmedia-2tHBEbUS-py3.10/lib/python3.10/site-packages/pyspark/python/lib/pyspark.zip/pyspark/pandas/internal.py:1573: FutureWarning: iteritems is deprecated and will be removed in a future version. Use .items instead.\n",
      "/home/ghost/.cache/pypoetry/virtualenvs/socialmedia-2tHBEbUS-py3.10/lib/python3.10/site-packages/pyspark/python/lib/pyspark.zip/pyspark/pandas/internal.py:1573: FutureWarning: iteritems is deprecated and will be removed in a future version. Use .items instead.\n",
      "/home/ghost/.cache/pypoetry/virtualenvs/socialmedia-2tHBEbUS-py3.10/lib/python3.10/site-packages/pyspark/python/lib/pyspark.zip/pyspark/pandas/internal.py:1573: FutureWarning: iteritems is deprecated and will be removed in a future version. Use .items instead.\n",
      "/home/ghost/.cache/pypoetry/virtualenvs/socialmedia-2tHBEbUS-py3.10/lib/python3.10/site-packages/pyspark/python/lib/pyspark.zip/pyspark/pandas/internal.py:1573: FutureWarning: iteritems is deprecated and will be removed in a future version. Use .items instead.\n",
      "/home/ghost/.cache/pypoetry/virtualenvs/socialmedia-2tHBEbUS-py3.10/lib/python3.10/site-packages/pyspark/python/lib/pyspark.zip/pyspark/pandas/internal.py:1573: FutureWarning: iteritems is deprecated and will be removed in a future version. Use .items instead.\n",
      "/home/ghost/.cache/pypoetry/virtualenvs/socialmedia-2tHBEbUS-py3.10/lib/python3.10/site-packages/pyspark/python/lib/pyspark.zip/pyspark/pandas/internal.py:1573: FutureWarning: iteritems is deprecated and will be removed in a future version. Use .items instead.\n",
      "/home/ghost/.cache/pypoetry/virtualenvs/socialmedia-2tHBEbUS-py3.10/lib/python3.10/site-packages/pyspark/python/lib/pyspark.zip/pyspark/pandas/internal.py:1573: FutureWarning: iteritems is deprecated and will be removed in a future version. Use .items instead.\n",
      "/home/ghost/.cache/pypoetry/virtualenvs/socialmedia-2tHBEbUS-py3.10/lib/python3.10/site-packages/pyspark/python/lib/pyspark.zip/pyspark/pandas/internal.py:1573: FutureWarning: iteritems is deprecated and will be removed in a future version. Use .items instead.\n",
      "/home/ghost/.cache/pypoetry/virtualenvs/socialmedia-2tHBEbUS-py3.10/lib/python3.10/site-packages/pyspark/python/lib/pyspark.zip/pyspark/pandas/internal.py:1573: FutureWarning: iteritems is deprecated and will be removed in a future version. Use .items instead.\n",
      "/home/ghost/.cache/pypoetry/virtualenvs/socialmedia-2tHBEbUS-py3.10/lib/python3.10/site-packages/pyspark/python/lib/pyspark.zip/pyspark/pandas/internal.py:1573: FutureWarning: iteritems is deprecated and will be removed in a future version. Use .items instead.\n",
      "/home/ghost/.cache/pypoetry/virtualenvs/socialmedia-2tHBEbUS-py3.10/lib/python3.10/site-packages/pyspark/python/lib/pyspark.zip/pyspark/pandas/internal.py:1573: FutureWarning: iteritems is deprecated and will be removed in a future version. Use .items instead.\n",
      "/home/ghost/.cache/pypoetry/virtualenvs/socialmedia-2tHBEbUS-py3.10/lib/python3.10/site-packages/pyspark/python/lib/pyspark.zip/pyspark/pandas/internal.py:1573: FutureWarning: iteritems is deprecated and will be removed in a future version. Use .items instead.\n",
      "/home/ghost/.cache/pypoetry/virtualenvs/socialmedia-2tHBEbUS-py3.10/lib/python3.10/site-packages/pyspark/python/lib/pyspark.zip/pyspark/pandas/internal.py:1573: FutureWarning: iteritems is deprecated and will be removed in a future version. Use .items instead.\n",
      "/home/ghost/.cache/pypoetry/virtualenvs/socialmedia-2tHBEbUS-py3.10/lib/python3.10/site-packages/pyspark/python/lib/pyspark.zip/pyspark/pandas/internal.py:1573: FutureWarning: iteritems is deprecated and will be removed in a future version. Use .items instead.\n",
      "/home/ghost/.cache/pypoetry/virtualenvs/socialmedia-2tHBEbUS-py3.10/lib/python3.10/site-packages/pyspark/python/lib/pyspark.zip/pyspark/pandas/internal.py:1573: FutureWarning: iteritems is deprecated and will be removed in a future version. Use .items instead.\n",
      "/home/ghost/.cache/pypoetry/virtualenvs/socialmedia-2tHBEbUS-py3.10/lib/python3.10/site-packages/pyspark/python/lib/pyspark.zip/pyspark/pandas/internal.py:1573: FutureWarning: iteritems is deprecated and will be removed in a future version. Use .items instead.\n",
      "/home/ghost/.cache/pypoetry/virtualenvs/socialmedia-2tHBEbUS-py3.10/lib/python3.10/site-packages/pyspark/python/lib/pyspark.zip/pyspark/pandas/internal.py:1573: FutureWarning: iteritems is deprecated and will be removed in a future version. Use .items instead.\n",
      "/home/ghost/.cache/pypoetry/virtualenvs/socialmedia-2tHBEbUS-py3.10/lib/python3.10/site-packages/pyspark/python/lib/pyspark.zip/pyspark/pandas/internal.py:1573: FutureWarning: iteritems is deprecated and will be removed in a future version. Use .items instead.\n",
      "/home/ghost/.cache/pypoetry/virtualenvs/socialmedia-2tHBEbUS-py3.10/lib/python3.10/site-packages/pyspark/python/lib/pyspark.zip/pyspark/pandas/internal.py:1573: FutureWarning: iteritems is deprecated and will be removed in a future version. Use .items instead.\n",
      "/home/ghost/.cache/pypoetry/virtualenvs/socialmedia-2tHBEbUS-py3.10/lib/python3.10/site-packages/pyspark/python/lib/pyspark.zip/pyspark/pandas/internal.py:1573: FutureWarning: iteritems is deprecated and will be removed in a future version. Use .items instead.\n",
      "/home/ghost/.cache/pypoetry/virtualenvs/socialmedia-2tHBEbUS-py3.10/lib/python3.10/site-packages/pyspark/python/lib/pyspark.zip/pyspark/pandas/internal.py:1573: FutureWarning: iteritems is deprecated and will be removed in a future version. Use .items instead.\n",
      "/home/ghost/.cache/pypoetry/virtualenvs/socialmedia-2tHBEbUS-py3.10/lib/python3.10/site-packages/pyspark/python/lib/pyspark.zip/pyspark/pandas/internal.py:1573: FutureWarning: iteritems is deprecated and will be removed in a future version. Use .items instead.\n",
      "/home/ghost/.cache/pypoetry/virtualenvs/socialmedia-2tHBEbUS-py3.10/lib/python3.10/site-packages/pyspark/python/lib/pyspark.zip/pyspark/pandas/internal.py:1573: FutureWarning: iteritems is deprecated and will be removed in a future version. Use .items instead.\n",
      "/home/ghost/.cache/pypoetry/virtualenvs/socialmedia-2tHBEbUS-py3.10/lib/python3.10/site-packages/pyspark/python/lib/pyspark.zip/pyspark/pandas/internal.py:1573: FutureWarning: iteritems is deprecated and will be removed in a future version. Use .items instead.\n",
      "/home/ghost/.cache/pypoetry/virtualenvs/socialmedia-2tHBEbUS-py3.10/lib/python3.10/site-packages/pyspark/python/lib/pyspark.zip/pyspark/pandas/internal.py:1573: FutureWarning: iteritems is deprecated and will be removed in a future version. Use .items instead.\n",
      "/home/ghost/.cache/pypoetry/virtualenvs/socialmedia-2tHBEbUS-py3.10/lib/python3.10/site-packages/pyspark/python/lib/pyspark.zip/pyspark/pandas/internal.py:1573: FutureWarning: iteritems is deprecated and will be removed in a future version. Use .items instead.\n",
      "/home/ghost/.cache/pypoetry/virtualenvs/socialmedia-2tHBEbUS-py3.10/lib/python3.10/site-packages/pyspark/python/lib/pyspark.zip/pyspark/pandas/internal.py:1573: FutureWarning: iteritems is deprecated and will be removed in a future version. Use .items instead.\n",
      "/home/ghost/.cache/pypoetry/virtualenvs/socialmedia-2tHBEbUS-py3.10/lib/python3.10/site-packages/pyspark/python/lib/pyspark.zip/pyspark/pandas/internal.py:1573: FutureWarning: iteritems is deprecated and will be removed in a future version. Use .items instead.\n",
      "/home/ghost/.cache/pypoetry/virtualenvs/socialmedia-2tHBEbUS-py3.10/lib/python3.10/site-packages/pyspark/python/lib/pyspark.zip/pyspark/pandas/internal.py:1573: FutureWarning: iteritems is deprecated and will be removed in a future version. Use .items instead.\n",
      "/home/ghost/.cache/pypoetry/virtualenvs/socialmedia-2tHBEbUS-py3.10/lib/python3.10/site-packages/pyspark/python/lib/pyspark.zip/pyspark/pandas/internal.py:1573: FutureWarning: iteritems is deprecated and will be removed in a future version. Use .items instead.\n",
      "/home/ghost/.cache/pypoetry/virtualenvs/socialmedia-2tHBEbUS-py3.10/lib/python3.10/site-packages/pyspark/python/lib/pyspark.zip/pyspark/pandas/internal.py:1573: FutureWarning: iteritems is deprecated and will be removed in a future version. Use .items instead.\n",
      "/home/ghost/.cache/pypoetry/virtualenvs/socialmedia-2tHBEbUS-py3.10/lib/python3.10/site-packages/pyspark/python/lib/pyspark.zip/pyspark/pandas/internal.py:1573: FutureWarning: iteritems is deprecated and will be removed in a future version. Use .items instead.\n",
      "/home/ghost/.cache/pypoetry/virtualenvs/socialmedia-2tHBEbUS-py3.10/lib/python3.10/site-packages/pyspark/python/lib/pyspark.zip/pyspark/pandas/internal.py:1573: FutureWarning: iteritems is deprecated and will be removed in a future version. Use .items instead.\n",
      "/home/ghost/.cache/pypoetry/virtualenvs/socialmedia-2tHBEbUS-py3.10/lib/python3.10/site-packages/pyspark/python/lib/pyspark.zip/pyspark/pandas/internal.py:1573: FutureWarning: iteritems is deprecated and will be removed in a future version. Use .items instead.\n",
      "/home/ghost/.cache/pypoetry/virtualenvs/socialmedia-2tHBEbUS-py3.10/lib/python3.10/site-packages/pyspark/python/lib/pyspark.zip/pyspark/pandas/internal.py:1573: FutureWarning: iteritems is deprecated and will be removed in a future version. Use .items instead.\n",
      "/home/ghost/.cache/pypoetry/virtualenvs/socialmedia-2tHBEbUS-py3.10/lib/python3.10/site-packages/pyspark/python/lib/pyspark.zip/pyspark/pandas/internal.py:1573: FutureWarning: iteritems is deprecated and will be removed in a future version. Use .items instead.\n",
      "/home/ghost/.cache/pypoetry/virtualenvs/socialmedia-2tHBEbUS-py3.10/lib/python3.10/site-packages/pyspark/python/lib/pyspark.zip/pyspark/pandas/internal.py:1573: FutureWarning: iteritems is deprecated and will be removed in a future version. Use .items instead.\n",
      "/home/ghost/.cache/pypoetry/virtualenvs/socialmedia-2tHBEbUS-py3.10/lib/python3.10/site-packages/pyspark/python/lib/pyspark.zip/pyspark/pandas/internal.py:1573: FutureWarning: iteritems is deprecated and will be removed in a future version. Use .items instead.\n",
      "/home/ghost/.cache/pypoetry/virtualenvs/socialmedia-2tHBEbUS-py3.10/lib/python3.10/site-packages/pyspark/python/lib/pyspark.zip/pyspark/pandas/internal.py:1573: FutureWarning: iteritems is deprecated and will be removed in a future version. Use .items instead.\n",
      "/home/ghost/.cache/pypoetry/virtualenvs/socialmedia-2tHBEbUS-py3.10/lib/python3.10/site-packages/pyspark/python/lib/pyspark.zip/pyspark/pandas/internal.py:1573: FutureWarning: iteritems is deprecated and will be removed in a future version. Use .items instead.\n",
      "/home/ghost/.cache/pypoetry/virtualenvs/socialmedia-2tHBEbUS-py3.10/lib/python3.10/site-packages/pyspark/python/lib/pyspark.zip/pyspark/pandas/internal.py:1573: FutureWarning: iteritems is deprecated and will be removed in a future version. Use .items instead.\n",
      "/home/ghost/.cache/pypoetry/virtualenvs/socialmedia-2tHBEbUS-py3.10/lib/python3.10/site-packages/pyspark/python/lib/pyspark.zip/pyspark/pandas/internal.py:1573: FutureWarning: iteritems is deprecated and will be removed in a future version. Use .items instead.\n",
      "/home/ghost/.cache/pypoetry/virtualenvs/socialmedia-2tHBEbUS-py3.10/lib/python3.10/site-packages/pyspark/python/lib/pyspark.zip/pyspark/pandas/internal.py:1573: FutureWarning: iteritems is deprecated and will be removed in a future version. Use .items instead.\n",
      "/home/ghost/.cache/pypoetry/virtualenvs/socialmedia-2tHBEbUS-py3.10/lib/python3.10/site-packages/pyspark/python/lib/pyspark.zip/pyspark/pandas/internal.py:1573: FutureWarning: iteritems is deprecated and will be removed in a future version. Use .items instead.\n",
      "/home/ghost/.cache/pypoetry/virtualenvs/socialmedia-2tHBEbUS-py3.10/lib/python3.10/site-packages/pyspark/python/lib/pyspark.zip/pyspark/pandas/internal.py:1573: FutureWarning: iteritems is deprecated and will be removed in a future version. Use .items instead.\n",
      "/home/ghost/.cache/pypoetry/virtualenvs/socialmedia-2tHBEbUS-py3.10/lib/python3.10/site-packages/pyspark/python/lib/pyspark.zip/pyspark/pandas/internal.py:1573: FutureWarning: iteritems is deprecated and will be removed in a future version. Use .items instead.\n",
      "/home/ghost/.cache/pypoetry/virtualenvs/socialmedia-2tHBEbUS-py3.10/lib/python3.10/site-packages/pyspark/python/lib/pyspark.zip/pyspark/pandas/internal.py:1573: FutureWarning: iteritems is deprecated and will be removed in a future version. Use .items instead.\n",
      "/home/ghost/.cache/pypoetry/virtualenvs/socialmedia-2tHBEbUS-py3.10/lib/python3.10/site-packages/pyspark/python/lib/pyspark.zip/pyspark/pandas/internal.py:1573: FutureWarning: iteritems is deprecated and will be removed in a future version. Use .items instead.\n",
      "/home/ghost/.cache/pypoetry/virtualenvs/socialmedia-2tHBEbUS-py3.10/lib/python3.10/site-packages/pyspark/python/lib/pyspark.zip/pyspark/pandas/internal.py:1573: FutureWarning: iteritems is deprecated and will be removed in a future version. Use .items instead.\n",
      "/home/ghost/.cache/pypoetry/virtualenvs/socialmedia-2tHBEbUS-py3.10/lib/python3.10/site-packages/pyspark/python/lib/pyspark.zip/pyspark/pandas/internal.py:1573: FutureWarning: iteritems is deprecated and will be removed in a future version. Use .items instead.\n",
      "/home/ghost/.cache/pypoetry/virtualenvs/socialmedia-2tHBEbUS-py3.10/lib/python3.10/site-packages/pyspark/python/lib/pyspark.zip/pyspark/pandas/internal.py:1573: FutureWarning: iteritems is deprecated and will be removed in a future version. Use .items instead.\n",
      "/home/ghost/.cache/pypoetry/virtualenvs/socialmedia-2tHBEbUS-py3.10/lib/python3.10/site-packages/pyspark/python/lib/pyspark.zip/pyspark/pandas/internal.py:1573: FutureWarning: iteritems is deprecated and will be removed in a future version. Use .items instead.\n",
      "/home/ghost/.cache/pypoetry/virtualenvs/socialmedia-2tHBEbUS-py3.10/lib/python3.10/site-packages/pyspark/python/lib/pyspark.zip/pyspark/pandas/internal.py:1573: FutureWarning: iteritems is deprecated and will be removed in a future version. Use .items instead.\n",
      "/home/ghost/.cache/pypoetry/virtualenvs/socialmedia-2tHBEbUS-py3.10/lib/python3.10/site-packages/pyspark/python/lib/pyspark.zip/pyspark/pandas/internal.py:1573: FutureWarning: iteritems is deprecated and will be removed in a future version. Use .items instead.\n",
      "/home/ghost/.cache/pypoetry/virtualenvs/socialmedia-2tHBEbUS-py3.10/lib/python3.10/site-packages/pyspark/python/lib/pyspark.zip/pyspark/pandas/internal.py:1573: FutureWarning: iteritems is deprecated and will be removed in a future version. Use .items instead.\n",
      "/home/ghost/.cache/pypoetry/virtualenvs/socialmedia-2tHBEbUS-py3.10/lib/python3.10/site-packages/pyspark/python/lib/pyspark.zip/pyspark/pandas/internal.py:1573: FutureWarning: iteritems is deprecated and will be removed in a future version. Use .items instead.\n",
      "/home/ghost/.cache/pypoetry/virtualenvs/socialmedia-2tHBEbUS-py3.10/lib/python3.10/site-packages/pyspark/python/lib/pyspark.zip/pyspark/pandas/internal.py:1573: FutureWarning: iteritems is deprecated and will be removed in a future version. Use .items instead.\n",
      "/home/ghost/.cache/pypoetry/virtualenvs/socialmedia-2tHBEbUS-py3.10/lib/python3.10/site-packages/pyspark/python/lib/pyspark.zip/pyspark/pandas/internal.py:1573: FutureWarning: iteritems is deprecated and will be removed in a future version. Use .items instead.\n",
      "/home/ghost/.cache/pypoetry/virtualenvs/socialmedia-2tHBEbUS-py3.10/lib/python3.10/site-packages/pyspark/python/lib/pyspark.zip/pyspark/pandas/internal.py:1573: FutureWarning: iteritems is deprecated and will be removed in a future version. Use .items instead.\n",
      "/home/ghost/.cache/pypoetry/virtualenvs/socialmedia-2tHBEbUS-py3.10/lib/python3.10/site-packages/pyspark/python/lib/pyspark.zip/pyspark/pandas/internal.py:1573: FutureWarning: iteritems is deprecated and will be removed in a future version. Use .items instead.\n",
      "/home/ghost/.cache/pypoetry/virtualenvs/socialmedia-2tHBEbUS-py3.10/lib/python3.10/site-packages/pyspark/python/lib/pyspark.zip/pyspark/pandas/internal.py:1573: FutureWarning: iteritems is deprecated and will be removed in a future version. Use .items instead.\n",
      "/home/ghost/.cache/pypoetry/virtualenvs/socialmedia-2tHBEbUS-py3.10/lib/python3.10/site-packages/pyspark/python/lib/pyspark.zip/pyspark/pandas/internal.py:1573: FutureWarning: iteritems is deprecated and will be removed in a future version. Use .items instead.\n",
      "/home/ghost/.cache/pypoetry/virtualenvs/socialmedia-2tHBEbUS-py3.10/lib/python3.10/site-packages/pyspark/python/lib/pyspark.zip/pyspark/pandas/internal.py:1573: FutureWarning: iteritems is deprecated and will be removed in a future version. Use .items instead.\n",
      "/home/ghost/.cache/pypoetry/virtualenvs/socialmedia-2tHBEbUS-py3.10/lib/python3.10/site-packages/pyspark/python/lib/pyspark.zip/pyspark/pandas/internal.py:1573: FutureWarning: iteritems is deprecated and will be removed in a future version. Use .items instead.\n",
      "/home/ghost/.cache/pypoetry/virtualenvs/socialmedia-2tHBEbUS-py3.10/lib/python3.10/site-packages/pyspark/python/lib/pyspark.zip/pyspark/pandas/internal.py:1573: FutureWarning: iteritems is deprecated and will be removed in a future version. Use .items instead.\n",
      "/home/ghost/.cache/pypoetry/virtualenvs/socialmedia-2tHBEbUS-py3.10/lib/python3.10/site-packages/pyspark/python/lib/pyspark.zip/pyspark/pandas/internal.py:1573: FutureWarning: iteritems is deprecated and will be removed in a future version. Use .items instead.\n",
      "/home/ghost/.cache/pypoetry/virtualenvs/socialmedia-2tHBEbUS-py3.10/lib/python3.10/site-packages/pyspark/python/lib/pyspark.zip/pyspark/pandas/internal.py:1573: FutureWarning: iteritems is deprecated and will be removed in a future version. Use .items instead.\n",
      "/home/ghost/.cache/pypoetry/virtualenvs/socialmedia-2tHBEbUS-py3.10/lib/python3.10/site-packages/pyspark/python/lib/pyspark.zip/pyspark/pandas/internal.py:1573: FutureWarning: iteritems is deprecated and will be removed in a future version. Use .items instead.\n",
      "/home/ghost/.cache/pypoetry/virtualenvs/socialmedia-2tHBEbUS-py3.10/lib/python3.10/site-packages/pyspark/python/lib/pyspark.zip/pyspark/pandas/internal.py:1573: FutureWarning: iteritems is deprecated and will be removed in a future version. Use .items instead.\n",
      "/home/ghost/.cache/pypoetry/virtualenvs/socialmedia-2tHBEbUS-py3.10/lib/python3.10/site-packages/pyspark/python/lib/pyspark.zip/pyspark/pandas/internal.py:1573: FutureWarning: iteritems is deprecated and will be removed in a future version. Use .items instead.\n",
      "/home/ghost/.cache/pypoetry/virtualenvs/socialmedia-2tHBEbUS-py3.10/lib/python3.10/site-packages/pyspark/python/lib/pyspark.zip/pyspark/pandas/internal.py:1573: FutureWarning: iteritems is deprecated and will be removed in a future version. Use .items instead.\n",
      "/home/ghost/.cache/pypoetry/virtualenvs/socialmedia-2tHBEbUS-py3.10/lib/python3.10/site-packages/pyspark/python/lib/pyspark.zip/pyspark/pandas/internal.py:1573: FutureWarning: iteritems is deprecated and will be removed in a future version. Use .items instead.\n",
      "/home/ghost/.cache/pypoetry/virtualenvs/socialmedia-2tHBEbUS-py3.10/lib/python3.10/site-packages/pyspark/python/lib/pyspark.zip/pyspark/pandas/internal.py:1573: FutureWarning: iteritems is deprecated and will be removed in a future version. Use .items instead.\n",
      "/home/ghost/.cache/pypoetry/virtualenvs/socialmedia-2tHBEbUS-py3.10/lib/python3.10/site-packages/pyspark/python/lib/pyspark.zip/pyspark/pandas/internal.py:1573: FutureWarning: iteritems is deprecated and will be removed in a future version. Use .items instead.\n",
      "/home/ghost/.cache/pypoetry/virtualenvs/socialmedia-2tHBEbUS-py3.10/lib/python3.10/site-packages/pyspark/python/lib/pyspark.zip/pyspark/pandas/internal.py:1573: FutureWarning: iteritems is deprecated and will be removed in a future version. Use .items instead.\n",
      "/home/ghost/.cache/pypoetry/virtualenvs/socialmedia-2tHBEbUS-py3.10/lib/python3.10/site-packages/pyspark/python/lib/pyspark.zip/pyspark/pandas/internal.py:1573: FutureWarning: iteritems is deprecated and will be removed in a future version. Use .items instead.\n",
      "/home/ghost/.cache/pypoetry/virtualenvs/socialmedia-2tHBEbUS-py3.10/lib/python3.10/site-packages/pyspark/python/lib/pyspark.zip/pyspark/pandas/internal.py:1573: FutureWarning: iteritems is deprecated and will be removed in a future version. Use .items instead.\n",
      "/home/ghost/.cache/pypoetry/virtualenvs/socialmedia-2tHBEbUS-py3.10/lib/python3.10/site-packages/pyspark/python/lib/pyspark.zip/pyspark/pandas/internal.py:1573: FutureWarning: iteritems is deprecated and will be removed in a future version. Use .items instead.\n",
      "/home/ghost/.cache/pypoetry/virtualenvs/socialmedia-2tHBEbUS-py3.10/lib/python3.10/site-packages/pyspark/python/lib/pyspark.zip/pyspark/pandas/internal.py:1573: FutureWarning: iteritems is deprecated and will be removed in a future version. Use .items instead.\n",
      "/home/ghost/.cache/pypoetry/virtualenvs/socialmedia-2tHBEbUS-py3.10/lib/python3.10/site-packages/pyspark/python/lib/pyspark.zip/pyspark/pandas/internal.py:1573: FutureWarning: iteritems is deprecated and will be removed in a future version. Use .items instead.\n",
      "/home/ghost/.cache/pypoetry/virtualenvs/socialmedia-2tHBEbUS-py3.10/lib/python3.10/site-packages/pyspark/python/lib/pyspark.zip/pyspark/pandas/internal.py:1573: FutureWarning: iteritems is deprecated and will be removed in a future version. Use .items instead.\n",
      "/home/ghost/.cache/pypoetry/virtualenvs/socialmedia-2tHBEbUS-py3.10/lib/python3.10/site-packages/pyspark/python/lib/pyspark.zip/pyspark/pandas/internal.py:1573: FutureWarning: iteritems is deprecated and will be removed in a future version. Use .items instead.\n",
      "/home/ghost/.cache/pypoetry/virtualenvs/socialmedia-2tHBEbUS-py3.10/lib/python3.10/site-packages/pyspark/python/lib/pyspark.zip/pyspark/pandas/internal.py:1573: FutureWarning: iteritems is deprecated and will be removed in a future version. Use .items instead.\n",
      "/home/ghost/.cache/pypoetry/virtualenvs/socialmedia-2tHBEbUS-py3.10/lib/python3.10/site-packages/pyspark/python/lib/pyspark.zip/pyspark/pandas/internal.py:1573: FutureWarning: iteritems is deprecated and will be removed in a future version. Use .items instead.\n",
      "/home/ghost/.cache/pypoetry/virtualenvs/socialmedia-2tHBEbUS-py3.10/lib/python3.10/site-packages/pyspark/python/lib/pyspark.zip/pyspark/pandas/internal.py:1573: FutureWarning: iteritems is deprecated and will be removed in a future version. Use .items instead.\n",
      "/home/ghost/.cache/pypoetry/virtualenvs/socialmedia-2tHBEbUS-py3.10/lib/python3.10/site-packages/pyspark/python/lib/pyspark.zip/pyspark/pandas/internal.py:1573: FutureWarning: iteritems is deprecated and will be removed in a future version. Use .items instead.\n",
      "/home/ghost/.cache/pypoetry/virtualenvs/socialmedia-2tHBEbUS-py3.10/lib/python3.10/site-packages/pyspark/python/lib/pyspark.zip/pyspark/pandas/internal.py:1573: FutureWarning: iteritems is deprecated and will be removed in a future version. Use .items instead.\n",
      "/home/ghost/.cache/pypoetry/virtualenvs/socialmedia-2tHBEbUS-py3.10/lib/python3.10/site-packages/pyspark/python/lib/pyspark.zip/pyspark/pandas/internal.py:1573: FutureWarning: iteritems is deprecated and will be removed in a future version. Use .items instead.\n",
      "/home/ghost/.cache/pypoetry/virtualenvs/socialmedia-2tHBEbUS-py3.10/lib/python3.10/site-packages/pyspark/python/lib/pyspark.zip/pyspark/pandas/internal.py:1573: FutureWarning: iteritems is deprecated and will be removed in a future version. Use .items instead.\n",
      "/home/ghost/.cache/pypoetry/virtualenvs/socialmedia-2tHBEbUS-py3.10/lib/python3.10/site-packages/pyspark/python/lib/pyspark.zip/pyspark/pandas/internal.py:1573: FutureWarning: iteritems is deprecated and will be removed in a future version. Use .items instead.\n",
      "/home/ghost/.cache/pypoetry/virtualenvs/socialmedia-2tHBEbUS-py3.10/lib/python3.10/site-packages/pyspark/python/lib/pyspark.zip/pyspark/pandas/internal.py:1573: FutureWarning: iteritems is deprecated and will be removed in a future version. Use .items instead.\n",
      "/home/ghost/.cache/pypoetry/virtualenvs/socialmedia-2tHBEbUS-py3.10/lib/python3.10/site-packages/pyspark/python/lib/pyspark.zip/pyspark/pandas/internal.py:1573: FutureWarning: iteritems is deprecated and will be removed in a future version. Use .items instead.\n",
      "/home/ghost/.cache/pypoetry/virtualenvs/socialmedia-2tHBEbUS-py3.10/lib/python3.10/site-packages/pyspark/python/lib/pyspark.zip/pyspark/pandas/internal.py:1573: FutureWarning: iteritems is deprecated and will be removed in a future version. Use .items instead.\n",
      "/home/ghost/.cache/pypoetry/virtualenvs/socialmedia-2tHBEbUS-py3.10/lib/python3.10/site-packages/pyspark/python/lib/pyspark.zip/pyspark/pandas/internal.py:1573: FutureWarning: iteritems is deprecated and will be removed in a future version. Use .items instead.\n",
      "/home/ghost/.cache/pypoetry/virtualenvs/socialmedia-2tHBEbUS-py3.10/lib/python3.10/site-packages/pyspark/python/lib/pyspark.zip/pyspark/pandas/internal.py:1573: FutureWarning: iteritems is deprecated and will be removed in a future version. Use .items instead.\n",
      "/home/ghost/.cache/pypoetry/virtualenvs/socialmedia-2tHBEbUS-py3.10/lib/python3.10/site-packages/pyspark/python/lib/pyspark.zip/pyspark/pandas/internal.py:1573: FutureWarning: iteritems is deprecated and will be removed in a future version. Use .items instead.\n",
      "/home/ghost/.cache/pypoetry/virtualenvs/socialmedia-2tHBEbUS-py3.10/lib/python3.10/site-packages/pyspark/python/lib/pyspark.zip/pyspark/pandas/internal.py:1573: FutureWarning: iteritems is deprecated and will be removed in a future version. Use .items instead.\n",
      "/home/ghost/.cache/pypoetry/virtualenvs/socialmedia-2tHBEbUS-py3.10/lib/python3.10/site-packages/pyspark/python/lib/pyspark.zip/pyspark/pandas/internal.py:1573: FutureWarning: iteritems is deprecated and will be removed in a future version. Use .items instead.\n",
      "/home/ghost/.cache/pypoetry/virtualenvs/socialmedia-2tHBEbUS-py3.10/lib/python3.10/site-packages/pyspark/python/lib/pyspark.zip/pyspark/pandas/internal.py:1573: FutureWarning: iteritems is deprecated and will be removed in a future version. Use .items instead.\n",
      "/home/ghost/.cache/pypoetry/virtualenvs/socialmedia-2tHBEbUS-py3.10/lib/python3.10/site-packages/pyspark/python/lib/pyspark.zip/pyspark/pandas/internal.py:1573: FutureWarning: iteritems is deprecated and will be removed in a future version. Use .items instead.\n",
      "/home/ghost/.cache/pypoetry/virtualenvs/socialmedia-2tHBEbUS-py3.10/lib/python3.10/site-packages/pyspark/python/lib/pyspark.zip/pyspark/pandas/internal.py:1573: FutureWarning: iteritems is deprecated and will be removed in a future version. Use .items instead.\n",
      "/home/ghost/.cache/pypoetry/virtualenvs/socialmedia-2tHBEbUS-py3.10/lib/python3.10/site-packages/pyspark/python/lib/pyspark.zip/pyspark/pandas/internal.py:1573: FutureWarning: iteritems is deprecated and will be removed in a future version. Use .items instead.\n",
      "/home/ghost/.cache/pypoetry/virtualenvs/socialmedia-2tHBEbUS-py3.10/lib/python3.10/site-packages/pyspark/python/lib/pyspark.zip/pyspark/pandas/internal.py:1573: FutureWarning: iteritems is deprecated and will be removed in a future version. Use .items instead.\n",
      "/home/ghost/.cache/pypoetry/virtualenvs/socialmedia-2tHBEbUS-py3.10/lib/python3.10/site-packages/pyspark/python/lib/pyspark.zip/pyspark/pandas/internal.py:1573: FutureWarning: iteritems is deprecated and will be removed in a future version. Use .items instead.\n",
      "/home/ghost/.cache/pypoetry/virtualenvs/socialmedia-2tHBEbUS-py3.10/lib/python3.10/site-packages/pyspark/python/lib/pyspark.zip/pyspark/pandas/internal.py:1573: FutureWarning: iteritems is deprecated and will be removed in a future version. Use .items instead.\n",
      "/home/ghost/.cache/pypoetry/virtualenvs/socialmedia-2tHBEbUS-py3.10/lib/python3.10/site-packages/pyspark/python/lib/pyspark.zip/pyspark/pandas/internal.py:1573: FutureWarning: iteritems is deprecated and will be removed in a future version. Use .items instead.\n",
      "/home/ghost/.cache/pypoetry/virtualenvs/socialmedia-2tHBEbUS-py3.10/lib/python3.10/site-packages/pyspark/python/lib/pyspark.zip/pyspark/pandas/internal.py:1573: FutureWarning: iteritems is deprecated and will be removed in a future version. Use .items instead.\n",
      "/home/ghost/.cache/pypoetry/virtualenvs/socialmedia-2tHBEbUS-py3.10/lib/python3.10/site-packages/pyspark/python/lib/pyspark.zip/pyspark/pandas/internal.py:1573: FutureWarning: iteritems is deprecated and will be removed in a future version. Use .items instead.\n",
      "/home/ghost/.cache/pypoetry/virtualenvs/socialmedia-2tHBEbUS-py3.10/lib/python3.10/site-packages/pyspark/python/lib/pyspark.zip/pyspark/pandas/internal.py:1573: FutureWarning: iteritems is deprecated and will be removed in a future version. Use .items instead.\n",
      "/home/ghost/.cache/pypoetry/virtualenvs/socialmedia-2tHBEbUS-py3.10/lib/python3.10/site-packages/pyspark/python/lib/pyspark.zip/pyspark/pandas/internal.py:1573: FutureWarning: iteritems is deprecated and will be removed in a future version. Use .items instead.\n",
      "/home/ghost/.cache/pypoetry/virtualenvs/socialmedia-2tHBEbUS-py3.10/lib/python3.10/site-packages/pyspark/python/lib/pyspark.zip/pyspark/pandas/internal.py:1573: FutureWarning: iteritems is deprecated and will be removed in a future version. Use .items instead.\n",
      "/home/ghost/.cache/pypoetry/virtualenvs/socialmedia-2tHBEbUS-py3.10/lib/python3.10/site-packages/pyspark/python/lib/pyspark.zip/pyspark/pandas/internal.py:1573: FutureWarning: iteritems is deprecated and will be removed in a future version. Use .items instead.\n",
      "/home/ghost/.cache/pypoetry/virtualenvs/socialmedia-2tHBEbUS-py3.10/lib/python3.10/site-packages/pyspark/python/lib/pyspark.zip/pyspark/pandas/internal.py:1573: FutureWarning: iteritems is deprecated and will be removed in a future version. Use .items instead.\n",
      "/home/ghost/.cache/pypoetry/virtualenvs/socialmedia-2tHBEbUS-py3.10/lib/python3.10/site-packages/pyspark/python/lib/pyspark.zip/pyspark/pandas/internal.py:1573: FutureWarning: iteritems is deprecated and will be removed in a future version. Use .items instead.\n",
      "/home/ghost/.cache/pypoetry/virtualenvs/socialmedia-2tHBEbUS-py3.10/lib/python3.10/site-packages/pyspark/python/lib/pyspark.zip/pyspark/pandas/internal.py:1573: FutureWarning: iteritems is deprecated and will be removed in a future version. Use .items instead.\n",
      "/home/ghost/.cache/pypoetry/virtualenvs/socialmedia-2tHBEbUS-py3.10/lib/python3.10/site-packages/pyspark/python/lib/pyspark.zip/pyspark/pandas/internal.py:1573: FutureWarning: iteritems is deprecated and will be removed in a future version. Use .items instead.\n",
      "/home/ghost/.cache/pypoetry/virtualenvs/socialmedia-2tHBEbUS-py3.10/lib/python3.10/site-packages/pyspark/python/lib/pyspark.zip/pyspark/pandas/internal.py:1573: FutureWarning: iteritems is deprecated and will be removed in a future version. Use .items instead.\n",
      "/home/ghost/.cache/pypoetry/virtualenvs/socialmedia-2tHBEbUS-py3.10/lib/python3.10/site-packages/pyspark/python/lib/pyspark.zip/pyspark/pandas/internal.py:1573: FutureWarning: iteritems is deprecated and will be removed in a future version. Use .items instead.\n",
      "/home/ghost/.cache/pypoetry/virtualenvs/socialmedia-2tHBEbUS-py3.10/lib/python3.10/site-packages/pyspark/python/lib/pyspark.zip/pyspark/pandas/internal.py:1573: FutureWarning: iteritems is deprecated and will be removed in a future version. Use .items instead.\n",
      "/home/ghost/.cache/pypoetry/virtualenvs/socialmedia-2tHBEbUS-py3.10/lib/python3.10/site-packages/pyspark/python/lib/pyspark.zip/pyspark/pandas/internal.py:1573: FutureWarning: iteritems is deprecated and will be removed in a future version. Use .items instead.\n",
      "/home/ghost/.cache/pypoetry/virtualenvs/socialmedia-2tHBEbUS-py3.10/lib/python3.10/site-packages/pyspark/python/lib/pyspark.zip/pyspark/pandas/internal.py:1573: FutureWarning: iteritems is deprecated and will be removed in a future version. Use .items instead.\n",
      "/home/ghost/.cache/pypoetry/virtualenvs/socialmedia-2tHBEbUS-py3.10/lib/python3.10/site-packages/pyspark/python/lib/pyspark.zip/pyspark/pandas/internal.py:1573: FutureWarning: iteritems is deprecated and will be removed in a future version. Use .items instead.\n",
      "/home/ghost/.cache/pypoetry/virtualenvs/socialmedia-2tHBEbUS-py3.10/lib/python3.10/site-packages/pyspark/python/lib/pyspark.zip/pyspark/pandas/internal.py:1573: FutureWarning: iteritems is deprecated and will be removed in a future version. Use .items instead.\n",
      "/home/ghost/.cache/pypoetry/virtualenvs/socialmedia-2tHBEbUS-py3.10/lib/python3.10/site-packages/pyspark/python/lib/pyspark.zip/pyspark/pandas/internal.py:1573: FutureWarning: iteritems is deprecated and will be removed in a future version. Use .items instead.\n",
      "/home/ghost/.cache/pypoetry/virtualenvs/socialmedia-2tHBEbUS-py3.10/lib/python3.10/site-packages/pyspark/python/lib/pyspark.zip/pyspark/pandas/internal.py:1573: FutureWarning: iteritems is deprecated and will be removed in a future version. Use .items instead.\n",
      "/home/ghost/.cache/pypoetry/virtualenvs/socialmedia-2tHBEbUS-py3.10/lib/python3.10/site-packages/pyspark/python/lib/pyspark.zip/pyspark/pandas/internal.py:1573: FutureWarning: iteritems is deprecated and will be removed in a future version. Use .items instead.\n",
      "/home/ghost/.cache/pypoetry/virtualenvs/socialmedia-2tHBEbUS-py3.10/lib/python3.10/site-packages/pyspark/python/lib/pyspark.zip/pyspark/pandas/internal.py:1573: FutureWarning: iteritems is deprecated and will be removed in a future version. Use .items instead.\n",
      "/home/ghost/.cache/pypoetry/virtualenvs/socialmedia-2tHBEbUS-py3.10/lib/python3.10/site-packages/pyspark/python/lib/pyspark.zip/pyspark/pandas/internal.py:1573: FutureWarning: iteritems is deprecated and will be removed in a future version. Use .items instead.\n",
      "                                                                                \r"
     ]
    }
   ],
   "source": [
    "df_differ = df[df[\"VADER_sentiment\"]!= df[\"TEXTBLOB_sentiment\"]]\n",
    "length = len(df_differ)\n",
    "only_irrelevant = (df_differ[\"Sentiment\"].unique().to_list() == [\"Irrelevant\"])"
   ]
  },
  {
   "cell_type": "code",
   "execution_count": 34,
   "metadata": {},
   "outputs": [
    {
     "name": "stdout",
     "output_type": "stream",
     "text": [
      "Number of rows for which vader and textblob have different sentiments 13047\n",
      "Do these rows only contain the sentiment `Irrelevant`? True\n"
     ]
    }
   ],
   "source": [
    "print(f\"Number of rows for which vader and textblob have different sentiments {length}\")\n",
    "print(f\"Do these rows only contain the sentiment `Irrelevant`? {only_irrelevant}\")"
   ]
  },
  {
   "cell_type": "markdown",
   "metadata": {},
   "source": [
    "### Working with Subjectivity"
   ]
  },
  {
   "cell_type": "markdown",
   "metadata": {},
   "source": [
    "Subjectivity does not seem like a field to predict sentiments. Rather it seems like a value that can be used to filter sentiments by an organization. An organization might want to view tweets or their sentiments on the basis of how objective or subjective a tweet is."
   ]
  },
  {
   "cell_type": "markdown",
   "metadata": {},
   "source": [
    "Plotting a histogram to understand the subjectivity of tweets."
   ]
  },
  {
   "cell_type": "code",
   "execution_count": 35,
   "metadata": {},
   "outputs": [
    {
     "name": "stderr",
     "output_type": "stream",
     "text": [
      "/home/ghost/.cache/pypoetry/virtualenvs/socialmedia-2tHBEbUS-py3.10/lib/python3.10/site-packages/pyspark/python/lib/pyspark.zip/pyspark/pandas/internal.py:1573: FutureWarning: iteritems is deprecated and will be removed in a future version. Use .items instead.\n",
      "/home/ghost/.cache/pypoetry/virtualenvs/socialmedia-2tHBEbUS-py3.10/lib/python3.10/site-packages/pyspark/python/lib/pyspark.zip/pyspark/pandas/internal.py:1573: FutureWarning: iteritems is deprecated and will be removed in a future version. Use .items instead.\n",
      "/home/ghost/.cache/pypoetry/virtualenvs/socialmedia-2tHBEbUS-py3.10/lib/python3.10/site-packages/pyspark/python/lib/pyspark.zip/pyspark/pandas/internal.py:1573: FutureWarning: iteritems is deprecated and will be removed in a future version. Use .items instead.\n",
      "/home/ghost/.cache/pypoetry/virtualenvs/socialmedia-2tHBEbUS-py3.10/lib/python3.10/site-packages/pyspark/python/lib/pyspark.zip/pyspark/pandas/internal.py:1573: FutureWarning: iteritems is deprecated and will be removed in a future version. Use .items instead.\n",
      "/home/ghost/.cache/pypoetry/virtualenvs/socialmedia-2tHBEbUS-py3.10/lib/python3.10/site-packages/pyspark/python/lib/pyspark.zip/pyspark/pandas/internal.py:1573: FutureWarning: iteritems is deprecated and will be removed in a future version. Use .items instead.\n",
      "/home/ghost/.cache/pypoetry/virtualenvs/socialmedia-2tHBEbUS-py3.10/lib/python3.10/site-packages/pyspark/python/lib/pyspark.zip/pyspark/pandas/internal.py:1573: FutureWarning: iteritems is deprecated and will be removed in a future version. Use .items instead.\n",
      "/home/ghost/.cache/pypoetry/virtualenvs/socialmedia-2tHBEbUS-py3.10/lib/python3.10/site-packages/pyspark/python/lib/pyspark.zip/pyspark/pandas/internal.py:1573: FutureWarning: iteritems is deprecated and will be removed in a future version. Use .items instead.\n",
      "/home/ghost/.cache/pypoetry/virtualenvs/socialmedia-2tHBEbUS-py3.10/lib/python3.10/site-packages/pyspark/python/lib/pyspark.zip/pyspark/pandas/internal.py:1573: FutureWarning: iteritems is deprecated and will be removed in a future version. Use .items instead.\n",
      "/home/ghost/.cache/pypoetry/virtualenvs/socialmedia-2tHBEbUS-py3.10/lib/python3.10/site-packages/pyspark/python/lib/pyspark.zip/pyspark/pandas/internal.py:1573: FutureWarning: iteritems is deprecated and will be removed in a future version. Use .items instead.\n",
      "/home/ghost/.cache/pypoetry/virtualenvs/socialmedia-2tHBEbUS-py3.10/lib/python3.10/site-packages/pyspark/python/lib/pyspark.zip/pyspark/pandas/internal.py:1573: FutureWarning: iteritems is deprecated and will be removed in a future version. Use .items instead.\n",
      "/home/ghost/.cache/pypoetry/virtualenvs/socialmedia-2tHBEbUS-py3.10/lib/python3.10/site-packages/pyspark/python/lib/pyspark.zip/pyspark/pandas/internal.py:1573: FutureWarning: iteritems is deprecated and will be removed in a future version. Use .items instead.\n",
      "/home/ghost/.cache/pypoetry/virtualenvs/socialmedia-2tHBEbUS-py3.10/lib/python3.10/site-packages/pyspark/python/lib/pyspark.zip/pyspark/pandas/internal.py:1573: FutureWarning: iteritems is deprecated and will be removed in a future version. Use .items instead.\n",
      "/home/ghost/.cache/pypoetry/virtualenvs/socialmedia-2tHBEbUS-py3.10/lib/python3.10/site-packages/pyspark/python/lib/pyspark.zip/pyspark/pandas/internal.py:1573: FutureWarning: iteritems is deprecated and will be removed in a future version. Use .items instead.\n",
      "/home/ghost/.cache/pypoetry/virtualenvs/socialmedia-2tHBEbUS-py3.10/lib/python3.10/site-packages/pyspark/python/lib/pyspark.zip/pyspark/pandas/internal.py:1573: FutureWarning: iteritems is deprecated and will be removed in a future version. Use .items instead.\n",
      "/home/ghost/.cache/pypoetry/virtualenvs/socialmedia-2tHBEbUS-py3.10/lib/python3.10/site-packages/pyspark/python/lib/pyspark.zip/pyspark/pandas/internal.py:1573: FutureWarning: iteritems is deprecated and will be removed in a future version. Use .items instead.\n",
      "/home/ghost/.cache/pypoetry/virtualenvs/socialmedia-2tHBEbUS-py3.10/lib/python3.10/site-packages/pyspark/python/lib/pyspark.zip/pyspark/pandas/internal.py:1573: FutureWarning: iteritems is deprecated and will be removed in a future version. Use .items instead.\n",
      "/home/ghost/.cache/pypoetry/virtualenvs/socialmedia-2tHBEbUS-py3.10/lib/python3.10/site-packages/pyspark/python/lib/pyspark.zip/pyspark/pandas/internal.py:1573: FutureWarning: iteritems is deprecated and will be removed in a future version. Use .items instead.\n",
      "/home/ghost/.cache/pypoetry/virtualenvs/socialmedia-2tHBEbUS-py3.10/lib/python3.10/site-packages/pyspark/python/lib/pyspark.zip/pyspark/pandas/internal.py:1573: FutureWarning: iteritems is deprecated and will be removed in a future version. Use .items instead.\n",
      "/home/ghost/.cache/pypoetry/virtualenvs/socialmedia-2tHBEbUS-py3.10/lib/python3.10/site-packages/pyspark/python/lib/pyspark.zip/pyspark/pandas/internal.py:1573: FutureWarning: iteritems is deprecated and will be removed in a future version. Use .items instead.\n",
      "/home/ghost/.cache/pypoetry/virtualenvs/socialmedia-2tHBEbUS-py3.10/lib/python3.10/site-packages/pyspark/python/lib/pyspark.zip/pyspark/pandas/internal.py:1573: FutureWarning: iteritems is deprecated and will be removed in a future version. Use .items instead.\n",
      "/home/ghost/.cache/pypoetry/virtualenvs/socialmedia-2tHBEbUS-py3.10/lib/python3.10/site-packages/pyspark/python/lib/pyspark.zip/pyspark/pandas/internal.py:1573: FutureWarning: iteritems is deprecated and will be removed in a future version. Use .items instead.\n",
      "/home/ghost/.cache/pypoetry/virtualenvs/socialmedia-2tHBEbUS-py3.10/lib/python3.10/site-packages/pyspark/python/lib/pyspark.zip/pyspark/pandas/internal.py:1573: FutureWarning: iteritems is deprecated and will be removed in a future version. Use .items instead.\n",
      "/home/ghost/.cache/pypoetry/virtualenvs/socialmedia-2tHBEbUS-py3.10/lib/python3.10/site-packages/pyspark/python/lib/pyspark.zip/pyspark/pandas/internal.py:1573: FutureWarning: iteritems is deprecated and will be removed in a future version. Use .items instead.\n",
      "/home/ghost/.cache/pypoetry/virtualenvs/socialmedia-2tHBEbUS-py3.10/lib/python3.10/site-packages/pyspark/python/lib/pyspark.zip/pyspark/pandas/internal.py:1573: FutureWarning: iteritems is deprecated and will be removed in a future version. Use .items instead.\n",
      "/home/ghost/.cache/pypoetry/virtualenvs/socialmedia-2tHBEbUS-py3.10/lib/python3.10/site-packages/pyspark/python/lib/pyspark.zip/pyspark/pandas/internal.py:1573: FutureWarning: iteritems is deprecated and will be removed in a future version. Use .items instead.\n",
      "/home/ghost/.cache/pypoetry/virtualenvs/socialmedia-2tHBEbUS-py3.10/lib/python3.10/site-packages/pyspark/python/lib/pyspark.zip/pyspark/pandas/internal.py:1573: FutureWarning: iteritems is deprecated and will be removed in a future version. Use .items instead.\n",
      "/home/ghost/.cache/pypoetry/virtualenvs/socialmedia-2tHBEbUS-py3.10/lib/python3.10/site-packages/pyspark/python/lib/pyspark.zip/pyspark/pandas/internal.py:1573: FutureWarning: iteritems is deprecated and will be removed in a future version. Use .items instead.\n",
      "/home/ghost/.cache/pypoetry/virtualenvs/socialmedia-2tHBEbUS-py3.10/lib/python3.10/site-packages/pyspark/python/lib/pyspark.zip/pyspark/pandas/internal.py:1573: FutureWarning: iteritems is deprecated and will be removed in a future version. Use .items instead.\n",
      "/home/ghost/.cache/pypoetry/virtualenvs/socialmedia-2tHBEbUS-py3.10/lib/python3.10/site-packages/pyspark/python/lib/pyspark.zip/pyspark/pandas/internal.py:1573: FutureWarning: iteritems is deprecated and will be removed in a future version. Use .items instead.\n",
      "/home/ghost/.cache/pypoetry/virtualenvs/socialmedia-2tHBEbUS-py3.10/lib/python3.10/site-packages/pyspark/python/lib/pyspark.zip/pyspark/pandas/internal.py:1573: FutureWarning: iteritems is deprecated and will be removed in a future version. Use .items instead.\n",
      "/home/ghost/.cache/pypoetry/virtualenvs/socialmedia-2tHBEbUS-py3.10/lib/python3.10/site-packages/pyspark/python/lib/pyspark.zip/pyspark/pandas/internal.py:1573: FutureWarning: iteritems is deprecated and will be removed in a future version. Use .items instead.\n",
      "/home/ghost/.cache/pypoetry/virtualenvs/socialmedia-2tHBEbUS-py3.10/lib/python3.10/site-packages/pyspark/python/lib/pyspark.zip/pyspark/pandas/internal.py:1573: FutureWarning: iteritems is deprecated and will be removed in a future version. Use .items instead.\n",
      "/home/ghost/.cache/pypoetry/virtualenvs/socialmedia-2tHBEbUS-py3.10/lib/python3.10/site-packages/pyspark/python/lib/pyspark.zip/pyspark/pandas/internal.py:1573: FutureWarning: iteritems is deprecated and will be removed in a future version. Use .items instead.\n",
      "/home/ghost/.cache/pypoetry/virtualenvs/socialmedia-2tHBEbUS-py3.10/lib/python3.10/site-packages/pyspark/python/lib/pyspark.zip/pyspark/pandas/internal.py:1573: FutureWarning: iteritems is deprecated and will be removed in a future version. Use .items instead.\n",
      "/home/ghost/.cache/pypoetry/virtualenvs/socialmedia-2tHBEbUS-py3.10/lib/python3.10/site-packages/pyspark/python/lib/pyspark.zip/pyspark/pandas/internal.py:1573: FutureWarning: iteritems is deprecated and will be removed in a future version. Use .items instead.\n",
      "/home/ghost/.cache/pypoetry/virtualenvs/socialmedia-2tHBEbUS-py3.10/lib/python3.10/site-packages/pyspark/python/lib/pyspark.zip/pyspark/pandas/internal.py:1573: FutureWarning: iteritems is deprecated and will be removed in a future version. Use .items instead.\n",
      "/home/ghost/.cache/pypoetry/virtualenvs/socialmedia-2tHBEbUS-py3.10/lib/python3.10/site-packages/pyspark/python/lib/pyspark.zip/pyspark/pandas/internal.py:1573: FutureWarning: iteritems is deprecated and will be removed in a future version. Use .items instead.\n",
      "/home/ghost/.cache/pypoetry/virtualenvs/socialmedia-2tHBEbUS-py3.10/lib/python3.10/site-packages/pyspark/python/lib/pyspark.zip/pyspark/pandas/internal.py:1573: FutureWarning: iteritems is deprecated and will be removed in a future version. Use .items instead.\n",
      "/home/ghost/.cache/pypoetry/virtualenvs/socialmedia-2tHBEbUS-py3.10/lib/python3.10/site-packages/pyspark/python/lib/pyspark.zip/pyspark/pandas/internal.py:1573: FutureWarning: iteritems is deprecated and will be removed in a future version. Use .items instead.\n",
      "/home/ghost/.cache/pypoetry/virtualenvs/socialmedia-2tHBEbUS-py3.10/lib/python3.10/site-packages/pyspark/python/lib/pyspark.zip/pyspark/pandas/internal.py:1573: FutureWarning: iteritems is deprecated and will be removed in a future version. Use .items instead.\n",
      "/home/ghost/.cache/pypoetry/virtualenvs/socialmedia-2tHBEbUS-py3.10/lib/python3.10/site-packages/pyspark/python/lib/pyspark.zip/pyspark/pandas/internal.py:1573: FutureWarning: iteritems is deprecated and will be removed in a future version. Use .items instead.\n",
      "/home/ghost/.cache/pypoetry/virtualenvs/socialmedia-2tHBEbUS-py3.10/lib/python3.10/site-packages/pyspark/python/lib/pyspark.zip/pyspark/pandas/internal.py:1573: FutureWarning: iteritems is deprecated and will be removed in a future version. Use .items instead.\n",
      "/home/ghost/.cache/pypoetry/virtualenvs/socialmedia-2tHBEbUS-py3.10/lib/python3.10/site-packages/pyspark/python/lib/pyspark.zip/pyspark/pandas/internal.py:1573: FutureWarning: iteritems is deprecated and will be removed in a future version. Use .items instead.\n",
      "/home/ghost/.cache/pypoetry/virtualenvs/socialmedia-2tHBEbUS-py3.10/lib/python3.10/site-packages/pyspark/python/lib/pyspark.zip/pyspark/pandas/internal.py:1573: FutureWarning: iteritems is deprecated and will be removed in a future version. Use .items instead.\n",
      "/home/ghost/.cache/pypoetry/virtualenvs/socialmedia-2tHBEbUS-py3.10/lib/python3.10/site-packages/pyspark/python/lib/pyspark.zip/pyspark/pandas/internal.py:1573: FutureWarning: iteritems is deprecated and will be removed in a future version. Use .items instead.\n",
      "/home/ghost/.cache/pypoetry/virtualenvs/socialmedia-2tHBEbUS-py3.10/lib/python3.10/site-packages/pyspark/python/lib/pyspark.zip/pyspark/pandas/internal.py:1573: FutureWarning: iteritems is deprecated and will be removed in a future version. Use .items instead.\n",
      "/home/ghost/.cache/pypoetry/virtualenvs/socialmedia-2tHBEbUS-py3.10/lib/python3.10/site-packages/pyspark/python/lib/pyspark.zip/pyspark/pandas/internal.py:1573: FutureWarning: iteritems is deprecated and will be removed in a future version. Use .items instead.\n",
      "/home/ghost/.cache/pypoetry/virtualenvs/socialmedia-2tHBEbUS-py3.10/lib/python3.10/site-packages/pyspark/python/lib/pyspark.zip/pyspark/pandas/internal.py:1573: FutureWarning: iteritems is deprecated and will be removed in a future version. Use .items instead.\n",
      "/home/ghost/.cache/pypoetry/virtualenvs/socialmedia-2tHBEbUS-py3.10/lib/python3.10/site-packages/pyspark/python/lib/pyspark.zip/pyspark/pandas/internal.py:1573: FutureWarning: iteritems is deprecated and will be removed in a future version. Use .items instead.\n",
      "/home/ghost/.cache/pypoetry/virtualenvs/socialmedia-2tHBEbUS-py3.10/lib/python3.10/site-packages/pyspark/python/lib/pyspark.zip/pyspark/pandas/internal.py:1573: FutureWarning: iteritems is deprecated and will be removed in a future version. Use .items instead.\n",
      "/home/ghost/.cache/pypoetry/virtualenvs/socialmedia-2tHBEbUS-py3.10/lib/python3.10/site-packages/pyspark/python/lib/pyspark.zip/pyspark/pandas/internal.py:1573: FutureWarning: iteritems is deprecated and will be removed in a future version. Use .items instead.\n",
      "/home/ghost/.cache/pypoetry/virtualenvs/socialmedia-2tHBEbUS-py3.10/lib/python3.10/site-packages/pyspark/python/lib/pyspark.zip/pyspark/pandas/internal.py:1573: FutureWarning: iteritems is deprecated and will be removed in a future version. Use .items instead.\n",
      "/home/ghost/.cache/pypoetry/virtualenvs/socialmedia-2tHBEbUS-py3.10/lib/python3.10/site-packages/pyspark/python/lib/pyspark.zip/pyspark/pandas/internal.py:1573: FutureWarning: iteritems is deprecated and will be removed in a future version. Use .items instead.\n",
      "/home/ghost/.cache/pypoetry/virtualenvs/socialmedia-2tHBEbUS-py3.10/lib/python3.10/site-packages/pyspark/python/lib/pyspark.zip/pyspark/pandas/internal.py:1573: FutureWarning: iteritems is deprecated and will be removed in a future version. Use .items instead.\n",
      "/home/ghost/.cache/pypoetry/virtualenvs/socialmedia-2tHBEbUS-py3.10/lib/python3.10/site-packages/pyspark/python/lib/pyspark.zip/pyspark/pandas/internal.py:1573: FutureWarning: iteritems is deprecated and will be removed in a future version. Use .items instead.\n",
      "/home/ghost/.cache/pypoetry/virtualenvs/socialmedia-2tHBEbUS-py3.10/lib/python3.10/site-packages/pyspark/python/lib/pyspark.zip/pyspark/pandas/internal.py:1573: FutureWarning: iteritems is deprecated and will be removed in a future version. Use .items instead.\n",
      "/home/ghost/.cache/pypoetry/virtualenvs/socialmedia-2tHBEbUS-py3.10/lib/python3.10/site-packages/pyspark/python/lib/pyspark.zip/pyspark/pandas/internal.py:1573: FutureWarning: iteritems is deprecated and will be removed in a future version. Use .items instead.\n",
      "/home/ghost/.cache/pypoetry/virtualenvs/socialmedia-2tHBEbUS-py3.10/lib/python3.10/site-packages/pyspark/python/lib/pyspark.zip/pyspark/pandas/internal.py:1573: FutureWarning: iteritems is deprecated and will be removed in a future version. Use .items instead.\n",
      "/home/ghost/.cache/pypoetry/virtualenvs/socialmedia-2tHBEbUS-py3.10/lib/python3.10/site-packages/pyspark/python/lib/pyspark.zip/pyspark/pandas/internal.py:1573: FutureWarning: iteritems is deprecated and will be removed in a future version. Use .items instead.\n",
      "/home/ghost/.cache/pypoetry/virtualenvs/socialmedia-2tHBEbUS-py3.10/lib/python3.10/site-packages/pyspark/python/lib/pyspark.zip/pyspark/pandas/internal.py:1573: FutureWarning: iteritems is deprecated and will be removed in a future version. Use .items instead.\n",
      "/home/ghost/.cache/pypoetry/virtualenvs/socialmedia-2tHBEbUS-py3.10/lib/python3.10/site-packages/pyspark/python/lib/pyspark.zip/pyspark/pandas/internal.py:1573: FutureWarning: iteritems is deprecated and will be removed in a future version. Use .items instead.\n",
      "/home/ghost/.cache/pypoetry/virtualenvs/socialmedia-2tHBEbUS-py3.10/lib/python3.10/site-packages/pyspark/python/lib/pyspark.zip/pyspark/pandas/internal.py:1573: FutureWarning: iteritems is deprecated and will be removed in a future version. Use .items instead.\n",
      "/home/ghost/.cache/pypoetry/virtualenvs/socialmedia-2tHBEbUS-py3.10/lib/python3.10/site-packages/pyspark/python/lib/pyspark.zip/pyspark/pandas/internal.py:1573: FutureWarning: iteritems is deprecated and will be removed in a future version. Use .items instead.\n",
      "/home/ghost/.cache/pypoetry/virtualenvs/socialmedia-2tHBEbUS-py3.10/lib/python3.10/site-packages/pyspark/python/lib/pyspark.zip/pyspark/pandas/internal.py:1573: FutureWarning: iteritems is deprecated and will be removed in a future version. Use .items instead.\n",
      "/home/ghost/.cache/pypoetry/virtualenvs/socialmedia-2tHBEbUS-py3.10/lib/python3.10/site-packages/pyspark/python/lib/pyspark.zip/pyspark/pandas/internal.py:1573: FutureWarning: iteritems is deprecated and will be removed in a future version. Use .items instead.\n",
      "/home/ghost/.cache/pypoetry/virtualenvs/socialmedia-2tHBEbUS-py3.10/lib/python3.10/site-packages/pyspark/python/lib/pyspark.zip/pyspark/pandas/internal.py:1573: FutureWarning: iteritems is deprecated and will be removed in a future version. Use .items instead.\n",
      "/home/ghost/.cache/pypoetry/virtualenvs/socialmedia-2tHBEbUS-py3.10/lib/python3.10/site-packages/pyspark/python/lib/pyspark.zip/pyspark/pandas/internal.py:1573: FutureWarning: iteritems is deprecated and will be removed in a future version. Use .items instead.\n",
      "/home/ghost/.cache/pypoetry/virtualenvs/socialmedia-2tHBEbUS-py3.10/lib/python3.10/site-packages/pyspark/python/lib/pyspark.zip/pyspark/pandas/internal.py:1573: FutureWarning: iteritems is deprecated and will be removed in a future version. Use .items instead.\n",
      "/home/ghost/.cache/pypoetry/virtualenvs/socialmedia-2tHBEbUS-py3.10/lib/python3.10/site-packages/pyspark/python/lib/pyspark.zip/pyspark/pandas/internal.py:1573: FutureWarning: iteritems is deprecated and will be removed in a future version. Use .items instead.\n",
      "/home/ghost/.cache/pypoetry/virtualenvs/socialmedia-2tHBEbUS-py3.10/lib/python3.10/site-packages/pyspark/python/lib/pyspark.zip/pyspark/pandas/internal.py:1573: FutureWarning: iteritems is deprecated and will be removed in a future version. Use .items instead.\n",
      "/home/ghost/.cache/pypoetry/virtualenvs/socialmedia-2tHBEbUS-py3.10/lib/python3.10/site-packages/pyspark/python/lib/pyspark.zip/pyspark/pandas/internal.py:1573: FutureWarning: iteritems is deprecated and will be removed in a future version. Use .items instead.\n",
      "/home/ghost/.cache/pypoetry/virtualenvs/socialmedia-2tHBEbUS-py3.10/lib/python3.10/site-packages/pyspark/python/lib/pyspark.zip/pyspark/pandas/internal.py:1573: FutureWarning: iteritems is deprecated and will be removed in a future version. Use .items instead.\n",
      "/home/ghost/.cache/pypoetry/virtualenvs/socialmedia-2tHBEbUS-py3.10/lib/python3.10/site-packages/pyspark/python/lib/pyspark.zip/pyspark/pandas/internal.py:1573: FutureWarning: iteritems is deprecated and will be removed in a future version. Use .items instead.\n",
      "/home/ghost/.cache/pypoetry/virtualenvs/socialmedia-2tHBEbUS-py3.10/lib/python3.10/site-packages/pyspark/python/lib/pyspark.zip/pyspark/pandas/internal.py:1573: FutureWarning: iteritems is deprecated and will be removed in a future version. Use .items instead.\n",
      "/home/ghost/.cache/pypoetry/virtualenvs/socialmedia-2tHBEbUS-py3.10/lib/python3.10/site-packages/pyspark/python/lib/pyspark.zip/pyspark/pandas/internal.py:1573: FutureWarning: iteritems is deprecated and will be removed in a future version. Use .items instead.\n",
      "/home/ghost/.cache/pypoetry/virtualenvs/socialmedia-2tHBEbUS-py3.10/lib/python3.10/site-packages/pyspark/python/lib/pyspark.zip/pyspark/pandas/internal.py:1573: FutureWarning: iteritems is deprecated and will be removed in a future version. Use .items instead.\n",
      "/home/ghost/.cache/pypoetry/virtualenvs/socialmedia-2tHBEbUS-py3.10/lib/python3.10/site-packages/pyspark/python/lib/pyspark.zip/pyspark/pandas/internal.py:1573: FutureWarning: iteritems is deprecated and will be removed in a future version. Use .items instead.\n",
      "/home/ghost/.cache/pypoetry/virtualenvs/socialmedia-2tHBEbUS-py3.10/lib/python3.10/site-packages/pyspark/python/lib/pyspark.zip/pyspark/pandas/internal.py:1573: FutureWarning: iteritems is deprecated and will be removed in a future version. Use .items instead.\n",
      "/home/ghost/.cache/pypoetry/virtualenvs/socialmedia-2tHBEbUS-py3.10/lib/python3.10/site-packages/pyspark/python/lib/pyspark.zip/pyspark/pandas/internal.py:1573: FutureWarning: iteritems is deprecated and will be removed in a future version. Use .items instead.\n",
      "/home/ghost/.cache/pypoetry/virtualenvs/socialmedia-2tHBEbUS-py3.10/lib/python3.10/site-packages/pyspark/python/lib/pyspark.zip/pyspark/pandas/internal.py:1573: FutureWarning: iteritems is deprecated and will be removed in a future version. Use .items instead.\n",
      "/home/ghost/.cache/pypoetry/virtualenvs/socialmedia-2tHBEbUS-py3.10/lib/python3.10/site-packages/pyspark/python/lib/pyspark.zip/pyspark/pandas/internal.py:1573: FutureWarning: iteritems is deprecated and will be removed in a future version. Use .items instead.\n",
      "/home/ghost/.cache/pypoetry/virtualenvs/socialmedia-2tHBEbUS-py3.10/lib/python3.10/site-packages/pyspark/python/lib/pyspark.zip/pyspark/pandas/internal.py:1573: FutureWarning: iteritems is deprecated and will be removed in a future version. Use .items instead.\n",
      "/home/ghost/.cache/pypoetry/virtualenvs/socialmedia-2tHBEbUS-py3.10/lib/python3.10/site-packages/pyspark/python/lib/pyspark.zip/pyspark/pandas/internal.py:1573: FutureWarning: iteritems is deprecated and will be removed in a future version. Use .items instead.\n",
      "/home/ghost/.cache/pypoetry/virtualenvs/socialmedia-2tHBEbUS-py3.10/lib/python3.10/site-packages/pyspark/python/lib/pyspark.zip/pyspark/pandas/internal.py:1573: FutureWarning: iteritems is deprecated and will be removed in a future version. Use .items instead.\n",
      "/home/ghost/.cache/pypoetry/virtualenvs/socialmedia-2tHBEbUS-py3.10/lib/python3.10/site-packages/pyspark/python/lib/pyspark.zip/pyspark/pandas/internal.py:1573: FutureWarning: iteritems is deprecated and will be removed in a future version. Use .items instead.\n",
      "/home/ghost/.cache/pypoetry/virtualenvs/socialmedia-2tHBEbUS-py3.10/lib/python3.10/site-packages/pyspark/python/lib/pyspark.zip/pyspark/pandas/internal.py:1573: FutureWarning: iteritems is deprecated and will be removed in a future version. Use .items instead.\n",
      "/home/ghost/.cache/pypoetry/virtualenvs/socialmedia-2tHBEbUS-py3.10/lib/python3.10/site-packages/pyspark/python/lib/pyspark.zip/pyspark/pandas/internal.py:1573: FutureWarning: iteritems is deprecated and will be removed in a future version. Use .items instead.\n",
      "/home/ghost/.cache/pypoetry/virtualenvs/socialmedia-2tHBEbUS-py3.10/lib/python3.10/site-packages/pyspark/python/lib/pyspark.zip/pyspark/pandas/internal.py:1573: FutureWarning: iteritems is deprecated and will be removed in a future version. Use .items instead.\n",
      "/home/ghost/.cache/pypoetry/virtualenvs/socialmedia-2tHBEbUS-py3.10/lib/python3.10/site-packages/pyspark/python/lib/pyspark.zip/pyspark/pandas/internal.py:1573: FutureWarning: iteritems is deprecated and will be removed in a future version. Use .items instead.\n",
      "/home/ghost/.cache/pypoetry/virtualenvs/socialmedia-2tHBEbUS-py3.10/lib/python3.10/site-packages/pyspark/python/lib/pyspark.zip/pyspark/pandas/internal.py:1573: FutureWarning: iteritems is deprecated and will be removed in a future version. Use .items instead.\n",
      "/home/ghost/.cache/pypoetry/virtualenvs/socialmedia-2tHBEbUS-py3.10/lib/python3.10/site-packages/pyspark/python/lib/pyspark.zip/pyspark/pandas/internal.py:1573: FutureWarning: iteritems is deprecated and will be removed in a future version. Use .items instead.\n",
      "/home/ghost/.cache/pypoetry/virtualenvs/socialmedia-2tHBEbUS-py3.10/lib/python3.10/site-packages/pyspark/python/lib/pyspark.zip/pyspark/pandas/internal.py:1573: FutureWarning: iteritems is deprecated and will be removed in a future version. Use .items instead.\n",
      "/home/ghost/.cache/pypoetry/virtualenvs/socialmedia-2tHBEbUS-py3.10/lib/python3.10/site-packages/pyspark/python/lib/pyspark.zip/pyspark/pandas/internal.py:1573: FutureWarning: iteritems is deprecated and will be removed in a future version. Use .items instead.\n",
      "/home/ghost/.cache/pypoetry/virtualenvs/socialmedia-2tHBEbUS-py3.10/lib/python3.10/site-packages/pyspark/python/lib/pyspark.zip/pyspark/pandas/internal.py:1573: FutureWarning: iteritems is deprecated and will be removed in a future version. Use .items instead.\n",
      "/home/ghost/.cache/pypoetry/virtualenvs/socialmedia-2tHBEbUS-py3.10/lib/python3.10/site-packages/pyspark/python/lib/pyspark.zip/pyspark/pandas/internal.py:1573: FutureWarning: iteritems is deprecated and will be removed in a future version. Use .items instead.\n",
      "/home/ghost/.cache/pypoetry/virtualenvs/socialmedia-2tHBEbUS-py3.10/lib/python3.10/site-packages/pyspark/python/lib/pyspark.zip/pyspark/pandas/internal.py:1573: FutureWarning: iteritems is deprecated and will be removed in a future version. Use .items instead.\n",
      "                                                                                \r"
     ]
    },
    {
     "data": {
      "application/vnd.plotly.v1+json": {
       "config": {
        "plotlyServerURL": "https://plot.ly"
       },
       "data": [
        {
         "hovertemplate": "variable=TEXTBLOB_subjectivity<br>value=%{text}<br>count=%{y}",
         "name": "TEXTBLOB_subjectivity",
         "text": [
          "[0.0, 0.1)",
          "[0.1, 0.2)",
          "[0.2, 0.3)",
          "[0.3, 0.4)",
          "[0.4, 0.5)",
          "[0.5, 0.6)",
          "[0.6, 0.7)",
          "[0.7, 0.8)",
          "[0.8, 0.9)",
          "[0.9, 1.0]"
         ],
         "type": "bar",
         "x": [
          0.05,
          0.15000000000000002,
          0.25,
          0.35000000000000003,
          0.45,
          0.55,
          0.6500000000000001,
          0.75,
          0.8500000000000001,
          0.95
         ],
         "y": [
          18393,
          0,
          0,
          0,
          22624,
          20932,
          0,
          0,
          0,
          13047
         ]
        }
       ],
       "layout": {
        "barmode": "stack",
        "template": {
         "data": {
          "bar": [
           {
            "error_x": {
             "color": "#2a3f5f"
            },
            "error_y": {
             "color": "#2a3f5f"
            },
            "marker": {
             "line": {
              "color": "#E5ECF6",
              "width": 0.5
             },
             "pattern": {
              "fillmode": "overlay",
              "size": 10,
              "solidity": 0.2
             }
            },
            "type": "bar"
           }
          ],
          "barpolar": [
           {
            "marker": {
             "line": {
              "color": "#E5ECF6",
              "width": 0.5
             },
             "pattern": {
              "fillmode": "overlay",
              "size": 10,
              "solidity": 0.2
             }
            },
            "type": "barpolar"
           }
          ],
          "carpet": [
           {
            "aaxis": {
             "endlinecolor": "#2a3f5f",
             "gridcolor": "white",
             "linecolor": "white",
             "minorgridcolor": "white",
             "startlinecolor": "#2a3f5f"
            },
            "baxis": {
             "endlinecolor": "#2a3f5f",
             "gridcolor": "white",
             "linecolor": "white",
             "minorgridcolor": "white",
             "startlinecolor": "#2a3f5f"
            },
            "type": "carpet"
           }
          ],
          "choropleth": [
           {
            "colorbar": {
             "outlinewidth": 0,
             "ticks": ""
            },
            "type": "choropleth"
           }
          ],
          "contour": [
           {
            "colorbar": {
             "outlinewidth": 0,
             "ticks": ""
            },
            "colorscale": [
             [
              0,
              "#0d0887"
             ],
             [
              0.1111111111111111,
              "#46039f"
             ],
             [
              0.2222222222222222,
              "#7201a8"
             ],
             [
              0.3333333333333333,
              "#9c179e"
             ],
             [
              0.4444444444444444,
              "#bd3786"
             ],
             [
              0.5555555555555556,
              "#d8576b"
             ],
             [
              0.6666666666666666,
              "#ed7953"
             ],
             [
              0.7777777777777778,
              "#fb9f3a"
             ],
             [
              0.8888888888888888,
              "#fdca26"
             ],
             [
              1,
              "#f0f921"
             ]
            ],
            "type": "contour"
           }
          ],
          "contourcarpet": [
           {
            "colorbar": {
             "outlinewidth": 0,
             "ticks": ""
            },
            "type": "contourcarpet"
           }
          ],
          "heatmap": [
           {
            "colorbar": {
             "outlinewidth": 0,
             "ticks": ""
            },
            "colorscale": [
             [
              0,
              "#0d0887"
             ],
             [
              0.1111111111111111,
              "#46039f"
             ],
             [
              0.2222222222222222,
              "#7201a8"
             ],
             [
              0.3333333333333333,
              "#9c179e"
             ],
             [
              0.4444444444444444,
              "#bd3786"
             ],
             [
              0.5555555555555556,
              "#d8576b"
             ],
             [
              0.6666666666666666,
              "#ed7953"
             ],
             [
              0.7777777777777778,
              "#fb9f3a"
             ],
             [
              0.8888888888888888,
              "#fdca26"
             ],
             [
              1,
              "#f0f921"
             ]
            ],
            "type": "heatmap"
           }
          ],
          "heatmapgl": [
           {
            "colorbar": {
             "outlinewidth": 0,
             "ticks": ""
            },
            "colorscale": [
             [
              0,
              "#0d0887"
             ],
             [
              0.1111111111111111,
              "#46039f"
             ],
             [
              0.2222222222222222,
              "#7201a8"
             ],
             [
              0.3333333333333333,
              "#9c179e"
             ],
             [
              0.4444444444444444,
              "#bd3786"
             ],
             [
              0.5555555555555556,
              "#d8576b"
             ],
             [
              0.6666666666666666,
              "#ed7953"
             ],
             [
              0.7777777777777778,
              "#fb9f3a"
             ],
             [
              0.8888888888888888,
              "#fdca26"
             ],
             [
              1,
              "#f0f921"
             ]
            ],
            "type": "heatmapgl"
           }
          ],
          "histogram": [
           {
            "marker": {
             "pattern": {
              "fillmode": "overlay",
              "size": 10,
              "solidity": 0.2
             }
            },
            "type": "histogram"
           }
          ],
          "histogram2d": [
           {
            "colorbar": {
             "outlinewidth": 0,
             "ticks": ""
            },
            "colorscale": [
             [
              0,
              "#0d0887"
             ],
             [
              0.1111111111111111,
              "#46039f"
             ],
             [
              0.2222222222222222,
              "#7201a8"
             ],
             [
              0.3333333333333333,
              "#9c179e"
             ],
             [
              0.4444444444444444,
              "#bd3786"
             ],
             [
              0.5555555555555556,
              "#d8576b"
             ],
             [
              0.6666666666666666,
              "#ed7953"
             ],
             [
              0.7777777777777778,
              "#fb9f3a"
             ],
             [
              0.8888888888888888,
              "#fdca26"
             ],
             [
              1,
              "#f0f921"
             ]
            ],
            "type": "histogram2d"
           }
          ],
          "histogram2dcontour": [
           {
            "colorbar": {
             "outlinewidth": 0,
             "ticks": ""
            },
            "colorscale": [
             [
              0,
              "#0d0887"
             ],
             [
              0.1111111111111111,
              "#46039f"
             ],
             [
              0.2222222222222222,
              "#7201a8"
             ],
             [
              0.3333333333333333,
              "#9c179e"
             ],
             [
              0.4444444444444444,
              "#bd3786"
             ],
             [
              0.5555555555555556,
              "#d8576b"
             ],
             [
              0.6666666666666666,
              "#ed7953"
             ],
             [
              0.7777777777777778,
              "#fb9f3a"
             ],
             [
              0.8888888888888888,
              "#fdca26"
             ],
             [
              1,
              "#f0f921"
             ]
            ],
            "type": "histogram2dcontour"
           }
          ],
          "mesh3d": [
           {
            "colorbar": {
             "outlinewidth": 0,
             "ticks": ""
            },
            "type": "mesh3d"
           }
          ],
          "parcoords": [
           {
            "line": {
             "colorbar": {
              "outlinewidth": 0,
              "ticks": ""
             }
            },
            "type": "parcoords"
           }
          ],
          "pie": [
           {
            "automargin": true,
            "type": "pie"
           }
          ],
          "scatter": [
           {
            "fillpattern": {
             "fillmode": "overlay",
             "size": 10,
             "solidity": 0.2
            },
            "type": "scatter"
           }
          ],
          "scatter3d": [
           {
            "line": {
             "colorbar": {
              "outlinewidth": 0,
              "ticks": ""
             }
            },
            "marker": {
             "colorbar": {
              "outlinewidth": 0,
              "ticks": ""
             }
            },
            "type": "scatter3d"
           }
          ],
          "scattercarpet": [
           {
            "marker": {
             "colorbar": {
              "outlinewidth": 0,
              "ticks": ""
             }
            },
            "type": "scattercarpet"
           }
          ],
          "scattergeo": [
           {
            "marker": {
             "colorbar": {
              "outlinewidth": 0,
              "ticks": ""
             }
            },
            "type": "scattergeo"
           }
          ],
          "scattergl": [
           {
            "marker": {
             "colorbar": {
              "outlinewidth": 0,
              "ticks": ""
             }
            },
            "type": "scattergl"
           }
          ],
          "scattermapbox": [
           {
            "marker": {
             "colorbar": {
              "outlinewidth": 0,
              "ticks": ""
             }
            },
            "type": "scattermapbox"
           }
          ],
          "scatterpolar": [
           {
            "marker": {
             "colorbar": {
              "outlinewidth": 0,
              "ticks": ""
             }
            },
            "type": "scatterpolar"
           }
          ],
          "scatterpolargl": [
           {
            "marker": {
             "colorbar": {
              "outlinewidth": 0,
              "ticks": ""
             }
            },
            "type": "scatterpolargl"
           }
          ],
          "scatterternary": [
           {
            "marker": {
             "colorbar": {
              "outlinewidth": 0,
              "ticks": ""
             }
            },
            "type": "scatterternary"
           }
          ],
          "surface": [
           {
            "colorbar": {
             "outlinewidth": 0,
             "ticks": ""
            },
            "colorscale": [
             [
              0,
              "#0d0887"
             ],
             [
              0.1111111111111111,
              "#46039f"
             ],
             [
              0.2222222222222222,
              "#7201a8"
             ],
             [
              0.3333333333333333,
              "#9c179e"
             ],
             [
              0.4444444444444444,
              "#bd3786"
             ],
             [
              0.5555555555555556,
              "#d8576b"
             ],
             [
              0.6666666666666666,
              "#ed7953"
             ],
             [
              0.7777777777777778,
              "#fb9f3a"
             ],
             [
              0.8888888888888888,
              "#fdca26"
             ],
             [
              1,
              "#f0f921"
             ]
            ],
            "type": "surface"
           }
          ],
          "table": [
           {
            "cells": {
             "fill": {
              "color": "#EBF0F8"
             },
             "line": {
              "color": "white"
             }
            },
            "header": {
             "fill": {
              "color": "#C8D4E3"
             },
             "line": {
              "color": "white"
             }
            },
            "type": "table"
           }
          ]
         },
         "layout": {
          "annotationdefaults": {
           "arrowcolor": "#2a3f5f",
           "arrowhead": 0,
           "arrowwidth": 1
          },
          "autotypenumbers": "strict",
          "coloraxis": {
           "colorbar": {
            "outlinewidth": 0,
            "ticks": ""
           }
          },
          "colorscale": {
           "diverging": [
            [
             0,
             "#8e0152"
            ],
            [
             0.1,
             "#c51b7d"
            ],
            [
             0.2,
             "#de77ae"
            ],
            [
             0.3,
             "#f1b6da"
            ],
            [
             0.4,
             "#fde0ef"
            ],
            [
             0.5,
             "#f7f7f7"
            ],
            [
             0.6,
             "#e6f5d0"
            ],
            [
             0.7,
             "#b8e186"
            ],
            [
             0.8,
             "#7fbc41"
            ],
            [
             0.9,
             "#4d9221"
            ],
            [
             1,
             "#276419"
            ]
           ],
           "sequential": [
            [
             0,
             "#0d0887"
            ],
            [
             0.1111111111111111,
             "#46039f"
            ],
            [
             0.2222222222222222,
             "#7201a8"
            ],
            [
             0.3333333333333333,
             "#9c179e"
            ],
            [
             0.4444444444444444,
             "#bd3786"
            ],
            [
             0.5555555555555556,
             "#d8576b"
            ],
            [
             0.6666666666666666,
             "#ed7953"
            ],
            [
             0.7777777777777778,
             "#fb9f3a"
            ],
            [
             0.8888888888888888,
             "#fdca26"
            ],
            [
             1,
             "#f0f921"
            ]
           ],
           "sequentialminus": [
            [
             0,
             "#0d0887"
            ],
            [
             0.1111111111111111,
             "#46039f"
            ],
            [
             0.2222222222222222,
             "#7201a8"
            ],
            [
             0.3333333333333333,
             "#9c179e"
            ],
            [
             0.4444444444444444,
             "#bd3786"
            ],
            [
             0.5555555555555556,
             "#d8576b"
            ],
            [
             0.6666666666666666,
             "#ed7953"
            ],
            [
             0.7777777777777778,
             "#fb9f3a"
            ],
            [
             0.8888888888888888,
             "#fdca26"
            ],
            [
             1,
             "#f0f921"
            ]
           ]
          },
          "colorway": [
           "#636efa",
           "#EF553B",
           "#00cc96",
           "#ab63fa",
           "#FFA15A",
           "#19d3f3",
           "#FF6692",
           "#B6E880",
           "#FF97FF",
           "#FECB52"
          ],
          "font": {
           "color": "#2a3f5f"
          },
          "geo": {
           "bgcolor": "white",
           "lakecolor": "white",
           "landcolor": "#E5ECF6",
           "showlakes": true,
           "showland": true,
           "subunitcolor": "white"
          },
          "hoverlabel": {
           "align": "left"
          },
          "hovermode": "closest",
          "mapbox": {
           "style": "light"
          },
          "paper_bgcolor": "white",
          "plot_bgcolor": "#E5ECF6",
          "polar": {
           "angularaxis": {
            "gridcolor": "white",
            "linecolor": "white",
            "ticks": ""
           },
           "bgcolor": "#E5ECF6",
           "radialaxis": {
            "gridcolor": "white",
            "linecolor": "white",
            "ticks": ""
           }
          },
          "scene": {
           "xaxis": {
            "backgroundcolor": "#E5ECF6",
            "gridcolor": "white",
            "gridwidth": 2,
            "linecolor": "white",
            "showbackground": true,
            "ticks": "",
            "zerolinecolor": "white"
           },
           "yaxis": {
            "backgroundcolor": "#E5ECF6",
            "gridcolor": "white",
            "gridwidth": 2,
            "linecolor": "white",
            "showbackground": true,
            "ticks": "",
            "zerolinecolor": "white"
           },
           "zaxis": {
            "backgroundcolor": "#E5ECF6",
            "gridcolor": "white",
            "gridwidth": 2,
            "linecolor": "white",
            "showbackground": true,
            "ticks": "",
            "zerolinecolor": "white"
           }
          },
          "shapedefaults": {
           "line": {
            "color": "#2a3f5f"
           }
          },
          "ternary": {
           "aaxis": {
            "gridcolor": "white",
            "linecolor": "white",
            "ticks": ""
           },
           "baxis": {
            "gridcolor": "white",
            "linecolor": "white",
            "ticks": ""
           },
           "bgcolor": "#E5ECF6",
           "caxis": {
            "gridcolor": "white",
            "linecolor": "white",
            "ticks": ""
           }
          },
          "title": {
           "x": 0.05
          },
          "xaxis": {
           "automargin": true,
           "gridcolor": "white",
           "linecolor": "white",
           "ticks": "",
           "title": {
            "standoff": 15
           },
           "zerolinecolor": "white",
           "zerolinewidth": 2
          },
          "yaxis": {
           "automargin": true,
           "gridcolor": "white",
           "linecolor": "white",
           "ticks": "",
           "title": {
            "standoff": 15
           },
           "zerolinecolor": "white",
           "zerolinewidth": 2
          }
         }
        },
        "xaxis": {
         "title": {
          "text": "value"
         }
        },
        "yaxis": {
         "title": {
          "text": "count"
         }
        }
       }
      }
     },
     "metadata": {},
     "output_type": "display_data"
    }
   ],
   "source": [
    "df[\"TEXTBLOB_subjectivity\"].hist()"
   ]
  },
  {
   "cell_type": "markdown",
   "metadata": {},
   "source": [
    "Subjectivity can be used to find tweets in which the user has expressed their personal feelings as shown below"
   ]
  },
  {
   "cell_type": "code",
   "execution_count": 46,
   "metadata": {},
   "outputs": [
    {
     "name": "stderr",
     "output_type": "stream",
     "text": [
      "/home/ghost/.cache/pypoetry/virtualenvs/socialmedia-2tHBEbUS-py3.10/lib/python3.10/site-packages/pyspark/pandas/utils.py:975: PandasAPIOnSparkAdviceWarning:\n",
      "\n",
      "`to_numpy` loads all data into the driver's memory. It should only be used if the resulting NumPy ndarray is expected to be small.\n",
      "\n",
      "/home/ghost/.cache/pypoetry/virtualenvs/socialmedia-2tHBEbUS-py3.10/lib/python3.10/site-packages/pyspark/python/lib/pyspark.zip/pyspark/pandas/internal.py:1573: FutureWarning: iteritems is deprecated and will be removed in a future version. Use .items instead.\n",
      "/home/ghost/.cache/pypoetry/virtualenvs/socialmedia-2tHBEbUS-py3.10/lib/python3.10/site-packages/pyspark/python/lib/pyspark.zip/pyspark/pandas/internal.py:1573: FutureWarning: iteritems is deprecated and will be removed in a future version. Use .items instead.\n",
      "/home/ghost/.cache/pypoetry/virtualenvs/socialmedia-2tHBEbUS-py3.10/lib/python3.10/site-packages/pyspark/python/lib/pyspark.zip/pyspark/pandas/internal.py:1573: FutureWarning: iteritems is deprecated and will be removed in a future version. Use .items instead.\n",
      "/home/ghost/.cache/pypoetry/virtualenvs/socialmedia-2tHBEbUS-py3.10/lib/python3.10/site-packages/pyspark/python/lib/pyspark.zip/pyspark/pandas/internal.py:1573: FutureWarning: iteritems is deprecated and will be removed in a future version. Use .items instead.\n"
     ]
    },
    {
     "name": "stdout",
     "output_type": "stream",
     "text": [
      "How the hell are we already into Halloween month?!.\n",
      "@ UnitedHayze to have my efforts noticed; 4-way Borderlands Co-Op would be amazing! pic.facebook.com / vcgNcpMavu\n",
      "My Herney friend is also a fantastic artist.\n",
      "Friendly Dog<unk> all 3's audio is an absolute mess and any song is by is probably my favorite gag in the entire game.. youtu.be/nFwAmB-tluI\n",
      ". LIVE NOW!.. I feel like I have not streamed in vehicle problem because I have, sorry about that, more Borderlands for a bit with @ eyesofness.... Borderlands...\n"
     ]
    },
    {
     "name": "stderr",
     "output_type": "stream",
     "text": [
      "/home/ghost/.cache/pypoetry/virtualenvs/socialmedia-2tHBEbUS-py3.10/lib/python3.10/site-packages/pyspark/python/lib/pyspark.zip/pyspark/pandas/internal.py:1573: FutureWarning: iteritems is deprecated and will be removed in a future version. Use .items instead.\n",
      "/home/ghost/.cache/pypoetry/virtualenvs/socialmedia-2tHBEbUS-py3.10/lib/python3.10/site-packages/pyspark/python/lib/pyspark.zip/pyspark/pandas/internal.py:1573: FutureWarning: iteritems is deprecated and will be removed in a future version. Use .items instead.\n",
      "                                                                                \r"
     ]
    }
   ],
   "source": [
    "for tweet in df[df[\"TEXTBLOB_subjectivity\"]>0.5].sample(frac=0.01).head()[\"Tweet_Content\"].to_numpy():\n",
    "    print(tweet)"
   ]
  },
  {
   "cell_type": "markdown",
   "metadata": {},
   "source": [
    "Or tweets can  be filtered on the basis of how objective they are as shown below"
   ]
  },
  {
   "cell_type": "code",
   "execution_count": 47,
   "metadata": {},
   "outputs": [
    {
     "name": "stderr",
     "output_type": "stream",
     "text": [
      "/home/ghost/.cache/pypoetry/virtualenvs/socialmedia-2tHBEbUS-py3.10/lib/python3.10/site-packages/pyspark/pandas/utils.py:975: PandasAPIOnSparkAdviceWarning:\n",
      "\n",
      "`to_numpy` loads all data into the driver's memory. It should only be used if the resulting NumPy ndarray is expected to be small.\n",
      "\n",
      "/home/ghost/.cache/pypoetry/virtualenvs/socialmedia-2tHBEbUS-py3.10/lib/python3.10/site-packages/pyspark/python/lib/pyspark.zip/pyspark/pandas/internal.py:1573: FutureWarning: iteritems is deprecated and will be removed in a future version. Use .items instead.\n",
      "/home/ghost/.cache/pypoetry/virtualenvs/socialmedia-2tHBEbUS-py3.10/lib/python3.10/site-packages/pyspark/python/lib/pyspark.zip/pyspark/pandas/internal.py:1573: FutureWarning: iteritems is deprecated and will be removed in a future version. Use .items instead.\n",
      "/home/ghost/.cache/pypoetry/virtualenvs/socialmedia-2tHBEbUS-py3.10/lib/python3.10/site-packages/pyspark/python/lib/pyspark.zip/pyspark/pandas/internal.py:1573: FutureWarning: iteritems is deprecated and will be removed in a future version. Use .items instead.\n",
      "/home/ghost/.cache/pypoetry/virtualenvs/socialmedia-2tHBEbUS-py3.10/lib/python3.10/site-packages/pyspark/python/lib/pyspark.zip/pyspark/pandas/internal.py:1573: FutureWarning: iteritems is deprecated and will be removed in a future version. Use .items instead.\n"
     ]
    },
    {
     "name": "stdout",
     "output_type": "stream",
     "text": [
      "I hate that this easy mayhem modifier event on mayhem won't last forever. this is the most fun i've had in the game since they added them horrible modifiers. @ Borderlands please give me the option to play mayhem 10 but turn the modifiers off PLS\n",
      "Elie to direct 'The Frontier' film\n",
      "<unk><unk> was directing its ‘Borderlands’ movie engadget.com/2020/02/20/eli...\n",
      "Ok, so for every major advancement I see in Borderlands 3 there's a minor annoyance. Not bad per se but just there are things I hate. Like the characterization of side characters.\n",
      "@Borderlands Can we please fix the lag, audio issues, and crashes on PS4 after the update. It is VERY hard to play with 10 fps or less. Don't want this limited Cartel to run out and not be able to play properly. Also, MENUS! Fix the MENU LAG! Please!\n"
     ]
    },
    {
     "name": "stderr",
     "output_type": "stream",
     "text": [
      "/home/ghost/.cache/pypoetry/virtualenvs/socialmedia-2tHBEbUS-py3.10/lib/python3.10/site-packages/pyspark/python/lib/pyspark.zip/pyspark/pandas/internal.py:1573: FutureWarning: iteritems is deprecated and will be removed in a future version. Use .items instead.\n",
      "/home/ghost/.cache/pypoetry/virtualenvs/socialmedia-2tHBEbUS-py3.10/lib/python3.10/site-packages/pyspark/python/lib/pyspark.zip/pyspark/pandas/internal.py:1573: FutureWarning: iteritems is deprecated and will be removed in a future version. Use .items instead.\n",
      "                                                                                \r"
     ]
    }
   ],
   "source": [
    "for tweet in df[df[\"TEXTBLOB_subjectivity\"]<0.5].sample(frac=0.01).head()[\"Tweet_Content\"].to_numpy():\n",
    "    print(tweet)"
   ]
  },
  {
   "cell_type": "markdown",
   "metadata": {},
   "source": [
    "The cut for subjectivity can be reduced even further to filter more objective tweets"
   ]
  },
  {
   "cell_type": "code",
   "execution_count": 48,
   "metadata": {},
   "outputs": [
    {
     "name": "stderr",
     "output_type": "stream",
     "text": [
      "/home/ghost/.cache/pypoetry/virtualenvs/socialmedia-2tHBEbUS-py3.10/lib/python3.10/site-packages/pyspark/pandas/utils.py:975: PandasAPIOnSparkAdviceWarning:\n",
      "\n",
      "`to_numpy` loads all data into the driver's memory. It should only be used if the resulting NumPy ndarray is expected to be small.\n",
      "\n",
      "/home/ghost/.cache/pypoetry/virtualenvs/socialmedia-2tHBEbUS-py3.10/lib/python3.10/site-packages/pyspark/python/lib/pyspark.zip/pyspark/pandas/internal.py:1573: FutureWarning: iteritems is deprecated and will be removed in a future version. Use .items instead.\n",
      "/home/ghost/.cache/pypoetry/virtualenvs/socialmedia-2tHBEbUS-py3.10/lib/python3.10/site-packages/pyspark/python/lib/pyspark.zip/pyspark/pandas/internal.py:1573: FutureWarning: iteritems is deprecated and will be removed in a future version. Use .items instead.\n",
      "/home/ghost/.cache/pypoetry/virtualenvs/socialmedia-2tHBEbUS-py3.10/lib/python3.10/site-packages/pyspark/python/lib/pyspark.zip/pyspark/pandas/internal.py:1573: FutureWarning: iteritems is deprecated and will be removed in a future version. Use .items instead.\n",
      "/home/ghost/.cache/pypoetry/virtualenvs/socialmedia-2tHBEbUS-py3.10/lib/python3.10/site-packages/pyspark/python/lib/pyspark.zip/pyspark/pandas/internal.py:1573: FutureWarning: iteritems is deprecated and will be removed in a future version. Use .items instead.\n"
     ]
    },
    {
     "name": "stdout",
     "output_type": "stream",
     "text": [
      "1 Morning~!!. I'm split on playing PSO2 or Borderlands 3 for todays stream. 🤔. Either way a stream today is happening and I'm excited to hang out nonetheless!!. Hope your weekend was well. .  :3 pic.twitter.com/X0CrvuK8Pq\n",
      "That would be a fantastic casting, but somehow it doesn't alleviate my sense of dread a bit.\n",
      "This would be an amazing casting, and yet somehow, it doesn't ease my impending sense of that one thing.\n",
      "Xbox One Anointed Trained Ripper Consecutive Hits 1% LVL50 OP Borderlands 3 dlvr.it/RMdFZP  \n",
      "When I have completed my combat pass and the officer rank is a challenge every season,\n"
     ]
    },
    {
     "name": "stderr",
     "output_type": "stream",
     "text": [
      "/home/ghost/.cache/pypoetry/virtualenvs/socialmedia-2tHBEbUS-py3.10/lib/python3.10/site-packages/pyspark/python/lib/pyspark.zip/pyspark/pandas/internal.py:1573: FutureWarning: iteritems is deprecated and will be removed in a future version. Use .items instead.\n",
      "/home/ghost/.cache/pypoetry/virtualenvs/socialmedia-2tHBEbUS-py3.10/lib/python3.10/site-packages/pyspark/python/lib/pyspark.zip/pyspark/pandas/internal.py:1573: FutureWarning: iteritems is deprecated and will be removed in a future version. Use .items instead.\n",
      "                                                                                \r"
     ]
    }
   ],
   "source": [
    "for tweet in df[df[\"TEXTBLOB_subjectivity\"]<0.1].sample(frac=0.01).head()[\"Tweet_Content\"].to_numpy():\n",
    "    print(tweet)"
   ]
  },
  {
   "cell_type": "markdown",
   "metadata": {},
   "source": [
    "Objective tweets can also be filtered for a specific entity as shown below"
   ]
  },
  {
   "cell_type": "code",
   "execution_count": 53,
   "metadata": {},
   "outputs": [
    {
     "name": "stderr",
     "output_type": "stream",
     "text": [
      "/home/ghost/.cache/pypoetry/virtualenvs/socialmedia-2tHBEbUS-py3.10/lib/python3.10/site-packages/pyspark/pandas/utils.py:975: PandasAPIOnSparkAdviceWarning:\n",
      "\n",
      "`to_numpy` loads all data into the driver's memory. It should only be used if the resulting NumPy ndarray is expected to be small.\n",
      "\n",
      "/home/ghost/.cache/pypoetry/virtualenvs/socialmedia-2tHBEbUS-py3.10/lib/python3.10/site-packages/pyspark/python/lib/pyspark.zip/pyspark/pandas/internal.py:1573: FutureWarning: iteritems is deprecated and will be removed in a future version. Use .items instead.\n",
      "/home/ghost/.cache/pypoetry/virtualenvs/socialmedia-2tHBEbUS-py3.10/lib/python3.10/site-packages/pyspark/python/lib/pyspark.zip/pyspark/pandas/internal.py:1573: FutureWarning: iteritems is deprecated and will be removed in a future version. Use .items instead.\n",
      "/home/ghost/.cache/pypoetry/virtualenvs/socialmedia-2tHBEbUS-py3.10/lib/python3.10/site-packages/pyspark/python/lib/pyspark.zip/pyspark/pandas/internal.py:1573: FutureWarning: iteritems is deprecated and will be removed in a future version. Use .items instead.\n",
      "/home/ghost/.cache/pypoetry/virtualenvs/socialmedia-2tHBEbUS-py3.10/lib/python3.10/site-packages/pyspark/python/lib/pyspark.zip/pyspark/pandas/internal.py:1573: FutureWarning: iteritems is deprecated and will be removed in a future version. Use .items instead.\n",
      "[Stage 96:=============================>                            (2 + 2) / 4]\r"
     ]
    },
    {
     "name": "stdout",
     "output_type": "stream",
     "text": [
      "Tweet for Entity: Amazon\n",
      "Amazon's top-of-the-line Kindle is on sale for 30% more for a limited week. 1.today.com/3lMEXiR\n",
      "Tweet for Entity: Amazon\n",
      "Amazon has the newest, coolest Tile trackers on sale for up to 24% off dlvr.it/RRXj4Z\n",
      "Tweet for Entity: Amazon\n",
      "@Bladebattler92 Thanks for entering Grand Summoners  . . Watch the video to see if you won a $100 Amazon gift card! . Retweet everyday for another chance to win!. . . Play now for a FREE . 5 Yu Yu Hakusho Unit! .  https://t.co/z1TA7G1hbR\n",
      "Tweet for Entity: Amazon\n",
      "I played this interesting quiz on at Amazon - Try your luck enough for half a chance to personally win exciting rewards in amazon. Amazon in / game / share / g2H …\n",
      "Tweet for Entity: Amazon\n",
      "RT @ richardturrin: Amazon and Goldman partners. Perfect BaaS strategy!.. thefinancialbrand.com / 92681 / marcus-g.... @ BrettKing @ leimer @ psb _ dc @ ipfconline1 @ UrsBolt @ cgledhill @ rshevlin @ thepsironi @ karunk @ spirosmargaris @ jaypalter @ jimmarous @ efipm.\n"
     ]
    },
    {
     "name": "stderr",
     "output_type": "stream",
     "text": [
      "/home/ghost/.cache/pypoetry/virtualenvs/socialmedia-2tHBEbUS-py3.10/lib/python3.10/site-packages/pyspark/python/lib/pyspark.zip/pyspark/pandas/internal.py:1573: FutureWarning: iteritems is deprecated and will be removed in a future version. Use .items instead.\n",
      "/home/ghost/.cache/pypoetry/virtualenvs/socialmedia-2tHBEbUS-py3.10/lib/python3.10/site-packages/pyspark/python/lib/pyspark.zip/pyspark/pandas/internal.py:1573: FutureWarning: iteritems is deprecated and will be removed in a future version. Use .items instead.\n",
      "                                                                                \r"
     ]
    }
   ],
   "source": [
    "entity = \"Amazon\"\n",
    "df_entity = df[df[\"Entity\"]==entity]\n",
    "for tweet in df_entity[df_entity[\"TEXTBLOB_subjectivity\"]<0.1].sample(frac=0.01).head()[\"Tweet_Content\"].to_numpy():\n",
    "    print(f\"Tweet for Entity: {entity}\")\n",
    "    print(tweet)"
   ]
  },
  {
   "cell_type": "markdown",
   "metadata": {},
   "source": [
    "A histogram showing different levels of subjectivity for a particular entity can also be plotted as shown below"
   ]
  },
  {
   "cell_type": "code",
   "execution_count": 56,
   "metadata": {},
   "outputs": [
    {
     "name": "stderr",
     "output_type": "stream",
     "text": [
      "/home/ghost/.cache/pypoetry/virtualenvs/socialmedia-2tHBEbUS-py3.10/lib/python3.10/site-packages/pyspark/python/lib/pyspark.zip/pyspark/pandas/internal.py:1573: FutureWarning: iteritems is deprecated and will be removed in a future version. Use .items instead.\n",
      "/home/ghost/.cache/pypoetry/virtualenvs/socialmedia-2tHBEbUS-py3.10/lib/python3.10/site-packages/pyspark/python/lib/pyspark.zip/pyspark/pandas/internal.py:1573: FutureWarning: iteritems is deprecated and will be removed in a future version. Use .items instead.\n",
      "/home/ghost/.cache/pypoetry/virtualenvs/socialmedia-2tHBEbUS-py3.10/lib/python3.10/site-packages/pyspark/python/lib/pyspark.zip/pyspark/pandas/internal.py:1573: FutureWarning: iteritems is deprecated and will be removed in a future version. Use .items instead.\n",
      "/home/ghost/.cache/pypoetry/virtualenvs/socialmedia-2tHBEbUS-py3.10/lib/python3.10/site-packages/pyspark/python/lib/pyspark.zip/pyspark/pandas/internal.py:1573: FutureWarning: iteritems is deprecated and will be removed in a future version. Use .items instead.\n",
      "/home/ghost/.cache/pypoetry/virtualenvs/socialmedia-2tHBEbUS-py3.10/lib/python3.10/site-packages/pyspark/python/lib/pyspark.zip/pyspark/pandas/internal.py:1573: FutureWarning: iteritems is deprecated and will be removed in a future version. Use .items instead.\n",
      "/home/ghost/.cache/pypoetry/virtualenvs/socialmedia-2tHBEbUS-py3.10/lib/python3.10/site-packages/pyspark/python/lib/pyspark.zip/pyspark/pandas/internal.py:1573: FutureWarning: iteritems is deprecated and will be removed in a future version. Use .items instead.\n",
      "/home/ghost/.cache/pypoetry/virtualenvs/socialmedia-2tHBEbUS-py3.10/lib/python3.10/site-packages/pyspark/python/lib/pyspark.zip/pyspark/pandas/internal.py:1573: FutureWarning: iteritems is deprecated and will be removed in a future version. Use .items instead.\n",
      "/home/ghost/.cache/pypoetry/virtualenvs/socialmedia-2tHBEbUS-py3.10/lib/python3.10/site-packages/pyspark/python/lib/pyspark.zip/pyspark/pandas/internal.py:1573: FutureWarning: iteritems is deprecated and will be removed in a future version. Use .items instead.\n",
      "/home/ghost/.cache/pypoetry/virtualenvs/socialmedia-2tHBEbUS-py3.10/lib/python3.10/site-packages/pyspark/python/lib/pyspark.zip/pyspark/pandas/internal.py:1573: FutureWarning: iteritems is deprecated and will be removed in a future version. Use .items instead.\n",
      "/home/ghost/.cache/pypoetry/virtualenvs/socialmedia-2tHBEbUS-py3.10/lib/python3.10/site-packages/pyspark/python/lib/pyspark.zip/pyspark/pandas/internal.py:1573: FutureWarning: iteritems is deprecated and will be removed in a future version. Use .items instead.\n",
      "/home/ghost/.cache/pypoetry/virtualenvs/socialmedia-2tHBEbUS-py3.10/lib/python3.10/site-packages/pyspark/python/lib/pyspark.zip/pyspark/pandas/internal.py:1573: FutureWarning: iteritems is deprecated and will be removed in a future version. Use .items instead.\n",
      "/home/ghost/.cache/pypoetry/virtualenvs/socialmedia-2tHBEbUS-py3.10/lib/python3.10/site-packages/pyspark/python/lib/pyspark.zip/pyspark/pandas/internal.py:1573: FutureWarning: iteritems is deprecated and will be removed in a future version. Use .items instead.\n",
      "/home/ghost/.cache/pypoetry/virtualenvs/socialmedia-2tHBEbUS-py3.10/lib/python3.10/site-packages/pyspark/python/lib/pyspark.zip/pyspark/pandas/internal.py:1573: FutureWarning: iteritems is deprecated and will be removed in a future version. Use .items instead.\n",
      "/home/ghost/.cache/pypoetry/virtualenvs/socialmedia-2tHBEbUS-py3.10/lib/python3.10/site-packages/pyspark/python/lib/pyspark.zip/pyspark/pandas/internal.py:1573: FutureWarning: iteritems is deprecated and will be removed in a future version. Use .items instead.\n",
      "/home/ghost/.cache/pypoetry/virtualenvs/socialmedia-2tHBEbUS-py3.10/lib/python3.10/site-packages/pyspark/python/lib/pyspark.zip/pyspark/pandas/internal.py:1573: FutureWarning: iteritems is deprecated and will be removed in a future version. Use .items instead.\n",
      "/home/ghost/.cache/pypoetry/virtualenvs/socialmedia-2tHBEbUS-py3.10/lib/python3.10/site-packages/pyspark/python/lib/pyspark.zip/pyspark/pandas/internal.py:1573: FutureWarning: iteritems is deprecated and will be removed in a future version. Use .items instead.\n",
      "/home/ghost/.cache/pypoetry/virtualenvs/socialmedia-2tHBEbUS-py3.10/lib/python3.10/site-packages/pyspark/python/lib/pyspark.zip/pyspark/pandas/internal.py:1573: FutureWarning: iteritems is deprecated and will be removed in a future version. Use .items instead.\n",
      "/home/ghost/.cache/pypoetry/virtualenvs/socialmedia-2tHBEbUS-py3.10/lib/python3.10/site-packages/pyspark/python/lib/pyspark.zip/pyspark/pandas/internal.py:1573: FutureWarning: iteritems is deprecated and will be removed in a future version. Use .items instead.\n",
      "/home/ghost/.cache/pypoetry/virtualenvs/socialmedia-2tHBEbUS-py3.10/lib/python3.10/site-packages/pyspark/python/lib/pyspark.zip/pyspark/pandas/internal.py:1573: FutureWarning: iteritems is deprecated and will be removed in a future version. Use .items instead.\n",
      "/home/ghost/.cache/pypoetry/virtualenvs/socialmedia-2tHBEbUS-py3.10/lib/python3.10/site-packages/pyspark/python/lib/pyspark.zip/pyspark/pandas/internal.py:1573: FutureWarning: iteritems is deprecated and will be removed in a future version. Use .items instead.\n",
      "/home/ghost/.cache/pypoetry/virtualenvs/socialmedia-2tHBEbUS-py3.10/lib/python3.10/site-packages/pyspark/python/lib/pyspark.zip/pyspark/pandas/internal.py:1573: FutureWarning: iteritems is deprecated and will be removed in a future version. Use .items instead.\n",
      "/home/ghost/.cache/pypoetry/virtualenvs/socialmedia-2tHBEbUS-py3.10/lib/python3.10/site-packages/pyspark/python/lib/pyspark.zip/pyspark/pandas/internal.py:1573: FutureWarning: iteritems is deprecated and will be removed in a future version. Use .items instead.\n",
      "/home/ghost/.cache/pypoetry/virtualenvs/socialmedia-2tHBEbUS-py3.10/lib/python3.10/site-packages/pyspark/python/lib/pyspark.zip/pyspark/pandas/internal.py:1573: FutureWarning: iteritems is deprecated and will be removed in a future version. Use .items instead.\n",
      "/home/ghost/.cache/pypoetry/virtualenvs/socialmedia-2tHBEbUS-py3.10/lib/python3.10/site-packages/pyspark/python/lib/pyspark.zip/pyspark/pandas/internal.py:1573: FutureWarning: iteritems is deprecated and will be removed in a future version. Use .items instead.\n",
      "/home/ghost/.cache/pypoetry/virtualenvs/socialmedia-2tHBEbUS-py3.10/lib/python3.10/site-packages/pyspark/python/lib/pyspark.zip/pyspark/pandas/internal.py:1573: FutureWarning: iteritems is deprecated and will be removed in a future version. Use .items instead.\n",
      "/home/ghost/.cache/pypoetry/virtualenvs/socialmedia-2tHBEbUS-py3.10/lib/python3.10/site-packages/pyspark/python/lib/pyspark.zip/pyspark/pandas/internal.py:1573: FutureWarning: iteritems is deprecated and will be removed in a future version. Use .items instead.\n",
      "/home/ghost/.cache/pypoetry/virtualenvs/socialmedia-2tHBEbUS-py3.10/lib/python3.10/site-packages/pyspark/python/lib/pyspark.zip/pyspark/pandas/internal.py:1573: FutureWarning: iteritems is deprecated and will be removed in a future version. Use .items instead.\n",
      "/home/ghost/.cache/pypoetry/virtualenvs/socialmedia-2tHBEbUS-py3.10/lib/python3.10/site-packages/pyspark/python/lib/pyspark.zip/pyspark/pandas/internal.py:1573: FutureWarning: iteritems is deprecated and will be removed in a future version. Use .items instead.\n",
      "/home/ghost/.cache/pypoetry/virtualenvs/socialmedia-2tHBEbUS-py3.10/lib/python3.10/site-packages/pyspark/python/lib/pyspark.zip/pyspark/pandas/internal.py:1573: FutureWarning: iteritems is deprecated and will be removed in a future version. Use .items instead.\n",
      "/home/ghost/.cache/pypoetry/virtualenvs/socialmedia-2tHBEbUS-py3.10/lib/python3.10/site-packages/pyspark/python/lib/pyspark.zip/pyspark/pandas/internal.py:1573: FutureWarning: iteritems is deprecated and will be removed in a future version. Use .items instead.\n",
      "/home/ghost/.cache/pypoetry/virtualenvs/socialmedia-2tHBEbUS-py3.10/lib/python3.10/site-packages/pyspark/python/lib/pyspark.zip/pyspark/pandas/internal.py:1573: FutureWarning: iteritems is deprecated and will be removed in a future version. Use .items instead.\n",
      "/home/ghost/.cache/pypoetry/virtualenvs/socialmedia-2tHBEbUS-py3.10/lib/python3.10/site-packages/pyspark/python/lib/pyspark.zip/pyspark/pandas/internal.py:1573: FutureWarning: iteritems is deprecated and will be removed in a future version. Use .items instead.\n",
      "/home/ghost/.cache/pypoetry/virtualenvs/socialmedia-2tHBEbUS-py3.10/lib/python3.10/site-packages/pyspark/python/lib/pyspark.zip/pyspark/pandas/internal.py:1573: FutureWarning: iteritems is deprecated and will be removed in a future version. Use .items instead.\n",
      "/home/ghost/.cache/pypoetry/virtualenvs/socialmedia-2tHBEbUS-py3.10/lib/python3.10/site-packages/pyspark/python/lib/pyspark.zip/pyspark/pandas/internal.py:1573: FutureWarning: iteritems is deprecated and will be removed in a future version. Use .items instead.\n",
      "/home/ghost/.cache/pypoetry/virtualenvs/socialmedia-2tHBEbUS-py3.10/lib/python3.10/site-packages/pyspark/python/lib/pyspark.zip/pyspark/pandas/internal.py:1573: FutureWarning: iteritems is deprecated and will be removed in a future version. Use .items instead.\n",
      "/home/ghost/.cache/pypoetry/virtualenvs/socialmedia-2tHBEbUS-py3.10/lib/python3.10/site-packages/pyspark/python/lib/pyspark.zip/pyspark/pandas/internal.py:1573: FutureWarning: iteritems is deprecated and will be removed in a future version. Use .items instead.\n",
      "/home/ghost/.cache/pypoetry/virtualenvs/socialmedia-2tHBEbUS-py3.10/lib/python3.10/site-packages/pyspark/python/lib/pyspark.zip/pyspark/pandas/internal.py:1573: FutureWarning: iteritems is deprecated and will be removed in a future version. Use .items instead.\n",
      "/home/ghost/.cache/pypoetry/virtualenvs/socialmedia-2tHBEbUS-py3.10/lib/python3.10/site-packages/pyspark/python/lib/pyspark.zip/pyspark/pandas/internal.py:1573: FutureWarning: iteritems is deprecated and will be removed in a future version. Use .items instead.\n",
      "/home/ghost/.cache/pypoetry/virtualenvs/socialmedia-2tHBEbUS-py3.10/lib/python3.10/site-packages/pyspark/python/lib/pyspark.zip/pyspark/pandas/internal.py:1573: FutureWarning: iteritems is deprecated and will be removed in a future version. Use .items instead.\n",
      "/home/ghost/.cache/pypoetry/virtualenvs/socialmedia-2tHBEbUS-py3.10/lib/python3.10/site-packages/pyspark/python/lib/pyspark.zip/pyspark/pandas/internal.py:1573: FutureWarning: iteritems is deprecated and will be removed in a future version. Use .items instead.\n",
      "/home/ghost/.cache/pypoetry/virtualenvs/socialmedia-2tHBEbUS-py3.10/lib/python3.10/site-packages/pyspark/python/lib/pyspark.zip/pyspark/pandas/internal.py:1573: FutureWarning: iteritems is deprecated and will be removed in a future version. Use .items instead.\n",
      "/home/ghost/.cache/pypoetry/virtualenvs/socialmedia-2tHBEbUS-py3.10/lib/python3.10/site-packages/pyspark/python/lib/pyspark.zip/pyspark/pandas/internal.py:1573: FutureWarning: iteritems is deprecated and will be removed in a future version. Use .items instead.\n",
      "                                                                                \r"
     ]
    },
    {
     "data": {
      "application/vnd.plotly.v1+json": {
       "config": {
        "plotlyServerURL": "https://plot.ly"
       },
       "data": [
        {
         "hovertemplate": "variable=TEXTBLOB_subjectivity<br>value=%{text}<br>count=%{y}",
         "name": "TEXTBLOB_subjectivity",
         "text": [
          "[0.0, 0.1)",
          "[0.1, 0.2)",
          "[0.2, 0.3)",
          "[0.3, 0.4)",
          "[0.4, 0.5)",
          "[0.5, 0.6)",
          "[0.6, 0.7)",
          "[0.7, 0.8)",
          "[0.8, 0.9)",
          "[0.9, 1.0]"
         ],
         "type": "bar",
         "x": [
          0.05,
          0.15000000000000002,
          0.25,
          0.35000000000000003,
          0.45,
          0.55,
          0.6500000000000001,
          0.75,
          0.8500000000000001,
          0.95
         ],
         "y": [
          1225,
          0,
          0,
          0,
          581,
          315,
          0,
          0,
          0,
          189
         ]
        }
       ],
       "layout": {
        "barmode": "stack",
        "template": {
         "data": {
          "bar": [
           {
            "error_x": {
             "color": "#2a3f5f"
            },
            "error_y": {
             "color": "#2a3f5f"
            },
            "marker": {
             "line": {
              "color": "#E5ECF6",
              "width": 0.5
             },
             "pattern": {
              "fillmode": "overlay",
              "size": 10,
              "solidity": 0.2
             }
            },
            "type": "bar"
           }
          ],
          "barpolar": [
           {
            "marker": {
             "line": {
              "color": "#E5ECF6",
              "width": 0.5
             },
             "pattern": {
              "fillmode": "overlay",
              "size": 10,
              "solidity": 0.2
             }
            },
            "type": "barpolar"
           }
          ],
          "carpet": [
           {
            "aaxis": {
             "endlinecolor": "#2a3f5f",
             "gridcolor": "white",
             "linecolor": "white",
             "minorgridcolor": "white",
             "startlinecolor": "#2a3f5f"
            },
            "baxis": {
             "endlinecolor": "#2a3f5f",
             "gridcolor": "white",
             "linecolor": "white",
             "minorgridcolor": "white",
             "startlinecolor": "#2a3f5f"
            },
            "type": "carpet"
           }
          ],
          "choropleth": [
           {
            "colorbar": {
             "outlinewidth": 0,
             "ticks": ""
            },
            "type": "choropleth"
           }
          ],
          "contour": [
           {
            "colorbar": {
             "outlinewidth": 0,
             "ticks": ""
            },
            "colorscale": [
             [
              0,
              "#0d0887"
             ],
             [
              0.1111111111111111,
              "#46039f"
             ],
             [
              0.2222222222222222,
              "#7201a8"
             ],
             [
              0.3333333333333333,
              "#9c179e"
             ],
             [
              0.4444444444444444,
              "#bd3786"
             ],
             [
              0.5555555555555556,
              "#d8576b"
             ],
             [
              0.6666666666666666,
              "#ed7953"
             ],
             [
              0.7777777777777778,
              "#fb9f3a"
             ],
             [
              0.8888888888888888,
              "#fdca26"
             ],
             [
              1,
              "#f0f921"
             ]
            ],
            "type": "contour"
           }
          ],
          "contourcarpet": [
           {
            "colorbar": {
             "outlinewidth": 0,
             "ticks": ""
            },
            "type": "contourcarpet"
           }
          ],
          "heatmap": [
           {
            "colorbar": {
             "outlinewidth": 0,
             "ticks": ""
            },
            "colorscale": [
             [
              0,
              "#0d0887"
             ],
             [
              0.1111111111111111,
              "#46039f"
             ],
             [
              0.2222222222222222,
              "#7201a8"
             ],
             [
              0.3333333333333333,
              "#9c179e"
             ],
             [
              0.4444444444444444,
              "#bd3786"
             ],
             [
              0.5555555555555556,
              "#d8576b"
             ],
             [
              0.6666666666666666,
              "#ed7953"
             ],
             [
              0.7777777777777778,
              "#fb9f3a"
             ],
             [
              0.8888888888888888,
              "#fdca26"
             ],
             [
              1,
              "#f0f921"
             ]
            ],
            "type": "heatmap"
           }
          ],
          "heatmapgl": [
           {
            "colorbar": {
             "outlinewidth": 0,
             "ticks": ""
            },
            "colorscale": [
             [
              0,
              "#0d0887"
             ],
             [
              0.1111111111111111,
              "#46039f"
             ],
             [
              0.2222222222222222,
              "#7201a8"
             ],
             [
              0.3333333333333333,
              "#9c179e"
             ],
             [
              0.4444444444444444,
              "#bd3786"
             ],
             [
              0.5555555555555556,
              "#d8576b"
             ],
             [
              0.6666666666666666,
              "#ed7953"
             ],
             [
              0.7777777777777778,
              "#fb9f3a"
             ],
             [
              0.8888888888888888,
              "#fdca26"
             ],
             [
              1,
              "#f0f921"
             ]
            ],
            "type": "heatmapgl"
           }
          ],
          "histogram": [
           {
            "marker": {
             "pattern": {
              "fillmode": "overlay",
              "size": 10,
              "solidity": 0.2
             }
            },
            "type": "histogram"
           }
          ],
          "histogram2d": [
           {
            "colorbar": {
             "outlinewidth": 0,
             "ticks": ""
            },
            "colorscale": [
             [
              0,
              "#0d0887"
             ],
             [
              0.1111111111111111,
              "#46039f"
             ],
             [
              0.2222222222222222,
              "#7201a8"
             ],
             [
              0.3333333333333333,
              "#9c179e"
             ],
             [
              0.4444444444444444,
              "#bd3786"
             ],
             [
              0.5555555555555556,
              "#d8576b"
             ],
             [
              0.6666666666666666,
              "#ed7953"
             ],
             [
              0.7777777777777778,
              "#fb9f3a"
             ],
             [
              0.8888888888888888,
              "#fdca26"
             ],
             [
              1,
              "#f0f921"
             ]
            ],
            "type": "histogram2d"
           }
          ],
          "histogram2dcontour": [
           {
            "colorbar": {
             "outlinewidth": 0,
             "ticks": ""
            },
            "colorscale": [
             [
              0,
              "#0d0887"
             ],
             [
              0.1111111111111111,
              "#46039f"
             ],
             [
              0.2222222222222222,
              "#7201a8"
             ],
             [
              0.3333333333333333,
              "#9c179e"
             ],
             [
              0.4444444444444444,
              "#bd3786"
             ],
             [
              0.5555555555555556,
              "#d8576b"
             ],
             [
              0.6666666666666666,
              "#ed7953"
             ],
             [
              0.7777777777777778,
              "#fb9f3a"
             ],
             [
              0.8888888888888888,
              "#fdca26"
             ],
             [
              1,
              "#f0f921"
             ]
            ],
            "type": "histogram2dcontour"
           }
          ],
          "mesh3d": [
           {
            "colorbar": {
             "outlinewidth": 0,
             "ticks": ""
            },
            "type": "mesh3d"
           }
          ],
          "parcoords": [
           {
            "line": {
             "colorbar": {
              "outlinewidth": 0,
              "ticks": ""
             }
            },
            "type": "parcoords"
           }
          ],
          "pie": [
           {
            "automargin": true,
            "type": "pie"
           }
          ],
          "scatter": [
           {
            "fillpattern": {
             "fillmode": "overlay",
             "size": 10,
             "solidity": 0.2
            },
            "type": "scatter"
           }
          ],
          "scatter3d": [
           {
            "line": {
             "colorbar": {
              "outlinewidth": 0,
              "ticks": ""
             }
            },
            "marker": {
             "colorbar": {
              "outlinewidth": 0,
              "ticks": ""
             }
            },
            "type": "scatter3d"
           }
          ],
          "scattercarpet": [
           {
            "marker": {
             "colorbar": {
              "outlinewidth": 0,
              "ticks": ""
             }
            },
            "type": "scattercarpet"
           }
          ],
          "scattergeo": [
           {
            "marker": {
             "colorbar": {
              "outlinewidth": 0,
              "ticks": ""
             }
            },
            "type": "scattergeo"
           }
          ],
          "scattergl": [
           {
            "marker": {
             "colorbar": {
              "outlinewidth": 0,
              "ticks": ""
             }
            },
            "type": "scattergl"
           }
          ],
          "scattermapbox": [
           {
            "marker": {
             "colorbar": {
              "outlinewidth": 0,
              "ticks": ""
             }
            },
            "type": "scattermapbox"
           }
          ],
          "scatterpolar": [
           {
            "marker": {
             "colorbar": {
              "outlinewidth": 0,
              "ticks": ""
             }
            },
            "type": "scatterpolar"
           }
          ],
          "scatterpolargl": [
           {
            "marker": {
             "colorbar": {
              "outlinewidth": 0,
              "ticks": ""
             }
            },
            "type": "scatterpolargl"
           }
          ],
          "scatterternary": [
           {
            "marker": {
             "colorbar": {
              "outlinewidth": 0,
              "ticks": ""
             }
            },
            "type": "scatterternary"
           }
          ],
          "surface": [
           {
            "colorbar": {
             "outlinewidth": 0,
             "ticks": ""
            },
            "colorscale": [
             [
              0,
              "#0d0887"
             ],
             [
              0.1111111111111111,
              "#46039f"
             ],
             [
              0.2222222222222222,
              "#7201a8"
             ],
             [
              0.3333333333333333,
              "#9c179e"
             ],
             [
              0.4444444444444444,
              "#bd3786"
             ],
             [
              0.5555555555555556,
              "#d8576b"
             ],
             [
              0.6666666666666666,
              "#ed7953"
             ],
             [
              0.7777777777777778,
              "#fb9f3a"
             ],
             [
              0.8888888888888888,
              "#fdca26"
             ],
             [
              1,
              "#f0f921"
             ]
            ],
            "type": "surface"
           }
          ],
          "table": [
           {
            "cells": {
             "fill": {
              "color": "#EBF0F8"
             },
             "line": {
              "color": "white"
             }
            },
            "header": {
             "fill": {
              "color": "#C8D4E3"
             },
             "line": {
              "color": "white"
             }
            },
            "type": "table"
           }
          ]
         },
         "layout": {
          "annotationdefaults": {
           "arrowcolor": "#2a3f5f",
           "arrowhead": 0,
           "arrowwidth": 1
          },
          "autotypenumbers": "strict",
          "coloraxis": {
           "colorbar": {
            "outlinewidth": 0,
            "ticks": ""
           }
          },
          "colorscale": {
           "diverging": [
            [
             0,
             "#8e0152"
            ],
            [
             0.1,
             "#c51b7d"
            ],
            [
             0.2,
             "#de77ae"
            ],
            [
             0.3,
             "#f1b6da"
            ],
            [
             0.4,
             "#fde0ef"
            ],
            [
             0.5,
             "#f7f7f7"
            ],
            [
             0.6,
             "#e6f5d0"
            ],
            [
             0.7,
             "#b8e186"
            ],
            [
             0.8,
             "#7fbc41"
            ],
            [
             0.9,
             "#4d9221"
            ],
            [
             1,
             "#276419"
            ]
           ],
           "sequential": [
            [
             0,
             "#0d0887"
            ],
            [
             0.1111111111111111,
             "#46039f"
            ],
            [
             0.2222222222222222,
             "#7201a8"
            ],
            [
             0.3333333333333333,
             "#9c179e"
            ],
            [
             0.4444444444444444,
             "#bd3786"
            ],
            [
             0.5555555555555556,
             "#d8576b"
            ],
            [
             0.6666666666666666,
             "#ed7953"
            ],
            [
             0.7777777777777778,
             "#fb9f3a"
            ],
            [
             0.8888888888888888,
             "#fdca26"
            ],
            [
             1,
             "#f0f921"
            ]
           ],
           "sequentialminus": [
            [
             0,
             "#0d0887"
            ],
            [
             0.1111111111111111,
             "#46039f"
            ],
            [
             0.2222222222222222,
             "#7201a8"
            ],
            [
             0.3333333333333333,
             "#9c179e"
            ],
            [
             0.4444444444444444,
             "#bd3786"
            ],
            [
             0.5555555555555556,
             "#d8576b"
            ],
            [
             0.6666666666666666,
             "#ed7953"
            ],
            [
             0.7777777777777778,
             "#fb9f3a"
            ],
            [
             0.8888888888888888,
             "#fdca26"
            ],
            [
             1,
             "#f0f921"
            ]
           ]
          },
          "colorway": [
           "#636efa",
           "#EF553B",
           "#00cc96",
           "#ab63fa",
           "#FFA15A",
           "#19d3f3",
           "#FF6692",
           "#B6E880",
           "#FF97FF",
           "#FECB52"
          ],
          "font": {
           "color": "#2a3f5f"
          },
          "geo": {
           "bgcolor": "white",
           "lakecolor": "white",
           "landcolor": "#E5ECF6",
           "showlakes": true,
           "showland": true,
           "subunitcolor": "white"
          },
          "hoverlabel": {
           "align": "left"
          },
          "hovermode": "closest",
          "mapbox": {
           "style": "light"
          },
          "paper_bgcolor": "white",
          "plot_bgcolor": "#E5ECF6",
          "polar": {
           "angularaxis": {
            "gridcolor": "white",
            "linecolor": "white",
            "ticks": ""
           },
           "bgcolor": "#E5ECF6",
           "radialaxis": {
            "gridcolor": "white",
            "linecolor": "white",
            "ticks": ""
           }
          },
          "scene": {
           "xaxis": {
            "backgroundcolor": "#E5ECF6",
            "gridcolor": "white",
            "gridwidth": 2,
            "linecolor": "white",
            "showbackground": true,
            "ticks": "",
            "zerolinecolor": "white"
           },
           "yaxis": {
            "backgroundcolor": "#E5ECF6",
            "gridcolor": "white",
            "gridwidth": 2,
            "linecolor": "white",
            "showbackground": true,
            "ticks": "",
            "zerolinecolor": "white"
           },
           "zaxis": {
            "backgroundcolor": "#E5ECF6",
            "gridcolor": "white",
            "gridwidth": 2,
            "linecolor": "white",
            "showbackground": true,
            "ticks": "",
            "zerolinecolor": "white"
           }
          },
          "shapedefaults": {
           "line": {
            "color": "#2a3f5f"
           }
          },
          "ternary": {
           "aaxis": {
            "gridcolor": "white",
            "linecolor": "white",
            "ticks": ""
           },
           "baxis": {
            "gridcolor": "white",
            "linecolor": "white",
            "ticks": ""
           },
           "bgcolor": "#E5ECF6",
           "caxis": {
            "gridcolor": "white",
            "linecolor": "white",
            "ticks": ""
           }
          },
          "title": {
           "x": 0.05
          },
          "xaxis": {
           "automargin": true,
           "gridcolor": "white",
           "linecolor": "white",
           "ticks": "",
           "title": {
            "standoff": 15
           },
           "zerolinecolor": "white",
           "zerolinewidth": 2
          },
          "yaxis": {
           "automargin": true,
           "gridcolor": "white",
           "linecolor": "white",
           "ticks": "",
           "title": {
            "standoff": 15
           },
           "zerolinecolor": "white",
           "zerolinewidth": 2
          }
         }
        },
        "title": {
         "text": "Subjectivity distribution for Amazon"
        },
        "xaxis": {
         "title": {
          "text": "value"
         }
        },
        "yaxis": {
         "title": {
          "text": "count"
         }
        }
       }
      }
     },
     "metadata": {},
     "output_type": "display_data"
    }
   ],
   "source": [
    "df_entity[\"TEXTBLOB_subjectivity\"].hist(title=f\"Subjectivity distribution for {entity}\")"
   ]
  },
  {
   "cell_type": "markdown",
   "metadata": {},
   "source": [
    "The same can be configured for any level of subjectivity by just modifying the cuts"
   ]
  },
  {
   "cell_type": "markdown",
   "metadata": {},
   "source": [
    "### Conclusion"
   ]
  },
  {
   "cell_type": "markdown",
   "metadata": {},
   "source": [
    "The twitter sentiment analysis dataset was loaded in a Pandas API on Spark dataframe. Using the cuts estimated sentiments were predicted. The predicted sentiments had a 100% accuracy if not considering Irrelevant sentiments.\n",
    "\n",
    "As discussed in the `data_analysis.ipynb` notebook the scores estimated for various tweet edits turned out to be the same.\n",
    "\n",
    "TextBlob and Vader predicted the same sentiments except for tweets labelled with `Irrelevant` sentiment where the sentiments predicted were a bit different.\n",
    "\n",
    "Finally, subjectivity scores estimated by TextBlob were used to filter tweets for better analysis of subjective and objective tweets."
   ]
  }
 ],
 "metadata": {
  "kernelspec": {
   "display_name": "Python 3.9.7 ('base')",
   "language": "python",
   "name": "python3"
  },
  "language_info": {
   "codemirror_mode": {
    "name": "ipython",
    "version": 3
   },
   "file_extension": ".py",
   "mimetype": "text/x-python",
   "name": "python",
   "nbconvert_exporter": "python",
   "pygments_lexer": "ipython3",
   "version": "3.9.7"
  },
  "orig_nbformat": 4,
  "vscode": {
   "interpreter": {
    "hash": "483976e6be53ed15e3536796ea29a75db45189630d09f63156aea8da681e3d4a"
   }
  }
 },
 "nbformat": 4,
 "nbformat_minor": 2
}
